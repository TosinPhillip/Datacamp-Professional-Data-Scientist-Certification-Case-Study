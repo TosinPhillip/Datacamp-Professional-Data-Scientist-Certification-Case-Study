{
 "cells": [
  {
   "attachments": {},
   "cell_type": "markdown",
   "metadata": {},
   "source": [
    "## This is the refined version of the DataCamp Professional Data Scientist Case Study"
   ]
  },
  {
   "attachments": {},
   "cell_type": "markdown",
   "metadata": {},
   "source": [
    "### Import the necessary libaries...\n"
   ]
  },
  {
   "cell_type": "code",
   "execution_count": 1,
   "metadata": {},
   "outputs": [],
   "source": [
    "import numpy as np\n",
    "import pandas as pd\n",
    "import matplotlib.pyplot as plt\n",
    "import seaborn as sns\n",
    "import sklearn.metrics as met\n",
    "from sklearn.preprocessing import LabelEncoder\n",
    "from sklearn.model_selection import train_test_split, RandomizedSearchCV, GridSearchCV\n",
    "from sklearn.metrics import classification_report, confusion_matrix, make_scorer, precision_score, recall_score, f1_score, precision_recall_fscore_support\n",
    "from sklearn.linear_model import LogisticRegression\n",
    "from sklearn.tree import DecisionTreeClassifier\n",
    "from sklearn.svm import SVC, LinearSVC\n",
    "from sklearn.neighbors import KNeighborsClassifier\n",
    "from sklearn.ensemble import StackingClassifier, RandomForestClassifier, VotingClassifier, AdaBoostClassifier\n",
    "#from sklearn.inspection import plot_partial_dependence"
   ]
  },
  {
   "attachments": {},
   "cell_type": "markdown",
   "metadata": {},
   "source": [
    "### ... and the data too"
   ]
  },
  {
   "cell_type": "code",
   "execution_count": 86,
   "metadata": {},
   "outputs": [],
   "source": [
    "df = pd.read_csv('event_venues.csv')"
   ]
  },
  {
   "attachments": {},
   "cell_type": "markdown",
   "metadata": {},
   "source": [
    "Viewing the data generally, is there a missing point somewhere?"
   ]
  },
  {
   "cell_type": "code",
   "execution_count": 3,
   "metadata": {},
   "outputs": [
    {
     "name": "stdout",
     "output_type": "stream",
     "text": [
      "venue_name                    0\n",
      "Loud music / events           0\n",
      "Venue provides alcohol        0\n",
      "Wi-Fi                         0\n",
      "supervenue                    0\n",
      "U-Shaped_max                  0\n",
      "max_standing                  0\n",
      "Theatre_max                   0\n",
      "Promoted / ticketed events    0\n",
      "Wheelchair accessible         0\n",
      "dtype: int64\n"
     ]
    }
   ],
   "source": [
    "print(df.isna().sum())"
   ]
  },
  {
   "attachments": {},
   "cell_type": "markdown",
   "metadata": {},
   "source": [
    "Apparently, there is no missing data. Good enough."
   ]
  },
  {
   "attachments": {},
   "cell_type": "markdown",
   "metadata": {},
   "source": [
    "How does the data look?"
   ]
  },
  {
   "cell_type": "code",
   "execution_count": 4,
   "metadata": {},
   "outputs": [
    {
     "data": {
      "text/html": [
       "<div>\n",
       "<style scoped>\n",
       "    .dataframe tbody tr th:only-of-type {\n",
       "        vertical-align: middle;\n",
       "    }\n",
       "\n",
       "    .dataframe tbody tr th {\n",
       "        vertical-align: top;\n",
       "    }\n",
       "\n",
       "    .dataframe thead th {\n",
       "        text-align: right;\n",
       "    }\n",
       "</style>\n",
       "<table border=\"1\" class=\"dataframe\">\n",
       "  <thead>\n",
       "    <tr style=\"text-align: right;\">\n",
       "      <th></th>\n",
       "      <th>venue_name</th>\n",
       "      <th>Loud music / events</th>\n",
       "      <th>Venue provides alcohol</th>\n",
       "      <th>Wi-Fi</th>\n",
       "      <th>supervenue</th>\n",
       "      <th>U-Shaped_max</th>\n",
       "      <th>max_standing</th>\n",
       "      <th>Theatre_max</th>\n",
       "      <th>Promoted / ticketed events</th>\n",
       "      <th>Wheelchair accessible</th>\n",
       "    </tr>\n",
       "  </thead>\n",
       "  <tbody>\n",
       "    <tr>\n",
       "      <th>0</th>\n",
       "      <td>techspace aldgate east</td>\n",
       "      <td>False</td>\n",
       "      <td>0</td>\n",
       "      <td>True</td>\n",
       "      <td>False</td>\n",
       "      <td>35.045455</td>\n",
       "      <td>0</td>\n",
       "      <td>112.715867</td>\n",
       "      <td>False</td>\n",
       "      <td>False</td>\n",
       "    </tr>\n",
       "    <tr>\n",
       "      <th>1</th>\n",
       "      <td>green rooms hotel</td>\n",
       "      <td>True</td>\n",
       "      <td>1</td>\n",
       "      <td>True</td>\n",
       "      <td>False</td>\n",
       "      <td>40.000000</td>\n",
       "      <td>120</td>\n",
       "      <td>80.000000</td>\n",
       "      <td>True</td>\n",
       "      <td>False</td>\n",
       "    </tr>\n",
       "    <tr>\n",
       "      <th>2</th>\n",
       "      <td>148 leadenhall street</td>\n",
       "      <td>False</td>\n",
       "      <td>0</td>\n",
       "      <td>True</td>\n",
       "      <td>False</td>\n",
       "      <td>35.045455</td>\n",
       "      <td>0</td>\n",
       "      <td>112.715867</td>\n",
       "      <td>False</td>\n",
       "      <td>False</td>\n",
       "    </tr>\n",
       "    <tr>\n",
       "      <th>3</th>\n",
       "      <td>conway hall</td>\n",
       "      <td>False</td>\n",
       "      <td>0</td>\n",
       "      <td>True</td>\n",
       "      <td>False</td>\n",
       "      <td>35.045455</td>\n",
       "      <td>60</td>\n",
       "      <td>60.000000</td>\n",
       "      <td>False</td>\n",
       "      <td>False</td>\n",
       "    </tr>\n",
       "    <tr>\n",
       "      <th>4</th>\n",
       "      <td>gridiron building</td>\n",
       "      <td>False</td>\n",
       "      <td>0</td>\n",
       "      <td>True</td>\n",
       "      <td>False</td>\n",
       "      <td>35.045455</td>\n",
       "      <td>0</td>\n",
       "      <td>112.715867</td>\n",
       "      <td>False</td>\n",
       "      <td>False</td>\n",
       "    </tr>\n",
       "  </tbody>\n",
       "</table>\n",
       "</div>"
      ],
      "text/plain": [
       "               venue_name  Loud music / events  Venue provides alcohol  Wi-Fi  \\\n",
       "0  techspace aldgate east                False                       0   True   \n",
       "1       green rooms hotel                 True                       1   True   \n",
       "2   148 leadenhall street                False                       0   True   \n",
       "3             conway hall                False                       0   True   \n",
       "4       gridiron building                False                       0   True   \n",
       "\n",
       "   supervenue  U-Shaped_max  max_standing  Theatre_max  \\\n",
       "0       False     35.045455             0   112.715867   \n",
       "1       False     40.000000           120    80.000000   \n",
       "2       False     35.045455             0   112.715867   \n",
       "3       False     35.045455            60    60.000000   \n",
       "4       False     35.045455             0   112.715867   \n",
       "\n",
       "   Promoted / ticketed events  Wheelchair accessible  \n",
       "0                       False                  False  \n",
       "1                        True                  False  \n",
       "2                       False                  False  \n",
       "3                       False                  False  \n",
       "4                       False                  False  "
      ]
     },
     "metadata": {},
     "output_type": "display_data"
    },
    {
     "name": "stdout",
     "output_type": "stream",
     "text": [
      "<class 'pandas.core.frame.DataFrame'>\n",
      "RangeIndex: 3910 entries, 0 to 3909\n",
      "Data columns (total 10 columns):\n",
      " #   Column                      Non-Null Count  Dtype  \n",
      "---  ------                      --------------  -----  \n",
      " 0   venue_name                  3910 non-null   object \n",
      " 1   Loud music / events         3910 non-null   bool   \n",
      " 2   Venue provides alcohol      3910 non-null   int64  \n",
      " 3   Wi-Fi                       3910 non-null   bool   \n",
      " 4   supervenue                  3910 non-null   bool   \n",
      " 5   U-Shaped_max                3910 non-null   float64\n",
      " 6   max_standing                3910 non-null   int64  \n",
      " 7   Theatre_max                 3910 non-null   float64\n",
      " 8   Promoted / ticketed events  3910 non-null   bool   \n",
      " 9   Wheelchair accessible       3910 non-null   bool   \n",
      "dtypes: bool(5), float64(2), int64(2), object(1)\n",
      "memory usage: 172.0+ KB\n",
      "None\n",
      "       Venue provides alcohol  U-Shaped_max  max_standing  Theatre_max\n",
      "count             3910.000000   3910.000000   3910.000000  3910.000000\n",
      "mean                 0.713299     35.045455    114.203581   112.715867\n",
      "std                  0.452278     43.937591    272.269943   131.853249\n",
      "min                  0.000000      1.000000      0.000000     1.000000\n",
      "25%                  0.000000     35.045455      0.000000    80.000000\n",
      "50%                  1.000000     35.045455     50.000000   112.715867\n",
      "75%                  1.000000     35.045455    120.000000   112.715867\n",
      "max                  1.000000   2520.000000   7500.000000  4000.000000\n"
     ]
    }
   ],
   "source": [
    "display(df.head())\n",
    "print(df.info())\n",
    "print(df.describe())"
   ]
  },
  {
   "attachments": {},
   "cell_type": "markdown",
   "metadata": {},
   "source": [
    "3910 entries and 10 columns (one of which is the target vector)"
   ]
  },
  {
   "attachments": {},
   "cell_type": "markdown",
   "metadata": {},
   "source": [
    "### VENUE NAME"
   ]
  },
  {
   "attachments": {},
   "cell_type": "markdown",
   "metadata": {},
   "source": [
    "The venue name may not contain so much information that other columns cannot reflect. This is pure assumption (and maybe a bit of domain knowledge.) We can model a way of finding out if the names matter later."
   ]
  },
  {
   "cell_type": "code",
   "execution_count": 5,
   "metadata": {},
   "outputs": [
    {
     "data": {
      "text/plain": [
       "radisson blu edwardian heathrow    27\n",
       "bma house                          24\n",
       "friends house                      23\n",
       "henry wood house                   19\n",
       "30 euston square                   18\n",
       "                                   ..\n",
       "sailing barge will                  1\n",
       "vip bus bars                        1\n",
       "the prince west brompton            1\n",
       "bizspace camberwell                 1\n",
       "hard rock cafe oxford street        1\n",
       "Name: venue_name, Length: 1444, dtype: int64"
      ]
     },
     "execution_count": 5,
     "metadata": {},
     "output_type": "execute_result"
    }
   ],
   "source": [
    "df['venue_name'].value_counts()"
   ]
  },
  {
   "attachments": {},
   "cell_type": "markdown",
   "metadata": {},
   "source": [
    "Some venues occur more than once. Maybe we should try and drop duplicate rows."
   ]
  },
  {
   "cell_type": "code",
   "execution_count": 6,
   "metadata": {},
   "outputs": [],
   "source": [
    "df.drop_duplicates(inplace=True)"
   ]
  },
  {
   "attachments": {},
   "cell_type": "markdown",
   "metadata": {},
   "source": [
    "Now, we check the shape again..."
   ]
  },
  {
   "cell_type": "code",
   "execution_count": 7,
   "metadata": {},
   "outputs": [
    {
     "data": {
      "text/plain": [
       "(3460, 10)"
      ]
     },
     "execution_count": 7,
     "metadata": {},
     "output_type": "execute_result"
    }
   ],
   "source": [
    "df.shape"
   ]
  },
  {
   "attachments": {},
   "cell_type": "markdown",
   "metadata": {},
   "source": [
    "... and 3460 rows are left..."
   ]
  },
  {
   "cell_type": "code",
   "execution_count": 8,
   "metadata": {},
   "outputs": [
    {
     "data": {
      "text/plain": [
       "bma house                                  22\n",
       "radisson blu edwardian heathrow            18\n",
       "friends house                              17\n",
       "twickenham stadium                         13\n",
       "henry wood house                           12\n",
       "                                           ..\n",
       "icetank studios                             1\n",
       "dot athena                                  1\n",
       "k arc studio                                1\n",
       "the loft - w. epic roof terrace & views     1\n",
       "hard rock cafe oxford street                1\n",
       "Name: venue_name, Length: 1444, dtype: int64"
      ]
     },
     "execution_count": 8,
     "metadata": {},
     "output_type": "execute_result"
    }
   ],
   "source": [
    "df['venue_name'].value_counts()"
   ]
  },
  {
   "attachments": {},
   "cell_type": "markdown",
   "metadata": {},
   "source": [
    "...and some venues still get repeated. Let's assume that they are venues with the same names in different places."
   ]
  },
  {
   "attachments": {},
   "cell_type": "markdown",
   "metadata": {},
   "source": [
    "### LOUD MUSIC/EVENTS"
   ]
  },
  {
   "cell_type": "code",
   "execution_count": 9,
   "metadata": {},
   "outputs": [
    {
     "data": {
      "text/plain": [
       "1323"
      ]
     },
     "execution_count": 9,
     "metadata": {},
     "output_type": "execute_result"
    }
   ],
   "source": [
    "df['Loud music / events'].sum()"
   ]
  },
  {
   "attachments": {},
   "cell_type": "markdown",
   "metadata": {},
   "source": [
    "1323 venues allow loud events. A plot will do better here..."
   ]
  },
  {
   "cell_type": "code",
   "execution_count": 10,
   "metadata": {},
   "outputs": [
    {
     "data": {
      "image/png": "[encoded data removed]",
      "text/plain": [
       "<Figure size 640x480 with 1 Axes>"
      ]
     },
     "metadata": {},
     "output_type": "display_data"
    }
   ],
   "source": [
    "sns.countplot(data=df, x='Loud music / events')\n",
    "plt.show()"
   ]
  },
  {
   "attachments": {},
   "cell_type": "markdown",
   "metadata": {},
   "source": [
    "### VENUE PROVIDES ALCOHOL"
   ]
  },
  {
   "cell_type": "code",
   "execution_count": 11,
   "metadata": {},
   "outputs": [
    {
     "data": {
      "text/plain": [
       "0       0\n",
       "1       1\n",
       "2       0\n",
       "3       0\n",
       "4       0\n",
       "       ..\n",
       "3904    1\n",
       "3905    1\n",
       "3906    0\n",
       "3907    1\n",
       "3909    0\n",
       "Name: Venue provides alcohol, Length: 3460, dtype: int64"
      ]
     },
     "execution_count": 11,
     "metadata": {},
     "output_type": "execute_result"
    }
   ],
   "source": [
    "df['Venue provides alcohol']"
   ]
  },
  {
   "attachments": {},
   "cell_type": "markdown",
   "metadata": {},
   "source": [
    "This again is a Yes-No column. Let the chart speak for itself"
   ]
  },
  {
   "cell_type": "code",
   "execution_count": 12,
   "metadata": {},
   "outputs": [
    {
     "data": {
      "image/png": "[encoded data removed]",
      "text/plain": [
       "<Figure size 640x480 with 1 Axes>"
      ]
     },
     "metadata": {},
     "output_type": "display_data"
    }
   ],
   "source": [
    "sns.countplot(data=df, x='Venue provides alcohol')\n",
    "plt.show()"
   ]
  },
  {
   "attachments": {},
   "cell_type": "markdown",
   "metadata": {},
   "source": [
    "Obviously, more venues provide alcohol than not."
   ]
  },
  {
   "attachments": {},
   "cell_type": "markdown",
   "metadata": {},
   "source": [
    "### Wi-Fi"
   ]
  },
  {
   "cell_type": "code",
   "execution_count": 13,
   "metadata": {},
   "outputs": [
    {
     "data": {
      "text/plain": [
       "0        True\n",
       "1        True\n",
       "2        True\n",
       "3        True\n",
       "4        True\n",
       "        ...  \n",
       "3904    False\n",
       "3905     True\n",
       "3906     True\n",
       "3907     True\n",
       "3909     True\n",
       "Name: Wi-Fi, Length: 3460, dtype: bool"
      ]
     },
     "execution_count": 13,
     "metadata": {},
     "output_type": "execute_result"
    }
   ],
   "source": [
    "df['Wi-Fi']"
   ]
  },
  {
   "attachments": {},
   "cell_type": "markdown",
   "metadata": {},
   "source": [
    "Yet another boolean column. Isn't this the third one or so?"
   ]
  },
  {
   "cell_type": "code",
   "execution_count": 14,
   "metadata": {},
   "outputs": [
    {
     "data": {
      "image/png": "[encoded data removed]",
      "text/plain": [
       "<Figure size 640x480 with 1 Axes>"
      ]
     },
     "metadata": {},
     "output_type": "display_data"
    }
   ],
   "source": [
    "sns.countplot(data=df, x='Wi-Fi')\n",
    "plt.show()"
   ]
  },
  {
   "attachments": {},
   "cell_type": "markdown",
   "metadata": {},
   "source": [
    "So nice that most event centre owners make Wi-Fi available."
   ]
  },
  {
   "attachments": {},
   "cell_type": "markdown",
   "metadata": {},
   "source": [
    "### supervenue"
   ]
  },
  {
   "cell_type": "code",
   "execution_count": 15,
   "metadata": {},
   "outputs": [
    {
     "data": {
      "text/plain": [
       "0       False\n",
       "1       False\n",
       "2       False\n",
       "3       False\n",
       "4       False\n",
       "        ...  \n",
       "3904    False\n",
       "3905    False\n",
       "3906    False\n",
       "3907    False\n",
       "3909    False\n",
       "Name: supervenue, Length: 3460, dtype: bool"
      ]
     },
     "execution_count": 15,
     "metadata": {},
     "output_type": "execute_result"
    }
   ],
   "source": [
    "df['supervenue']"
   ]
  },
  {
   "attachments": {},
   "cell_type": "markdown",
   "metadata": {},
   "source": [
    "Seems we have to deal with a lot of boolean columns on this one"
   ]
  },
  {
   "cell_type": "code",
   "execution_count": 16,
   "metadata": {},
   "outputs": [
    {
     "data": {
      "image/png": "[encoded data removed]",
      "text/plain": [
       "<Figure size 640x480 with 1 Axes>"
      ]
     },
     "metadata": {},
     "output_type": "display_data"
    }
   ],
   "source": [
    "sns.countplot(data=df, x='supervenue')\n",
    "plt.show()"
   ]
  },
  {
   "attachments": {},
   "cell_type": "markdown",
   "metadata": {},
   "source": [
    "Contrary to asssumptions, many of our venues are not even supervenues. _I read something about supervenues changing every week. If that is true, then it must be removed as it may not be a strong predictor of our target. By the way, is a wheel-chair ramp a condition for being a supervenue? If yes, I think ALL supervenues should have ramps._"
   ]
  },
  {
   "cell_type": "code",
   "execution_count": 17,
   "metadata": {},
   "outputs": [
    {
     "name": "stdout",
     "output_type": "stream",
     "text": [
      "30.28846153846154 % of supervenues are wheelchair accessible\n",
      "53.505535055350556 % of non_supervenues are wheelchair accessible\n"
     ]
    }
   ],
   "source": [
    "# df['supervenue'].corr(df['Wheelchair accessible'])\n",
    "\n",
    "supervenue = df[df['supervenue'] == True].shape[0]\n",
    "non_supervenue = df[df['supervenue'] == False].shape[0]\n",
    "\n",
    "supervenue_and_wheelchair_accessible = df[(df['supervenue'] == True) & (df['Wheelchair accessible'] == True)].shape[0]\n",
    "supervenue_and_not_wheelchair_accessible = df[(df['supervenue'] == True) & (df['Wheelchair accessible'] == False)].shape[0]\n",
    "\n",
    "non_supervenue_and_wheelchair_accessible = df[(df['supervenue'] == False) & (df['Wheelchair accessible'] == True)].shape[0]\n",
    "non_supervenue_and_not_wheelchair_accessible = df[(df['supervenue'] == False) & (df['Wheelchair accessible'] == False)]\n",
    "\n",
    "\n",
    "print(supervenue_and_wheelchair_accessible * 100 / supervenue, '% of supervenues are wheelchair accessible' )\n",
    "print(non_supervenue_and_wheelchair_accessible * 100 / non_supervenue, '% of non_supervenues are wheelchair accessible')"
   ]
  },
  {
   "attachments": {},
   "cell_type": "markdown",
   "metadata": {},
   "source": [
    "But that seems untrue. In fact, the percentage of supervenues with ramp is considerably lesser than the percentage of non-supervenues with ramps. Many things could have skewed the number but we know that having a ramp is not required to be a supervenue."
   ]
  },
  {
   "attachments": {},
   "cell_type": "markdown",
   "metadata": {},
   "source": [
    "Let the diagram tell the story."
   ]
  },
  {
   "cell_type": "code",
   "execution_count": 18,
   "metadata": {},
   "outputs": [
    {
     "data": {
      "image/png": "[encoded data removed]",
      "text/plain": [
       "<Figure size 640x480 with 1 Axes>"
      ]
     },
     "metadata": {},
     "output_type": "display_data"
    }
   ],
   "source": [
    "sns.countplot(data=df, x='supervenue', hue='Wheelchair accessible')\n",
    "plt.xticks([0, 1],['non-supervenue', 'supervenue'])\n",
    "plt.legend(['No ramp', 'Have ramp'])\n",
    "plt.show()"
   ]
  },
  {
   "cell_type": "code",
   "execution_count": 19,
   "metadata": {},
   "outputs": [
    {
     "data": {
      "text/plain": [
       "-0.11047278304412156"
      ]
     },
     "execution_count": 19,
     "metadata": {},
     "output_type": "execute_result"
    }
   ],
   "source": [
    "df['supervenue'].corr(df['Wheelchair accessible'])"
   ]
  },
  {
   "attachments": {},
   "cell_type": "markdown",
   "metadata": {},
   "source": [
    "In fact, there is a negative correlation between being a supervenue and having ramps. Authorities should look into this."
   ]
  },
  {
   "attachments": {},
   "cell_type": "markdown",
   "metadata": {},
   "source": [
    "### U-Shaped_max"
   ]
  },
  {
   "cell_type": "code",
   "execution_count": 20,
   "metadata": {},
   "outputs": [
    {
     "data": {
      "text/plain": [
       "0       35.045455\n",
       "1       40.000000\n",
       "2       35.045455\n",
       "3       35.045455\n",
       "4       35.045455\n",
       "          ...    \n",
       "3904    35.045455\n",
       "3905    40.000000\n",
       "3906    28.000000\n",
       "3907    13.000000\n",
       "3909    28.000000\n",
       "Name: U-Shaped_max, Length: 3460, dtype: float64"
      ]
     },
     "execution_count": 20,
     "metadata": {},
     "output_type": "execute_result"
    }
   ],
   "source": [
    "df['U-Shaped_max']"
   ]
  },
  {
   "attachments": {},
   "cell_type": "markdown",
   "metadata": {},
   "source": [
    "This is a numeric column. We expect the values to be integral since we are talking about human beings. But it is observable that some entries are float. I guess they are corrupted. We have to use some domain knowledge to replace them or just remove them altogether."
   ]
  },
  {
   "cell_type": "code",
   "execution_count": 21,
   "metadata": {},
   "outputs": [
    {
     "data": {
      "image/png": "[encoded data removed]",
      "text/plain": [
       "<Figure size 640x480 with 2 Axes>"
      ]
     },
     "metadata": {},
     "output_type": "display_data"
    }
   ],
   "source": [
    "fig, ax = plt.subplots(1, 2)\n",
    "sns.kdeplot(data=df, x='U-Shaped_max', ax=ax[0])\n",
    "sns.boxplot(data=df, x='U-Shaped_max', ax=ax[1])\n",
    "plt.show()\n"
   ]
  },
  {
   "attachments": {},
   "cell_type": "markdown",
   "metadata": {},
   "source": [
    "It is obvious that there extremely large U-Shaped theatres. It is either they are really large or they are just mistakes. If they are really large, then other values should also be large.\n",
    "\n",
    "It is not just that there are crazily large values, there are ridicoulously small ones. "
   ]
  },
  {
   "cell_type": "code",
   "execution_count": 22,
   "metadata": {},
   "outputs": [
    {
     "data": {
      "text/plain": [
       "(155, 10)"
      ]
     },
     "execution_count": 22,
     "metadata": {},
     "output_type": "execute_result"
    }
   ],
   "source": [
    "df[df['U-Shaped_max'] < 15].shape"
   ]
  },
  {
   "attachments": {},
   "cell_type": "markdown",
   "metadata": {},
   "source": [
    "155 entries are below 15 people capacity. That is ridiculous."
   ]
  },
  {
   "attachments": {},
   "cell_type": "markdown",
   "metadata": {},
   "source": [
    "Let's check if the venues are really small or they are just errors\n"
   ]
  },
  {
   "cell_type": "code",
   "execution_count": 23,
   "metadata": {},
   "outputs": [
    {
     "data": {
      "text/html": [
       "<div>\n",
       "<style scoped>\n",
       "    .dataframe tbody tr th:only-of-type {\n",
       "        vertical-align: middle;\n",
       "    }\n",
       "\n",
       "    .dataframe tbody tr th {\n",
       "        vertical-align: top;\n",
       "    }\n",
       "\n",
       "    .dataframe thead th {\n",
       "        text-align: right;\n",
       "    }\n",
       "</style>\n",
       "<table border=\"1\" class=\"dataframe\">\n",
       "  <thead>\n",
       "    <tr style=\"text-align: right;\">\n",
       "      <th></th>\n",
       "      <th>U-Shaped_max</th>\n",
       "      <th>max_standing</th>\n",
       "      <th>Theatre_max</th>\n",
       "    </tr>\n",
       "  </thead>\n",
       "  <tbody>\n",
       "    <tr>\n",
       "      <th>3771</th>\n",
       "      <td>1.0</td>\n",
       "      <td>100</td>\n",
       "      <td>1.000000</td>\n",
       "    </tr>\n",
       "    <tr>\n",
       "      <th>249</th>\n",
       "      <td>2.0</td>\n",
       "      <td>3</td>\n",
       "      <td>2.000000</td>\n",
       "    </tr>\n",
       "    <tr>\n",
       "      <th>29</th>\n",
       "      <td>4.0</td>\n",
       "      <td>10</td>\n",
       "      <td>112.715867</td>\n",
       "    </tr>\n",
       "    <tr>\n",
       "      <th>2979</th>\n",
       "      <td>4.0</td>\n",
       "      <td>5</td>\n",
       "      <td>5.000000</td>\n",
       "    </tr>\n",
       "    <tr>\n",
       "      <th>900</th>\n",
       "      <td>4.0</td>\n",
       "      <td>4</td>\n",
       "      <td>112.715867</td>\n",
       "    </tr>\n",
       "    <tr>\n",
       "      <th>489</th>\n",
       "      <td>4.0</td>\n",
       "      <td>0</td>\n",
       "      <td>112.715867</td>\n",
       "    </tr>\n",
       "    <tr>\n",
       "      <th>459</th>\n",
       "      <td>4.0</td>\n",
       "      <td>4</td>\n",
       "      <td>112.715867</td>\n",
       "    </tr>\n",
       "    <tr>\n",
       "      <th>484</th>\n",
       "      <td>5.0</td>\n",
       "      <td>0</td>\n",
       "      <td>15.000000</td>\n",
       "    </tr>\n",
       "    <tr>\n",
       "      <th>701</th>\n",
       "      <td>5.0</td>\n",
       "      <td>8</td>\n",
       "      <td>112.715867</td>\n",
       "    </tr>\n",
       "    <tr>\n",
       "      <th>824</th>\n",
       "      <td>6.0</td>\n",
       "      <td>45</td>\n",
       "      <td>35.000000</td>\n",
       "    </tr>\n",
       "  </tbody>\n",
       "</table>\n",
       "</div>"
      ],
      "text/plain": [
       "      U-Shaped_max  max_standing  Theatre_max\n",
       "3771           1.0           100     1.000000\n",
       "249            2.0             3     2.000000\n",
       "29             4.0            10   112.715867\n",
       "2979           4.0             5     5.000000\n",
       "900            4.0             4   112.715867\n",
       "489            4.0             0   112.715867\n",
       "459            4.0             4   112.715867\n",
       "484            5.0             0    15.000000\n",
       "701            5.0             8   112.715867\n",
       "824            6.0            45    35.000000"
      ]
     },
     "metadata": {},
     "output_type": "display_data"
    },
    {
     "data": {
      "text/html": [
       "<div>\n",
       "<style scoped>\n",
       "    .dataframe tbody tr th:only-of-type {\n",
       "        vertical-align: middle;\n",
       "    }\n",
       "\n",
       "    .dataframe tbody tr th {\n",
       "        vertical-align: top;\n",
       "    }\n",
       "\n",
       "    .dataframe thead th {\n",
       "        text-align: right;\n",
       "    }\n",
       "</style>\n",
       "<table border=\"1\" class=\"dataframe\">\n",
       "  <thead>\n",
       "    <tr style=\"text-align: right;\">\n",
       "      <th></th>\n",
       "      <th>Venue provides alcohol</th>\n",
       "      <th>U-Shaped_max</th>\n",
       "      <th>max_standing</th>\n",
       "      <th>Theatre_max</th>\n",
       "    </tr>\n",
       "  </thead>\n",
       "  <tbody>\n",
       "    <tr>\n",
       "      <th>count</th>\n",
       "      <td>155.000000</td>\n",
       "      <td>155.000000</td>\n",
       "      <td>155.000000</td>\n",
       "      <td>155.000000</td>\n",
       "    </tr>\n",
       "    <tr>\n",
       "      <th>mean</th>\n",
       "      <td>0.593548</td>\n",
       "      <td>10.290323</td>\n",
       "      <td>17.554839</td>\n",
       "      <td>48.807832</td>\n",
       "    </tr>\n",
       "    <tr>\n",
       "      <th>std</th>\n",
       "      <td>0.492763</td>\n",
       "      <td>2.934275</td>\n",
       "      <td>25.139647</td>\n",
       "      <td>42.045762</td>\n",
       "    </tr>\n",
       "    <tr>\n",
       "      <th>min</th>\n",
       "      <td>0.000000</td>\n",
       "      <td>1.000000</td>\n",
       "      <td>0.000000</td>\n",
       "      <td>1.000000</td>\n",
       "    </tr>\n",
       "    <tr>\n",
       "      <th>5%</th>\n",
       "      <td>0.000000</td>\n",
       "      <td>5.000000</td>\n",
       "      <td>0.000000</td>\n",
       "      <td>10.000000</td>\n",
       "    </tr>\n",
       "    <tr>\n",
       "      <th>10%</th>\n",
       "      <td>0.000000</td>\n",
       "      <td>6.000000</td>\n",
       "      <td>0.000000</td>\n",
       "      <td>12.000000</td>\n",
       "    </tr>\n",
       "    <tr>\n",
       "      <th>15%</th>\n",
       "      <td>0.000000</td>\n",
       "      <td>7.100000</td>\n",
       "      <td>0.000000</td>\n",
       "      <td>12.200000</td>\n",
       "    </tr>\n",
       "    <tr>\n",
       "      <th>20%</th>\n",
       "      <td>0.000000</td>\n",
       "      <td>8.000000</td>\n",
       "      <td>0.000000</td>\n",
       "      <td>15.800000</td>\n",
       "    </tr>\n",
       "    <tr>\n",
       "      <th>30%</th>\n",
       "      <td>0.000000</td>\n",
       "      <td>9.000000</td>\n",
       "      <td>0.000000</td>\n",
       "      <td>20.000000</td>\n",
       "    </tr>\n",
       "    <tr>\n",
       "      <th>50%</th>\n",
       "      <td>1.000000</td>\n",
       "      <td>10.000000</td>\n",
       "      <td>10.000000</td>\n",
       "      <td>25.000000</td>\n",
       "    </tr>\n",
       "    <tr>\n",
       "      <th>60%</th>\n",
       "      <td>1.000000</td>\n",
       "      <td>12.000000</td>\n",
       "      <td>20.000000</td>\n",
       "      <td>30.000000</td>\n",
       "    </tr>\n",
       "    <tr>\n",
       "      <th>90%</th>\n",
       "      <td>1.000000</td>\n",
       "      <td>14.000000</td>\n",
       "      <td>40.000000</td>\n",
       "      <td>112.715867</td>\n",
       "    </tr>\n",
       "    <tr>\n",
       "      <th>max</th>\n",
       "      <td>1.000000</td>\n",
       "      <td>14.000000</td>\n",
       "      <td>160.000000</td>\n",
       "      <td>112.715867</td>\n",
       "    </tr>\n",
       "  </tbody>\n",
       "</table>\n",
       "</div>"
      ],
      "text/plain": [
       "       Venue provides alcohol  U-Shaped_max  max_standing  Theatre_max\n",
       "count              155.000000    155.000000    155.000000   155.000000\n",
       "mean                 0.593548     10.290323     17.554839    48.807832\n",
       "std                  0.492763      2.934275     25.139647    42.045762\n",
       "min                  0.000000      1.000000      0.000000     1.000000\n",
       "5%                   0.000000      5.000000      0.000000    10.000000\n",
       "10%                  0.000000      6.000000      0.000000    12.000000\n",
       "15%                  0.000000      7.100000      0.000000    12.200000\n",
       "20%                  0.000000      8.000000      0.000000    15.800000\n",
       "30%                  0.000000      9.000000      0.000000    20.000000\n",
       "50%                  1.000000     10.000000     10.000000    25.000000\n",
       "60%                  1.000000     12.000000     20.000000    30.000000\n",
       "90%                  1.000000     14.000000     40.000000   112.715867\n",
       "max                  1.000000     14.000000    160.000000   112.715867"
      ]
     },
     "metadata": {},
     "output_type": "display_data"
    }
   ],
   "source": [
    "small_U_shaped_max = df[df['U-Shaped_max'] < 15]\n",
    "display(small_U_shaped_max[['U-Shaped_max', 'max_standing', 'Theatre_max']].sort_values('U-Shaped_max').head(10))\n",
    "display(small_U_shaped_max.describe(percentiles=[0.05, .1, .15, .2, .3, .5, .6, .9]))"
   ]
  },
  {
   "attachments": {},
   "cell_type": "markdown",
   "metadata": {},
   "source": [
    "Looking at these rows, it is evident that the low values are errors. As a means of cross-check, shall we scatter-plot these columns with each other and see if any correlation exists."
   ]
  },
  {
   "cell_type": "code",
   "execution_count": 53,
   "metadata": {},
   "outputs": [
    {
     "data": {
      "image/png": "[encoded data removed]",
      "text/plain": [
       "<Figure size 1200x200 with 3 Axes>"
      ]
     },
     "metadata": {},
     "output_type": "display_data"
    }
   ],
   "source": [
    "a = 'U-Shaped_max'\n",
    "b = 'max_standing'\n",
    "c = 'Theatre_max'\n",
    "\n",
    "fig, ax = plt.subplots(1,3, figsize=(12, 2), sharex=False, sharey=False)\n",
    "sns.scatterplot(data=df, x=a, y=b, ax=ax[0])\n",
    "sns.scatterplot(data=df, x=a, y=c, ax=ax[1])\n",
    "sns.scatterplot(data=df, x=b, y=c, ax=ax[2])\n",
    "plt.show()"
   ]
  },
  {
   "attachments": {},
   "cell_type": "markdown",
   "metadata": {},
   "source": [
    "There is no real relationship between these values. Wow!"
   ]
  },
  {
   "attachments": {},
   "cell_type": "markdown",
   "metadata": {},
   "source": [
    "Before we forget let's see how many rows are non-integral numbers"
   ]
  },
  {
   "cell_type": "code",
   "execution_count": 25,
   "metadata": {},
   "outputs": [
    {
     "data": {
      "text/plain": [
       "False"
      ]
     },
     "execution_count": 25,
     "metadata": {},
     "output_type": "execute_result"
    }
   ],
   "source": [
    "g = 400.0001\n",
    "\n",
    "def is_whole(g):\n",
    "    # This function checks if a number is whole or not, despite if it has decimal point or not.\n",
    "    meji = str(g).split('.')\n",
    "    if int(meji[1]) == 0:\n",
    "        return True\n",
    "    else:\n",
    "        return False\n",
    "    \n",
    "is_whole(g)"
   ]
  },
  {
   "cell_type": "code",
   "execution_count": 26,
   "metadata": {},
   "outputs": [
    {
     "name": "stdout",
     "output_type": "stream",
     "text": [
      "2514\n",
      "[35.04545454545455, 35.04545454545455, 35.04545454545455, 35.04545454545455, 35.04545454545455, 35.04545454545455, 35.04545454545455, 35.04545454545455, 35.04545454545455, 35.04545454545455]\n"
     ]
    }
   ],
   "source": [
    "count = 0\n",
    "idx = []\n",
    "for i in df['U-Shaped_max']:\n",
    "    if is_whole(i) == False:\n",
    "        count = count+1\n",
    "        idx.append(i)\n",
    "print(count)\n",
    "print(idx[:10])"
   ]
  },
  {
   "attachments": {},
   "cell_type": "markdown",
   "metadata": {},
   "source": [
    "There is something wrong with this column. 2514 entries are truncated. That is too much to be filled in with another general figure. Our model is basically going to memorize this value."
   ]
  },
  {
   "attachments": {},
   "cell_type": "markdown",
   "metadata": {},
   "source": [
    "### max_standing"
   ]
  },
  {
   "cell_type": "code",
   "execution_count": 27,
   "metadata": {},
   "outputs": [
    {
     "data": {
      "text/plain": [
       "0         0\n",
       "1       120\n",
       "2         0\n",
       "3        60\n",
       "4         0\n",
       "       ... \n",
       "3904    220\n",
       "3905    450\n",
       "3906      0\n",
       "3907     20\n",
       "3909      0\n",
       "Name: max_standing, Length: 3460, dtype: int64"
      ]
     },
     "execution_count": 27,
     "metadata": {},
     "output_type": "execute_result"
    }
   ],
   "source": [
    "df['max_standing']"
   ]
  },
  {
   "attachments": {},
   "cell_type": "markdown",
   "metadata": {},
   "source": [
    "Many of these rows are 0. That may be explicable. Some venues do not have standing space at all."
   ]
  },
  {
   "attachments": {},
   "cell_type": "markdown",
   "metadata": {},
   "source": [
    "How many of them have 0 standing spaces?"
   ]
  },
  {
   "cell_type": "code",
   "execution_count": 56,
   "metadata": {},
   "outputs": [
    {
     "data": {
      "text/plain": [
       "0       0.193064\n",
       "100     0.064740\n",
       "50      0.056069\n",
       "60      0.047688\n",
       "200     0.046821\n",
       "          ...   \n",
       "5000    0.000289\n",
       "880     0.000289\n",
       "440     0.000289\n",
       "490     0.000289\n",
       "169     0.000289\n",
       "Name: max_standing, Length: 138, dtype: float64"
      ]
     },
     "execution_count": 56,
     "metadata": {},
     "output_type": "execute_result"
    }
   ],
   "source": [
    "df['max_standing'].value_counts(ascending=False, normalize=True)"
   ]
  },
  {
   "cell_type": "code",
   "execution_count": 57,
   "metadata": {},
   "outputs": [
    {
     "data": {
      "image/png": "[encoded data removed]",
      "text/plain": [
       "<Figure size 640x480 with 1 Axes>"
      ]
     },
     "metadata": {},
     "output_type": "display_data"
    }
   ],
   "source": [
    "sns.histplot(data=df['max_standing'].value_counts())\n",
    "plt.show()"
   ]
  },
  {
   "attachments": {},
   "cell_type": "markdown",
   "metadata": {},
   "source": [
    "How does standing space relate with having ramps?"
   ]
  },
  {
   "cell_type": "code",
   "execution_count": 60,
   "metadata": {},
   "outputs": [
    {
     "data": {
      "image/png": "[encoded data removed]",
      "text/plain": [
       "<Figure size 640x480 with 1 Axes>"
      ]
     },
     "metadata": {},
     "output_type": "display_data"
    }
   ],
   "source": [
    "zero_standing_space = df[df['max_standing'] == 0]\n",
    "sns.countplot(data=zero_standing_space, x='max_standing', hue='Wheelchair accessible')\n",
    "plt.show()"
   ]
  },
  {
   "attachments": {},
   "cell_type": "markdown",
   "metadata": {},
   "source": [
    "Most of the venues have 0 standing space. This distribution is too skewed to be fed into the model. Before long, the model will start associating 0-stading-space with something serious."
   ]
  },
  {
   "cell_type": "code",
   "execution_count": 28,
   "metadata": {},
   "outputs": [
    {
     "data": {
      "image/png": "[encoded data removed]",
      "text/plain": [
       "<Figure size 640x480 with 2 Axes>"
      ]
     },
     "metadata": {},
     "output_type": "display_data"
    }
   ],
   "source": [
    "fig, ax = plt.subplots(1, 2)\n",
    "sns.kdeplot(data=df, x='max_standing', ax=ax[0])\n",
    "sns.boxplot(data=df, x='max_standing', ax=ax[1])\n",
    "plt.show()\n"
   ]
  },
  {
   "attachments": {},
   "cell_type": "markdown",
   "metadata": {},
   "source": [
    "Again, outliers are here. But the curve seems smooth. Let's dig deep"
   ]
  },
  {
   "attachments": {},
   "cell_type": "markdown",
   "metadata": {},
   "source": [
    "First, once bitten twice shy. We need to be sure if there are non-whole numbers here too. We see from th columns info that this column contains integers. This is comforting."
   ]
  },
  {
   "attachments": {},
   "cell_type": "markdown",
   "metadata": {},
   "source": [
    "Second, why the outliers?"
   ]
  },
  {
   "cell_type": "code",
   "execution_count": 29,
   "metadata": {},
   "outputs": [
    {
     "data": {
      "text/plain": [
       "count    3460.000000\n",
       "mean      126.390462\n",
       "std       285.898114\n",
       "min         0.000000\n",
       "1%          0.000000\n",
       "5%          0.000000\n",
       "10%         0.000000\n",
       "20%         5.000000\n",
       "30%        25.000000\n",
       "40%        40.000000\n",
       "50%        60.000000\n",
       "90%       300.000000\n",
       "95%       421.000000\n",
       "99%      1000.000000\n",
       "99.9%    3541.000000\n",
       "max      7500.000000\n",
       "Name: max_standing, dtype: float64"
      ]
     },
     "execution_count": 29,
     "metadata": {},
     "output_type": "execute_result"
    }
   ],
   "source": [
    "df['max_standing'].describe(percentiles=[.01, .05, .1, .2, .3, .4, .9, .95, .99, .999])"
   ]
  },
  {
   "attachments": {},
   "cell_type": "markdown",
   "metadata": {},
   "source": [
    "Taking the assumption that 0 standing space is agreeable, what about the top 1% that have over 1000 standing space. Are they fields? Are they really big?"
   ]
  },
  {
   "cell_type": "code",
   "execution_count": 30,
   "metadata": {},
   "outputs": [
    {
     "name": "stdout",
     "output_type": "stream",
     "text": [
      "There are 25 venues that have over 1000 standing space\n"
     ]
    }
   ],
   "source": [
    "print('There are',df[df['max_standing'] >1000].shape[0],'venues that have over 1000 standing space')"
   ]
  },
  {
   "cell_type": "code",
   "execution_count": 31,
   "metadata": {},
   "outputs": [
    {
     "data": {
      "text/html": [
       "<div>\n",
       "<style scoped>\n",
       "    .dataframe tbody tr th:only-of-type {\n",
       "        vertical-align: middle;\n",
       "    }\n",
       "\n",
       "    .dataframe tbody tr th {\n",
       "        vertical-align: top;\n",
       "    }\n",
       "\n",
       "    .dataframe thead th {\n",
       "        text-align: right;\n",
       "    }\n",
       "</style>\n",
       "<table border=\"1\" class=\"dataframe\">\n",
       "  <thead>\n",
       "    <tr style=\"text-align: right;\">\n",
       "      <th></th>\n",
       "      <th>U-Shaped_max</th>\n",
       "      <th>max_standing</th>\n",
       "      <th>Theatre_max</th>\n",
       "    </tr>\n",
       "  </thead>\n",
       "  <tbody>\n",
       "    <tr>\n",
       "      <th>2045</th>\n",
       "      <td>35.045455</td>\n",
       "      <td>1200</td>\n",
       "      <td>800.000000</td>\n",
       "    </tr>\n",
       "    <tr>\n",
       "      <th>2220</th>\n",
       "      <td>35.045455</td>\n",
       "      <td>1200</td>\n",
       "      <td>1200.000000</td>\n",
       "    </tr>\n",
       "    <tr>\n",
       "      <th>3210</th>\n",
       "      <td>35.045455</td>\n",
       "      <td>1200</td>\n",
       "      <td>112.715867</td>\n",
       "    </tr>\n",
       "    <tr>\n",
       "      <th>2806</th>\n",
       "      <td>35.045455</td>\n",
       "      <td>1200</td>\n",
       "      <td>112.715867</td>\n",
       "    </tr>\n",
       "    <tr>\n",
       "      <th>2780</th>\n",
       "      <td>35.045455</td>\n",
       "      <td>1200</td>\n",
       "      <td>1200.000000</td>\n",
       "    </tr>\n",
       "    <tr>\n",
       "      <th>2902</th>\n",
       "      <td>35.045455</td>\n",
       "      <td>1350</td>\n",
       "      <td>400.000000</td>\n",
       "    </tr>\n",
       "    <tr>\n",
       "      <th>3675</th>\n",
       "      <td>35.045455</td>\n",
       "      <td>1500</td>\n",
       "      <td>112.715867</td>\n",
       "    </tr>\n",
       "    <tr>\n",
       "      <th>3542</th>\n",
       "      <td>35.045455</td>\n",
       "      <td>1500</td>\n",
       "      <td>800.000000</td>\n",
       "    </tr>\n",
       "    <tr>\n",
       "      <th>3309</th>\n",
       "      <td>35.045455</td>\n",
       "      <td>1500</td>\n",
       "      <td>500.000000</td>\n",
       "    </tr>\n",
       "    <tr>\n",
       "      <th>3813</th>\n",
       "      <td>35.045455</td>\n",
       "      <td>1500</td>\n",
       "      <td>820.000000</td>\n",
       "    </tr>\n",
       "    <tr>\n",
       "      <th>2677</th>\n",
       "      <td>35.045455</td>\n",
       "      <td>1500</td>\n",
       "      <td>89.000000</td>\n",
       "    </tr>\n",
       "    <tr>\n",
       "      <th>943</th>\n",
       "      <td>35.045455</td>\n",
       "      <td>1500</td>\n",
       "      <td>2000.000000</td>\n",
       "    </tr>\n",
       "    <tr>\n",
       "      <th>3598</th>\n",
       "      <td>35.045455</td>\n",
       "      <td>1750</td>\n",
       "      <td>900.000000</td>\n",
       "    </tr>\n",
       "    <tr>\n",
       "      <th>3007</th>\n",
       "      <td>900.000000</td>\n",
       "      <td>1800</td>\n",
       "      <td>1200.000000</td>\n",
       "    </tr>\n",
       "    <tr>\n",
       "      <th>3015</th>\n",
       "      <td>35.045455</td>\n",
       "      <td>1800</td>\n",
       "      <td>1200.000000</td>\n",
       "    </tr>\n",
       "    <tr>\n",
       "      <th>2392</th>\n",
       "      <td>35.045455</td>\n",
       "      <td>1800</td>\n",
       "      <td>1700.000000</td>\n",
       "    </tr>\n",
       "    <tr>\n",
       "      <th>2908</th>\n",
       "      <td>35.045455</td>\n",
       "      <td>2250</td>\n",
       "      <td>112.715867</td>\n",
       "    </tr>\n",
       "    <tr>\n",
       "      <th>3606</th>\n",
       "      <td>35.045455</td>\n",
       "      <td>2500</td>\n",
       "      <td>2500.000000</td>\n",
       "    </tr>\n",
       "    <tr>\n",
       "      <th>2406</th>\n",
       "      <td>35.045455</td>\n",
       "      <td>3000</td>\n",
       "      <td>112.715867</td>\n",
       "    </tr>\n",
       "    <tr>\n",
       "      <th>2926</th>\n",
       "      <td>35.045455</td>\n",
       "      <td>3000</td>\n",
       "      <td>1920.000000</td>\n",
       "    </tr>\n",
       "    <tr>\n",
       "      <th>2112</th>\n",
       "      <td>35.045455</td>\n",
       "      <td>3000</td>\n",
       "      <td>112.715867</td>\n",
       "    </tr>\n",
       "    <tr>\n",
       "      <th>2708</th>\n",
       "      <td>35.045455</td>\n",
       "      <td>4000</td>\n",
       "      <td>4000.000000</td>\n",
       "    </tr>\n",
       "    <tr>\n",
       "      <th>2063</th>\n",
       "      <td>35.045455</td>\n",
       "      <td>5000</td>\n",
       "      <td>112.715867</td>\n",
       "    </tr>\n",
       "    <tr>\n",
       "      <th>383</th>\n",
       "      <td>35.045455</td>\n",
       "      <td>7000</td>\n",
       "      <td>112.715867</td>\n",
       "    </tr>\n",
       "    <tr>\n",
       "      <th>3746</th>\n",
       "      <td>35.045455</td>\n",
       "      <td>7500</td>\n",
       "      <td>112.715867</td>\n",
       "    </tr>\n",
       "  </tbody>\n",
       "</table>\n",
       "</div>"
      ],
      "text/plain": [
       "      U-Shaped_max  max_standing  Theatre_max\n",
       "2045     35.045455          1200   800.000000\n",
       "2220     35.045455          1200  1200.000000\n",
       "3210     35.045455          1200   112.715867\n",
       "2806     35.045455          1200   112.715867\n",
       "2780     35.045455          1200  1200.000000\n",
       "2902     35.045455          1350   400.000000\n",
       "3675     35.045455          1500   112.715867\n",
       "3542     35.045455          1500   800.000000\n",
       "3309     35.045455          1500   500.000000\n",
       "3813     35.045455          1500   820.000000\n",
       "2677     35.045455          1500    89.000000\n",
       "943      35.045455          1500  2000.000000\n",
       "3598     35.045455          1750   900.000000\n",
       "3007    900.000000          1800  1200.000000\n",
       "3015     35.045455          1800  1200.000000\n",
       "2392     35.045455          1800  1700.000000\n",
       "2908     35.045455          2250   112.715867\n",
       "3606     35.045455          2500  2500.000000\n",
       "2406     35.045455          3000   112.715867\n",
       "2926     35.045455          3000  1920.000000\n",
       "2112     35.045455          3000   112.715867\n",
       "2708     35.045455          4000  4000.000000\n",
       "2063     35.045455          5000   112.715867\n",
       "383      35.045455          7000   112.715867\n",
       "3746     35.045455          7500   112.715867"
      ]
     },
     "metadata": {},
     "output_type": "display_data"
    },
    {
     "data": {
      "text/html": [
       "<div>\n",
       "<style scoped>\n",
       "    .dataframe tbody tr th:only-of-type {\n",
       "        vertical-align: middle;\n",
       "    }\n",
       "\n",
       "    .dataframe tbody tr th {\n",
       "        vertical-align: top;\n",
       "    }\n",
       "\n",
       "    .dataframe thead th {\n",
       "        text-align: right;\n",
       "    }\n",
       "</style>\n",
       "<table border=\"1\" class=\"dataframe\">\n",
       "  <thead>\n",
       "    <tr style=\"text-align: right;\">\n",
       "      <th></th>\n",
       "      <th>Venue provides alcohol</th>\n",
       "      <th>U-Shaped_max</th>\n",
       "      <th>max_standing</th>\n",
       "      <th>Theatre_max</th>\n",
       "    </tr>\n",
       "  </thead>\n",
       "  <tbody>\n",
       "    <tr>\n",
       "      <th>count</th>\n",
       "      <td>25.000000</td>\n",
       "      <td>25.000000</td>\n",
       "      <td>25.000000</td>\n",
       "      <td>25.000000</td>\n",
       "    </tr>\n",
       "    <tr>\n",
       "      <th>mean</th>\n",
       "      <td>0.840000</td>\n",
       "      <td>69.643636</td>\n",
       "      <td>2430.000000</td>\n",
       "      <td>889.737712</td>\n",
       "    </tr>\n",
       "    <tr>\n",
       "      <th>std</th>\n",
       "      <td>0.374166</td>\n",
       "      <td>172.990909</td>\n",
       "      <td>1734.995197</td>\n",
       "      <td>959.388583</td>\n",
       "    </tr>\n",
       "    <tr>\n",
       "      <th>min</th>\n",
       "      <td>0.000000</td>\n",
       "      <td>35.045455</td>\n",
       "      <td>1200.000000</td>\n",
       "      <td>89.000000</td>\n",
       "    </tr>\n",
       "    <tr>\n",
       "      <th>25%</th>\n",
       "      <td>1.000000</td>\n",
       "      <td>35.045455</td>\n",
       "      <td>1500.000000</td>\n",
       "      <td>112.715867</td>\n",
       "    </tr>\n",
       "    <tr>\n",
       "      <th>50%</th>\n",
       "      <td>1.000000</td>\n",
       "      <td>35.045455</td>\n",
       "      <td>1750.000000</td>\n",
       "      <td>800.000000</td>\n",
       "    </tr>\n",
       "    <tr>\n",
       "      <th>75%</th>\n",
       "      <td>1.000000</td>\n",
       "      <td>35.045455</td>\n",
       "      <td>3000.000000</td>\n",
       "      <td>1200.000000</td>\n",
       "    </tr>\n",
       "    <tr>\n",
       "      <th>max</th>\n",
       "      <td>1.000000</td>\n",
       "      <td>900.000000</td>\n",
       "      <td>7500.000000</td>\n",
       "      <td>4000.000000</td>\n",
       "    </tr>\n",
       "  </tbody>\n",
       "</table>\n",
       "</div>"
      ],
      "text/plain": [
       "       Venue provides alcohol  U-Shaped_max  max_standing  Theatre_max\n",
       "count               25.000000     25.000000     25.000000    25.000000\n",
       "mean                 0.840000     69.643636   2430.000000   889.737712\n",
       "std                  0.374166    172.990909   1734.995197   959.388583\n",
       "min                  0.000000     35.045455   1200.000000    89.000000\n",
       "25%                  1.000000     35.045455   1500.000000   112.715867\n",
       "50%                  1.000000     35.045455   1750.000000   800.000000\n",
       "75%                  1.000000     35.045455   3000.000000  1200.000000\n",
       "max                  1.000000    900.000000   7500.000000  4000.000000"
      ]
     },
     "metadata": {},
     "output_type": "display_data"
    }
   ],
   "source": [
    "large_standing_space = df[df['max_standing'] > 1000]\n",
    "display(large_standing_space[['U-Shaped_max', 'max_standing', 'Theatre_max']].sort_values('max_standing'))\n",
    "display(large_standing_space.describe())"
   ]
  },
  {
   "attachments": {},
   "cell_type": "markdown",
   "metadata": {},
   "source": [
    "The values look sensible compared to other columns. We shall leave it untouched"
   ]
  },
  {
   "attachments": {},
   "cell_type": "markdown",
   "metadata": {},
   "source": [
    "### Theatre_max"
   ]
  },
  {
   "cell_type": "code",
   "execution_count": 32,
   "metadata": {},
   "outputs": [
    {
     "data": {
      "text/plain": [
       "0       112.715867\n",
       "1        80.000000\n",
       "2       112.715867\n",
       "3        60.000000\n",
       "4       112.715867\n",
       "           ...    \n",
       "3904    112.715867\n",
       "3905    450.000000\n",
       "3906     28.000000\n",
       "3907     20.000000\n",
       "3909    100.000000\n",
       "Name: Theatre_max, Length: 3460, dtype: float64"
      ]
     },
     "execution_count": 32,
     "metadata": {},
     "output_type": "execute_result"
    }
   ],
   "source": [
    "df['Theatre_max']"
   ]
  },
  {
   "attachments": {},
   "cell_type": "markdown",
   "metadata": {},
   "source": [
    "Again, the non-whole number issue arises here again."
   ]
  },
  {
   "cell_type": "code",
   "execution_count": 33,
   "metadata": {},
   "outputs": [
    {
     "name": "stdout",
     "output_type": "stream",
     "text": [
      "1894\n",
      "[112.7158671586716, 112.7158671586716, 112.7158671586716, 112.7158671586716, 112.7158671586716, 112.7158671586716, 112.7158671586716, 112.7158671586716, 112.7158671586716, 112.7158671586716]\n"
     ]
    }
   ],
   "source": [
    "count = 0\n",
    "idx = []\n",
    "for i in df['Theatre_max']:\n",
    "    if is_whole(i) == False:\n",
    "        count = count+1\n",
    "        idx.append(i)\n",
    "print(count)\n",
    "print(idx[:10])"
   ]
  },
  {
   "attachments": {},
   "cell_type": "markdown",
   "metadata": {},
   "source": [
    "A very large number of the entries here are also non-whole numbers. This has discredited the integrity of this column. It is better to train an underinformed model than train a misinformed model. \n",
    "### _Just saying..._"
   ]
  },
  {
   "cell_type": "code",
   "execution_count": 34,
   "metadata": {},
   "outputs": [
    {
     "data": {
      "image/png": "[encoded data removed]",
      "text/plain": [
       "<Figure size 640x480 with 2 Axes>"
      ]
     },
     "metadata": {},
     "output_type": "display_data"
    }
   ],
   "source": [
    "fig, ax = plt.subplots(1, 2)\n",
    "sns.kdeplot(data=df, x='Theatre_max', ax=ax[0])\n",
    "sns.boxplot(data=df, x='Theatre_max', ax=ax[1])\n",
    "plt.show()\n"
   ]
  },
  {
   "attachments": {},
   "cell_type": "markdown",
   "metadata": {},
   "source": [
    "### Promoted / ticketed events"
   ]
  },
  {
   "cell_type": "code",
   "execution_count": 35,
   "metadata": {},
   "outputs": [
    {
     "data": {
      "text/plain": [
       "0       False\n",
       "1        True\n",
       "2       False\n",
       "3       False\n",
       "4       False\n",
       "        ...  \n",
       "3904    False\n",
       "3905    False\n",
       "3906    False\n",
       "3907    False\n",
       "3909    False\n",
       "Name: Promoted / ticketed events, Length: 3460, dtype: bool"
      ]
     },
     "execution_count": 35,
     "metadata": {},
     "output_type": "execute_result"
    }
   ],
   "source": [
    "df['Promoted / ticketed events']"
   ]
  },
  {
   "cell_type": "code",
   "execution_count": 36,
   "metadata": {},
   "outputs": [
    {
     "data": {
      "image/png": "[encoded data removed]",
      "text/plain": [
       "<Figure size 640x480 with 1 Axes>"
      ]
     },
     "metadata": {},
     "output_type": "display_data"
    }
   ],
   "source": [
    "sns.countplot(data=df, x='Promoted / ticketed events')\n",
    "plt.show()"
   ]
  },
  {
   "attachments": {},
   "cell_type": "markdown",
   "metadata": {},
   "source": [
    "Although the difference is small, more venues do not promote their events."
   ]
  },
  {
   "attachments": {},
   "cell_type": "markdown",
   "metadata": {},
   "source": [
    "### Wheelchair acsessible"
   ]
  },
  {
   "cell_type": "code",
   "execution_count": 37,
   "metadata": {},
   "outputs": [
    {
     "data": {
      "image/png": "[encoded data removed]",
      "text/plain": [
       "<Figure size 640x480 with 1 Axes>"
      ]
     },
     "metadata": {},
     "output_type": "display_data"
    }
   ],
   "source": [
    "sns.countplot(data=df, x='Wheelchair accessible')\n",
    "plt.show()"
   ]
  },
  {
   "attachments": {},
   "cell_type": "markdown",
   "metadata": {},
   "source": [
    "Almost an equal amount of venues have and don't have ramps. That makes it a balanced dataset or almost."
   ]
  },
  {
   "attachments": {},
   "cell_type": "markdown",
   "metadata": {},
   "source": [
    "Let's tidy up the data. What are our steps?\n",
    "\n",
    "* Drop venue_name, U-Shaped_max, Theatre_max\n",
    "* Encode Loud music / events, Wi-Fi\n",
    "* Separate the Wheelchair accessible column\n"
   ]
  },
  {
   "cell_type": "code",
   "execution_count": 76,
   "metadata": {},
   "outputs": [],
   "source": [
    "def wrangle(file, filepath=False):\n",
    "    \"\"\"This function wrangles any dataframe given to it the same way we have\n",
    "    done for this event dataset. It takes a file name and a boolean that describes if the \n",
    "    file name is its path or an already instantiated dataframe.\n",
    "    \"\"\"\n",
    "    \n",
    "    if filepath is True:\n",
    "        #This is to test if the filename is a filepath. It reads the file into a pandas DataFrame\n",
    "        data = pd.read_csv(file)\n",
    "    else:\n",
    "        data=file\n",
    "        \n",
    "    # Here we drop unneeded columns    \n",
    "    data.drop(['venue_name', 'U-Shaped_max', 'Theatre_max'], axis=1, inplace=True)\n",
    "    \n",
    "    # And encode categorical columns\n",
    "    data = pd.get_dummies(data, drop_first=True)\n",
    "    \n",
    "    #The target vector is popped\n",
    "    target = data.pop('Wheelchair accessible')\n",
    "    \n",
    "    # Finally, we split the data into training, testing and validating set.\n",
    "    X_train, X_hold, y_train, y_hold = train_test_split(data, target, random_state=1221, train_size=.7)\n",
    "    X_test, X_val, y_test, y_val = train_test_split(X_hold, y_hold, random_state=121, test_size=.5)\n",
    "    \n",
    "    return X_train, X_test, X_val, y_train, y_test, y_val\n",
    "        "
   ]
  },
  {
   "cell_type": "code",
   "execution_count": 87,
   "metadata": {},
   "outputs": [],
   "source": [
    "df.drop(['venue_name', 'U-Shaped_max', 'Theatre_max', 'max_standing'], axis=1, inplace=True)\n",
    "    \n",
    "# And encode categorical columns\n",
    "df = pd.get_dummies(df, drop_first=True)\n",
    "    \n",
    "#The target vector is popped\n",
    "target = df.pop('Wheelchair accessible')\n",
    "    \n",
    "# Finally, we split the data into training, testing and validating set.\n",
    "X_train, X_hold, y_train, y_hold = train_test_split(df, target, random_state=1221, train_size=.7)\n",
    "X_test, X_val, y_test, y_val = train_test_split(X_hold, y_hold, random_state=121, test_size=.5)\n",
    "    "
   ]
  },
  {
   "cell_type": "code",
   "execution_count": 88,
   "metadata": {},
   "outputs": [
    {
     "data": {
      "text/html": [
       "<div>\n",
       "<style scoped>\n",
       "    .dataframe tbody tr th:only-of-type {\n",
       "        vertical-align: middle;\n",
       "    }\n",
       "\n",
       "    .dataframe tbody tr th {\n",
       "        vertical-align: top;\n",
       "    }\n",
       "\n",
       "    .dataframe thead th {\n",
       "        text-align: right;\n",
       "    }\n",
       "</style>\n",
       "<table border=\"1\" class=\"dataframe\">\n",
       "  <thead>\n",
       "    <tr style=\"text-align: right;\">\n",
       "      <th></th>\n",
       "      <th>Loud music / events</th>\n",
       "      <th>Venue provides alcohol</th>\n",
       "      <th>Wi-Fi</th>\n",
       "      <th>supervenue</th>\n",
       "      <th>Promoted / ticketed events</th>\n",
       "    </tr>\n",
       "  </thead>\n",
       "  <tbody>\n",
       "    <tr>\n",
       "      <th>0</th>\n",
       "      <td>False</td>\n",
       "      <td>0</td>\n",
       "      <td>True</td>\n",
       "      <td>False</td>\n",
       "      <td>False</td>\n",
       "    </tr>\n",
       "    <tr>\n",
       "      <th>1</th>\n",
       "      <td>True</td>\n",
       "      <td>1</td>\n",
       "      <td>True</td>\n",
       "      <td>False</td>\n",
       "      <td>True</td>\n",
       "    </tr>\n",
       "    <tr>\n",
       "      <th>2</th>\n",
       "      <td>False</td>\n",
       "      <td>0</td>\n",
       "      <td>True</td>\n",
       "      <td>False</td>\n",
       "      <td>False</td>\n",
       "    </tr>\n",
       "    <tr>\n",
       "      <th>3</th>\n",
       "      <td>False</td>\n",
       "      <td>0</td>\n",
       "      <td>True</td>\n",
       "      <td>False</td>\n",
       "      <td>False</td>\n",
       "    </tr>\n",
       "    <tr>\n",
       "      <th>4</th>\n",
       "      <td>False</td>\n",
       "      <td>0</td>\n",
       "      <td>True</td>\n",
       "      <td>False</td>\n",
       "      <td>False</td>\n",
       "    </tr>\n",
       "  </tbody>\n",
       "</table>\n",
       "</div>"
      ],
      "text/plain": [
       "   Loud music / events  Venue provides alcohol  Wi-Fi  supervenue  \\\n",
       "0                False                       0   True       False   \n",
       "1                 True                       1   True       False   \n",
       "2                False                       0   True       False   \n",
       "3                False                       0   True       False   \n",
       "4                False                       0   True       False   \n",
       "\n",
       "   Promoted / ticketed events  \n",
       "0                       False  \n",
       "1                        True  \n",
       "2                       False  \n",
       "3                       False  \n",
       "4                       False  "
      ]
     },
     "execution_count": 88,
     "metadata": {},
     "output_type": "execute_result"
    }
   ],
   "source": [
    "df.head()"
   ]
  },
  {
   "cell_type": "code",
   "execution_count": 85,
   "metadata": {},
   "outputs": [],
   "source": [
    "def assess(true_value, predicted_value):\n",
    "    cm = confusion_matrix(true_value, predicted_value)\n",
    "    # disp = ConfusionMatrixDisplay(confusion_matrix=cm)\n",
    "    cr = classification_report(true_value, predicted_value)\n",
    "    print(cm)\n",
    "    # disp.plot()\n",
    "    print(cr)\n",
    "    \n",
    "def assess_classifier(model):\n",
    "    '''\n",
    "    My classification model assessment function\n",
    "    '''\n",
    "    \n",
    "    train_acc = met.accuracy_score(y_train, model.predict(X_train))\n",
    "    train_bal_acc = met.balanced_accuracy_score(y_train, model.predict(X_train))\n",
    "    train_f1 = met.f1_score(y_train, model.predict(X_train))\n",
    "    train_recall = met.recall_score(y_train, model.predict(X_train))\n",
    "    train_precision = met.precision_score(y_train, model.predict(X_train))\n",
    "    \n",
    "    test_acc = met.accuracy_score(y_test, model.predict(X_test))\n",
    "    test_bal_acc = met.balanced_accuracy_score(y_test, model.predict(X_test))\n",
    "    test_f1 = met.f1_score(y_test, model.predict(X_test))\n",
    "    test_recall = met.recall_score(y_test, model.predict(X_test))\n",
    "    test_precision = met.precision_score(y_test, model.predict(X_test))\n",
    "    \n",
    "    val_acc = met.accuracy_score(y_val, model.predict(X_val))\n",
    "    val_bal_acc = met.balanced_accuracy_score(y_val, model.predict(X_val))\n",
    "    val_f1 = met.f1_score(y_val, model.predict(X_val))\n",
    "    val_recall = met.recall_score(y_val, model.predict(X_val))\n",
    "    val_precision = met.precision_score(y_val, model.predict(X_val))\n",
    "    \n",
    "    dafa = pd.DataFrame({\n",
    "        'Accuracy':[train_acc, test_acc, val_acc],\n",
    "        'Balanced Accuracy':[train_bal_acc, test_bal_acc, val_bal_acc],\n",
    "        'F1 score':[train_f1, test_f1, val_f1],\n",
    "        'Recall':[train_recall, test_recall, val_recall],\n",
    "        'Precision':[train_precision, test_precision, val_precision]}, \n",
    "        \n",
    "        index=['Train', 'Test', 'Validation']\n",
    "    )\n",
    "    display(dafa)"
   ]
  },
  {
   "attachments": {},
   "cell_type": "markdown",
   "metadata": {},
   "source": [
    "A Decision Tree"
   ]
  },
  {
   "cell_type": "code",
   "execution_count": 105,
   "metadata": {},
   "outputs": [
    {
     "data": {
      "text/html": [
       "<div>\n",
       "<style scoped>\n",
       "    .dataframe tbody tr th:only-of-type {\n",
       "        vertical-align: middle;\n",
       "    }\n",
       "\n",
       "    .dataframe tbody tr th {\n",
       "        vertical-align: top;\n",
       "    }\n",
       "\n",
       "    .dataframe thead th {\n",
       "        text-align: right;\n",
       "    }\n",
       "</style>\n",
       "<table border=\"1\" class=\"dataframe\">\n",
       "  <thead>\n",
       "    <tr style=\"text-align: right;\">\n",
       "      <th></th>\n",
       "      <th>Accuracy</th>\n",
       "      <th>Balanced Accuracy</th>\n",
       "      <th>F1 score</th>\n",
       "      <th>Recall</th>\n",
       "      <th>Precision</th>\n",
       "    </tr>\n",
       "  </thead>\n",
       "  <tbody>\n",
       "    <tr>\n",
       "      <th>Train</th>\n",
       "      <td>0.608330</td>\n",
       "      <td>0.607328</td>\n",
       "      <td>0.642428</td>\n",
       "      <td>0.695809</td>\n",
       "      <td>0.596654</td>\n",
       "    </tr>\n",
       "    <tr>\n",
       "      <th>Test</th>\n",
       "      <td>0.595563</td>\n",
       "      <td>0.595563</td>\n",
       "      <td>0.641452</td>\n",
       "      <td>0.723549</td>\n",
       "      <td>0.576087</td>\n",
       "    </tr>\n",
       "    <tr>\n",
       "      <th>Validation</th>\n",
       "      <td>0.596252</td>\n",
       "      <td>0.600987</td>\n",
       "      <td>0.618357</td>\n",
       "      <td>0.690647</td>\n",
       "      <td>0.559767</td>\n",
       "    </tr>\n",
       "  </tbody>\n",
       "</table>\n",
       "</div>"
      ],
      "text/plain": [
       "            Accuracy  Balanced Accuracy  F1 score    Recall  Precision\n",
       "Train       0.608330           0.607328  0.642428  0.695809   0.596654\n",
       "Test        0.595563           0.595563  0.641452  0.723549   0.576087\n",
       "Validation  0.596252           0.600987  0.618357  0.690647   0.559767"
      ]
     },
     "metadata": {},
     "output_type": "display_data"
    },
    {
     "data": {
      "image/png": "[encoded data removed]",
      "text/plain": [
       "<Figure size 640x480 with 1 Axes>"
      ]
     },
     "metadata": {},
     "output_type": "display_data"
    }
   ],
   "source": [
    "base_dtc = DecisionTreeClassifier()\n",
    "base_dtc.fit(X_train, y_train) \n",
    "assess_classifier(base_dtc)\n",
    "\n",
    "sns.barplot(x=X_train.columns, y=base_dtc.feature_importances_)\n",
    "plt.xticks(rotation=60)\n",
    "plt.show()"
   ]
  },
  {
   "cell_type": "code",
   "execution_count": 104,
   "metadata": {},
   "outputs": [
    {
     "data": {
      "text/html": [
       "<div>\n",
       "<style scoped>\n",
       "    .dataframe tbody tr th:only-of-type {\n",
       "        vertical-align: middle;\n",
       "    }\n",
       "\n",
       "    .dataframe tbody tr th {\n",
       "        vertical-align: top;\n",
       "    }\n",
       "\n",
       "    .dataframe thead th {\n",
       "        text-align: right;\n",
       "    }\n",
       "</style>\n",
       "<table border=\"1\" class=\"dataframe\">\n",
       "  <thead>\n",
       "    <tr style=\"text-align: right;\">\n",
       "      <th></th>\n",
       "      <th>Accuracy</th>\n",
       "      <th>Balanced Accuracy</th>\n",
       "      <th>F1 score</th>\n",
       "      <th>Recall</th>\n",
       "      <th>Precision</th>\n",
       "    </tr>\n",
       "  </thead>\n",
       "  <tbody>\n",
       "    <tr>\n",
       "      <th>Train</th>\n",
       "      <td>0.601023</td>\n",
       "      <td>0.599399</td>\n",
       "      <td>0.653113</td>\n",
       "      <td>0.742775</td>\n",
       "      <td>0.582766</td>\n",
       "    </tr>\n",
       "    <tr>\n",
       "      <th>Test</th>\n",
       "      <td>0.583618</td>\n",
       "      <td>0.583618</td>\n",
       "      <td>0.646377</td>\n",
       "      <td>0.761092</td>\n",
       "      <td>0.561713</td>\n",
       "    </tr>\n",
       "    <tr>\n",
       "      <th>Validation</th>\n",
       "      <td>0.582624</td>\n",
       "      <td>0.591471</td>\n",
       "      <td>0.632684</td>\n",
       "      <td>0.758993</td>\n",
       "      <td>0.542416</td>\n",
       "    </tr>\n",
       "  </tbody>\n",
       "</table>\n",
       "</div>"
      ],
      "text/plain": [
       "            Accuracy  Balanced Accuracy  F1 score    Recall  Precision\n",
       "Train       0.601023           0.599399  0.653113  0.742775   0.582766\n",
       "Test        0.583618           0.583618  0.646377  0.761092   0.561713\n",
       "Validation  0.582624           0.591471  0.632684  0.758993   0.542416"
      ]
     },
     "metadata": {},
     "output_type": "display_data"
    },
    {
     "data": {
      "image/png": "[encoded data removed]",
      "text/plain": [
       "<Figure size 640x480 with 1 Axes>"
      ]
     },
     "metadata": {},
     "output_type": "display_data"
    }
   ],
   "source": [
    "tuned_dtc = DecisionTreeClassifier(max_leaf_nodes=5, min_samples_leaf=4)\n",
    "tuned_dtc.fit(X_train, y_train)\n",
    "assess_classifier(tuned_dtc)\n",
    "\n",
    "#We also want to see what our model thinks is important\n",
    "sns.barplot(x=X_train.columns, y=tuned_dtc.feature_importances_)\n",
    "plt.xticks(rotation=60)\n",
    "plt.show()"
   ]
  },
  {
   "attachments": {},
   "cell_type": "markdown",
   "metadata": {},
   "source": [
    "Random Forest Ensemble"
   ]
  },
  {
   "cell_type": "code",
   "execution_count": 106,
   "metadata": {},
   "outputs": [
    {
     "data": {
      "text/html": [
       "<div>\n",
       "<style scoped>\n",
       "    .dataframe tbody tr th:only-of-type {\n",
       "        vertical-align: middle;\n",
       "    }\n",
       "\n",
       "    .dataframe tbody tr th {\n",
       "        vertical-align: top;\n",
       "    }\n",
       "\n",
       "    .dataframe thead th {\n",
       "        text-align: right;\n",
       "    }\n",
       "</style>\n",
       "<table border=\"1\" class=\"dataframe\">\n",
       "  <thead>\n",
       "    <tr style=\"text-align: right;\">\n",
       "      <th></th>\n",
       "      <th>Accuracy</th>\n",
       "      <th>Balanced Accuracy</th>\n",
       "      <th>F1 score</th>\n",
       "      <th>Recall</th>\n",
       "      <th>Precision</th>\n",
       "    </tr>\n",
       "  </thead>\n",
       "  <tbody>\n",
       "    <tr>\n",
       "      <th>Train</th>\n",
       "      <td>0.608330</td>\n",
       "      <td>0.607237</td>\n",
       "      <td>0.645033</td>\n",
       "      <td>0.703757</td>\n",
       "      <td>0.595355</td>\n",
       "    </tr>\n",
       "    <tr>\n",
       "      <th>Test</th>\n",
       "      <td>0.590444</td>\n",
       "      <td>0.590444</td>\n",
       "      <td>0.641791</td>\n",
       "      <td>0.733788</td>\n",
       "      <td>0.570292</td>\n",
       "    </tr>\n",
       "    <tr>\n",
       "      <th>Validation</th>\n",
       "      <td>0.599659</td>\n",
       "      <td>0.604584</td>\n",
       "      <td>0.622793</td>\n",
       "      <td>0.697842</td>\n",
       "      <td>0.562319</td>\n",
       "    </tr>\n",
       "  </tbody>\n",
       "</table>\n",
       "</div>"
      ],
      "text/plain": [
       "            Accuracy  Balanced Accuracy  F1 score    Recall  Precision\n",
       "Train       0.608330           0.607237  0.645033  0.703757   0.595355\n",
       "Test        0.590444           0.590444  0.641791  0.733788   0.570292\n",
       "Validation  0.599659           0.604584  0.622793  0.697842   0.562319"
      ]
     },
     "metadata": {},
     "output_type": "display_data"
    },
    {
     "data": {
      "image/png": "[encoded data removed]",
      "text/plain": [
       "<Figure size 640x480 with 1 Axes>"
      ]
     },
     "metadata": {},
     "output_type": "display_data"
    }
   ],
   "source": [
    "base_rfc = RandomForestClassifier()\n",
    "base_rfc.fit(X_train, y_train)\n",
    "assess_classifier(base_rfc)\n",
    "\n",
    "sns.barplot(x=X_train.columns, y=base_rfc.feature_importances_)\n",
    "plt.xticks(rotation=60)\n",
    "plt.show()"
   ]
  },
  {
   "cell_type": "code",
   "execution_count": 107,
   "metadata": {},
   "outputs": [
    {
     "data": {
      "text/html": [
       "<div>\n",
       "<style scoped>\n",
       "    .dataframe tbody tr th:only-of-type {\n",
       "        vertical-align: middle;\n",
       "    }\n",
       "\n",
       "    .dataframe tbody tr th {\n",
       "        vertical-align: top;\n",
       "    }\n",
       "\n",
       "    .dataframe thead th {\n",
       "        text-align: right;\n",
       "    }\n",
       "</style>\n",
       "<table border=\"1\" class=\"dataframe\">\n",
       "  <thead>\n",
       "    <tr style=\"text-align: right;\">\n",
       "      <th></th>\n",
       "      <th>Accuracy</th>\n",
       "      <th>Balanced Accuracy</th>\n",
       "      <th>F1 score</th>\n",
       "      <th>Recall</th>\n",
       "      <th>Precision</th>\n",
       "    </tr>\n",
       "  </thead>\n",
       "  <tbody>\n",
       "    <tr>\n",
       "      <th>Train</th>\n",
       "      <td>0.608330</td>\n",
       "      <td>0.607328</td>\n",
       "      <td>0.642428</td>\n",
       "      <td>0.695809</td>\n",
       "      <td>0.596654</td>\n",
       "    </tr>\n",
       "    <tr>\n",
       "      <th>Test</th>\n",
       "      <td>0.595563</td>\n",
       "      <td>0.595563</td>\n",
       "      <td>0.641452</td>\n",
       "      <td>0.723549</td>\n",
       "      <td>0.576087</td>\n",
       "    </tr>\n",
       "    <tr>\n",
       "      <th>Validation</th>\n",
       "      <td>0.596252</td>\n",
       "      <td>0.600987</td>\n",
       "      <td>0.618357</td>\n",
       "      <td>0.690647</td>\n",
       "      <td>0.559767</td>\n",
       "    </tr>\n",
       "  </tbody>\n",
       "</table>\n",
       "</div>"
      ],
      "text/plain": [
       "            Accuracy  Balanced Accuracy  F1 score    Recall  Precision\n",
       "Train       0.608330           0.607328  0.642428  0.695809   0.596654\n",
       "Test        0.595563           0.595563  0.641452  0.723549   0.576087\n",
       "Validation  0.596252           0.600987  0.618357  0.690647   0.559767"
      ]
     },
     "metadata": {},
     "output_type": "display_data"
    },
    {
     "data": {
      "image/png": "[encoded data removed]",
      "text/plain": [
       "<Figure size 640x480 with 1 Axes>"
      ]
     },
     "metadata": {},
     "output_type": "display_data"
    }
   ],
   "source": [
    "tuned_rfc = RandomForestClassifier(n_estimators=1000, max_samples=500,\n",
    "                                   max_features=4, min_samples_leaf=.0000001)\n",
    "tuned_rfc.fit(X_train, y_train)\n",
    "assess_classifier(tuned_rfc)\n",
    "\n",
    "\n",
    "sns.barplot(x=X_train.columns, y=tuned_rfc.feature_importances_)\n",
    "plt.xticks(rotation=60)\n",
    "plt.show()"
   ]
  },
  {
   "cell_type": "markdown",
   "metadata": {},
   "source": []
  },
  {
   "cell_type": "code",
   "execution_count": 93,
   "metadata": {},
   "outputs": [
    {
     "data": {
      "text/html": [
       "<div>\n",
       "<style scoped>\n",
       "    .dataframe tbody tr th:only-of-type {\n",
       "        vertical-align: middle;\n",
       "    }\n",
       "\n",
       "    .dataframe tbody tr th {\n",
       "        vertical-align: top;\n",
       "    }\n",
       "\n",
       "    .dataframe thead th {\n",
       "        text-align: right;\n",
       "    }\n",
       "</style>\n",
       "<table border=\"1\" class=\"dataframe\">\n",
       "  <thead>\n",
       "    <tr style=\"text-align: right;\">\n",
       "      <th></th>\n",
       "      <th>Accuracy</th>\n",
       "      <th>Balanced Accuracy</th>\n",
       "      <th>F1 score</th>\n",
       "      <th>Recall</th>\n",
       "      <th>Precision</th>\n",
       "    </tr>\n",
       "  </thead>\n",
       "  <tbody>\n",
       "    <tr>\n",
       "      <th>Train</th>\n",
       "      <td>0.604677</td>\n",
       "      <td>0.603542</td>\n",
       "      <td>0.642904</td>\n",
       "      <td>0.703757</td>\n",
       "      <td>0.591738</td>\n",
       "    </tr>\n",
       "    <tr>\n",
       "      <th>Test</th>\n",
       "      <td>0.576792</td>\n",
       "      <td>0.576792</td>\n",
       "      <td>0.628743</td>\n",
       "      <td>0.716724</td>\n",
       "      <td>0.560000</td>\n",
       "    </tr>\n",
       "    <tr>\n",
       "      <th>Validation</th>\n",
       "      <td>0.599659</td>\n",
       "      <td>0.605486</td>\n",
       "      <td>0.628752</td>\n",
       "      <td>0.715827</td>\n",
       "      <td>0.560563</td>\n",
       "    </tr>\n",
       "  </tbody>\n",
       "</table>\n",
       "</div>"
      ],
      "text/plain": [
       "            Accuracy  Balanced Accuracy  F1 score    Recall  Precision\n",
       "Train       0.604677           0.603542  0.642904  0.703757   0.591738\n",
       "Test        0.576792           0.576792  0.628743  0.716724   0.560000\n",
       "Validation  0.599659           0.605486  0.628752  0.715827   0.560563"
      ]
     },
     "metadata": {},
     "output_type": "display_data"
    },
    {
     "name": "stdout",
     "output_type": "stream",
     "text": [
      "0.6046766532700036\n",
      "0.5767918088737202\n"
     ]
    }
   ],
   "source": [
    "lr = LogisticRegression(solver='saga', max_iter=10000, penalty='elasticnet', l1_ratio=0.5)\n",
    "\n",
    "lr.fit(X_train, y_train)\n",
    "assess_classifier(lr)\n",
    "\n",
    "print(lr.score(X_train, y_train))\n",
    "print(lr.score(X_test, y_test))\n"
   ]
  },
  {
   "cell_type": "code",
   "execution_count": null,
   "metadata": {},
   "outputs": [],
   "source": [
    "def prec(y_test, y_pred):\n",
    "    cm = confusion_matrix(y_test, y_pred, labels=[0, 1])\n",
    "    x = (cm[0,0]/ (cm[0, 0] + cm[1, 0]))\n",
    "    return x "
   ]
  },
  {
   "cell_type": "code",
   "execution_count": null,
   "metadata": {},
   "outputs": [
    {
     "name": "stdout",
     "output_type": "stream",
     "text": [
      "0.8497109826589595\n",
      "0.6213872832369942\n",
      "[[228 103]\n",
      " [159 202]]\n",
      "[[1237   89]\n",
      " [ 327 1115]]\n",
      "              precision    recall  f1-score   support\n",
      "\n",
      "           0       0.79      0.93      0.86      1326\n",
      "           1       0.93      0.77      0.84      1442\n",
      "\n",
      "    accuracy                           0.85      2768\n",
      "   macro avg       0.86      0.85      0.85      2768\n",
      "weighted avg       0.86      0.85      0.85      2768\n",
      "\n",
      "              precision    recall  f1-score   support\n",
      "\n",
      "           0       0.59      0.69      0.64       331\n",
      "           1       0.66      0.56      0.61       361\n",
      "\n",
      "    accuracy                           0.62       692\n",
      "   macro avg       0.63      0.62      0.62       692\n",
      "weighted avg       0.63      0.62      0.62       692\n",
      "\n"
     ]
    }
   ],
   "source": [
    "\n",
    "dtc = DecisionTreeClassifier(criterion='log_loss')\n",
    "\n",
    "dtc.fit(X_train, y_train)\n",
    "\n",
    "print(dtc.score(X_train, y_train))\n",
    "print(dtc.score(X_test, y_test))\n",
    "\n",
    "\n",
    "print(confusion_matrix(y_test, dtc.predict(X_test), labels=[0, 1]))\n",
    "print(confusion_matrix(y_train, dtc.predict(X_train)))\n",
    "print(classification_report(y_train, dtc.predict(X_train)))\n",
    "print(classification_report(y_test, dtc.predict(X_test)))"
   ]
  },
  {
   "cell_type": "code",
   "execution_count": null,
   "metadata": {},
   "outputs": [
    {
     "name": "stdout",
     "output_type": "stream",
     "text": [
      "[[ 539  787]\n",
      " [ 275 1167]]\n",
      "              precision    recall  f1-score   support\n",
      "\n",
      "           0       0.66      0.41      0.50      1326\n",
      "           1       0.60      0.81      0.69      1442\n",
      "\n",
      "    accuracy                           0.62      2768\n",
      "   macro avg       0.63      0.61      0.60      2768\n",
      "weighted avg       0.63      0.62      0.60      2768\n",
      "\n",
      "[[129 202]\n",
      " [ 68 293]]\n",
      "              precision    recall  f1-score   support\n",
      "\n",
      "           0       0.65      0.39      0.49       331\n",
      "           1       0.59      0.81      0.68       361\n",
      "\n",
      "    accuracy                           0.61       692\n",
      "   macro avg       0.62      0.60      0.59       692\n",
      "weighted avg       0.62      0.61      0.59       692\n",
      "\n"
     ]
    }
   ],
   "source": [
    "params={\n",
    "    'max_depth': [3, 5, 9, 20, 50],\n",
    "    'min_samples_split':[2, 4],\n",
    "    'min_samples_leaf':[1, 5, 10],\n",
    "    'max_features': [2, 5, 10],\n",
    "    'max_leaf_nodes':[2, 5, 10]\n",
    "}\n",
    "\n",
    "precision = make_scorer(precision_score, greater_is_better=True)\n",
    "recall = make_scorer(recall_score)\n",
    "pr = make_scorer(prec)\n",
    "f1 = make_scorer(f1_score)\n",
    "\n",
    "rcc = RandomizedSearchCV(estimator=dtc, param_distributions=params, n_iter=200, cv=5, scoring=f1)\n",
    "rcc.fit(X_train, y_train)\n",
    "assess(y_train, rcc.best_estimator_.predict(X_train))\n",
    "assess(y_test, rcc.best_estimator_.predict(X_test))"
   ]
  },
  {
   "cell_type": "code",
   "execution_count": null,
   "metadata": {},
   "outputs": [
    {
     "name": "stdout",
     "output_type": "stream",
     "text": [
      "(array([0.51618123, 0.83783784]), array([0.96374622, 0.17174515]), array([0.67228662, 0.28505747]), array([331, 361], dtype=int64))\n"
     ]
    }
   ],
   "source": [
    "print(precision_recall_fscore_support(y_test, rcc.best_estimator_.predict(X_test)))"
   ]
  },
  {
   "cell_type": "code",
   "execution_count": null,
   "metadata": {},
   "outputs": [
    {
     "name": "stdout",
     "output_type": "stream",
     "text": [
      "0.6842485549132948\n",
      "0.6459537572254336\n",
      "[[219 112]\n",
      " [133 228]]\n",
      "[[988 338]\n",
      " [536 906]]\n",
      "              precision    recall  f1-score   support\n",
      "\n",
      "           0       0.65      0.75      0.69      1326\n",
      "           1       0.73      0.63      0.67      1442\n",
      "\n",
      "    accuracy                           0.68      2768\n",
      "   macro avg       0.69      0.69      0.68      2768\n",
      "weighted avg       0.69      0.68      0.68      2768\n",
      "\n",
      "              precision    recall  f1-score   support\n",
      "\n",
      "           0       0.62      0.66      0.64       331\n",
      "           1       0.67      0.63      0.65       361\n",
      "\n",
      "    accuracy                           0.65       692\n",
      "   macro avg       0.65      0.65      0.65       692\n",
      "weighted avg       0.65      0.65      0.65       692\n",
      "\n"
     ]
    },
    {
     "data": {
      "text/plain": [
       "\"\\nn_n = [10, 20, 30, 40, 50, 60, 70, 80, 90]\\ntrain_acc = []\\ntest_acc = []\\nfor n in n_n:\\n    knn = KNeighborsClassifier(n_neighbors=n)\\n    knn.fit(X_train, y_train)\\n    train_acc.append(knn.score(X_train, y_train))\\n    test_acc.append(knn.score(X_test, y_test))\\n\\nplt.plot(n_n, train_acc, label='Train')\\nplt.plot(n_n, test_acc, label='Test')\\nplt.show()\\n\\nprint(knn.score(X_train, y_train))\\nprint(knn.score(X_test, y_test))\\n\\n\\nprint(confusion_matrix(y_test, knn.predict(X_test), labels=[0, 1]))\\nprint(confusion_matrix(y_train, knn.predict(X_train)))\\nprint(classification_report(y_train, knn.predict(X_train)))\\nprint(classification_report(y_test, knn.predict(X_test)))\\n\""
      ]
     },
     "execution_count": 42,
     "metadata": {},
     "output_type": "execute_result"
    }
   ],
   "source": [
    "knn = KNeighborsClassifier(n_neighbors=8)\n",
    "knn.fit(X_train, y_train)\n",
    "\n",
    "print(knn.score(X_train, y_train))\n",
    "print(knn.score(X_test, y_test))\n",
    "\n",
    "\n",
    "print(confusion_matrix(y_test, knn.predict(X_test), labels=[0, 1]))\n",
    "print(confusion_matrix(y_train, knn.predict(X_train)))\n",
    "print(classification_report(y_train, knn.predict(X_train)))\n",
    "print(classification_report(y_test, knn.predict(X_test)))\n",
    "\n",
    "\n",
    "'''\n",
    "n_n = [10, 20, 30, 40, 50, 60, 70, 80, 90]\n",
    "train_acc = []\n",
    "test_acc = []\n",
    "for n in n_n:\n",
    "    knn = KNeighborsClassifier(n_neighbors=n)\n",
    "    knn.fit(X_train, y_train)\n",
    "    train_acc.append(knn.score(X_train, y_train))\n",
    "    test_acc.append(knn.score(X_test, y_test))\n",
    "\n",
    "plt.plot(n_n, train_acc, label='Train')\n",
    "plt.plot(n_n, test_acc, label='Test')\n",
    "plt.show()\n",
    "\n",
    "print(knn.score(X_train, y_train))\n",
    "print(knn.score(X_test, y_test))\n",
    "\n",
    "\n",
    "print(confusion_matrix(y_test, knn.predict(X_test), labels=[0, 1]))\n",
    "print(confusion_matrix(y_train, knn.predict(X_train)))\n",
    "print(classification_report(y_train, knn.predict(X_train)))\n",
    "print(classification_report(y_test, knn.predict(X_test)))\n",
    "'''"
   ]
  },
  {
   "cell_type": "code",
   "execution_count": null,
   "metadata": {},
   "outputs": [
    {
     "name": "stdout",
     "output_type": "stream",
     "text": [
      "[[825 501]\n",
      " [489 953]]\n",
      "              precision    recall  f1-score   support\n",
      "\n",
      "           0       0.63      0.62      0.62      1326\n",
      "           1       0.66      0.66      0.66      1442\n",
      "\n",
      "    accuracy                           0.64      2768\n",
      "   macro avg       0.64      0.64      0.64      2768\n",
      "weighted avg       0.64      0.64      0.64      2768\n",
      "\n",
      "[[209 122]\n",
      " [119 242]]\n",
      "              precision    recall  f1-score   support\n",
      "\n",
      "           0       0.64      0.63      0.63       331\n",
      "           1       0.66      0.67      0.67       361\n",
      "\n",
      "    accuracy                           0.65       692\n",
      "   macro avg       0.65      0.65      0.65       692\n",
      "weighted avg       0.65      0.65      0.65       692\n",
      "\n"
     ]
    }
   ],
   "source": [
    "param = {'n_neighbors': [77, 78, 79, 80, 81],\n",
    "         'leaf_size':[9]}\n",
    "rcv = GridSearchCV(estimator=knn, param_grid=param, cv=5, scoring=f1)\n",
    "\n",
    "rcv.fit(X_train, y_train)\n",
    "\n",
    "assess(y_train, rcv.best_estimator_.predict(X_train))\n",
    "assess(y_test, rcv.best_estimator_.predict(X_test))"
   ]
  },
  {
   "cell_type": "code",
   "execution_count": null,
   "metadata": {},
   "outputs": [
    {
     "data": {
      "text/plain": [
       "{'leaf_size': 9, 'n_neighbors': 81}"
      ]
     },
     "execution_count": 99,
     "metadata": {},
     "output_type": "execute_result"
    }
   ],
   "source": [
    "rcv.best_params_"
   ]
  },
  {
   "cell_type": "code",
   "execution_count": null,
   "metadata": {},
   "outputs": [
    {
     "name": "stdout",
     "output_type": "stream",
     "text": [
      "0.6676300578034682\n",
      "0.6488439306358381\n",
      "[[206 125]\n",
      " [118 243]]\n",
      "[[852 474]\n",
      " [446 996]]\n",
      "              precision    recall  f1-score   support\n",
      "\n",
      "           0       0.66      0.64      0.65      1326\n",
      "           1       0.68      0.69      0.68      1442\n",
      "\n",
      "    accuracy                           0.67      2768\n",
      "   macro avg       0.67      0.67      0.67      2768\n",
      "weighted avg       0.67      0.67      0.67      2768\n",
      "\n",
      "              precision    recall  f1-score   support\n",
      "\n",
      "           0       0.64      0.62      0.63       331\n",
      "           1       0.66      0.67      0.67       361\n",
      "\n",
      "    accuracy                           0.65       692\n",
      "   macro avg       0.65      0.65      0.65       692\n",
      "weighted avg       0.65      0.65      0.65       692\n",
      "\n"
     ]
    }
   ],
   "source": [
    "\n",
    "rfc = RandomForestClassifier(n_estimators=1000, max_depth=9, max_features='log2', max_leaf_nodes=10)\n",
    "\n",
    "rfc.fit(X_train, y_train)\n",
    "\n",
    "print(rfc.score(X_train, y_train))\n",
    "print(rfc.score(X_test, y_test))\n",
    "\n",
    "\n",
    "\n",
    "print(confusion_matrix(y_test, rfc.predict(X_test), labels=[0, 1]))\n",
    "print(confusion_matrix(y_train, rfc.predict(X_train)))\n",
    "print(classification_report(y_train, rfc.predict(X_train)))\n",
    "print(classification_report(y_test, rfc.predict(X_test)))"
   ]
  },
  {
   "cell_type": "code",
   "execution_count": null,
   "metadata": {},
   "outputs": [
    {
     "name": "stdout",
     "output_type": "stream",
     "text": [
      "[[ 839  487]\n",
      " [ 434 1008]]\n",
      "              precision    recall  f1-score   support\n",
      "\n",
      "           0       0.66      0.63      0.65      1326\n",
      "           1       0.67      0.70      0.69      1442\n",
      "\n",
      "    accuracy                           0.67      2768\n",
      "   macro avg       0.67      0.67      0.67      2768\n",
      "weighted avg       0.67      0.67      0.67      2768\n",
      "\n",
      "[[205 126]\n",
      " [115 246]]\n",
      "              precision    recall  f1-score   support\n",
      "\n",
      "           0       0.64      0.62      0.63       331\n",
      "           1       0.66      0.68      0.67       361\n",
      "\n",
      "    accuracy                           0.65       692\n",
      "   macro avg       0.65      0.65      0.65       692\n",
      "weighted avg       0.65      0.65      0.65       692\n",
      "\n"
     ]
    }
   ],
   "source": [
    "param = {'max_depth':[1, 5, 9],\n",
    "         'max_leaf_nodes':[5, 10]}\n",
    "rcv = RandomizedSearchCV(estimator=rfc, param_distributions=param, n_iter=5, scoring=f1, cv=3)\n",
    "\n",
    "rcv.fit(X_train, y_train)\n",
    "\n",
    "assess(y_train, rcv.predict(X_train))\n",
    "assess(y_test, rcv.predict(X_test))"
   ]
  },
  {
   "cell_type": "code",
   "execution_count": null,
   "metadata": {},
   "outputs": [
    {
     "name": "stdout",
     "output_type": "stream",
     "text": [
      "0.7319364161849711\n",
      "0.6546242774566474\n",
      "[[240 121]\n",
      " [118 213]]\n",
      "[[ 993  333]\n",
      " [ 409 1033]]\n",
      "              precision    recall  f1-score   support\n",
      "\n",
      "           1       0.76      0.72      0.74      1442\n",
      "           0       0.71      0.75      0.73      1326\n",
      "\n",
      "    accuracy                           0.73      2768\n",
      "   macro avg       0.73      0.73      0.73      2768\n",
      "weighted avg       0.73      0.73      0.73      2768\n",
      "\n",
      "              precision    recall  f1-score   support\n",
      "\n",
      "           0       0.64      0.64      0.64       331\n",
      "           1       0.67      0.66      0.67       361\n",
      "\n",
      "    accuracy                           0.65       692\n",
      "   macro avg       0.65      0.65      0.65       692\n",
      "weighted avg       0.65      0.65      0.65       692\n",
      "\n"
     ]
    }
   ],
   "source": [
    "\n",
    "ada = AdaBoostClassifier(base_estimator=rfc, n_estimators=20)\n",
    "\n",
    "ada.fit(X_train, y_train)\n",
    "\n",
    "print(ada.score(X_train, y_train))\n",
    "print(ada.score(X_test, y_test))\n",
    "\n",
    "\n",
    "print(confusion_matrix(y_test, ada.predict(X_test), labels=[1, 0]))\n",
    "print(confusion_matrix(y_train, ada.predict(X_train)))\n",
    "print(classification_report(y_train, ada.predict(X_train), labels=[1, 0]))\n",
    "print(classification_report(y_test, ada.predict(X_test)))"
   ]
  },
  {
   "cell_type": "code",
   "execution_count": null,
   "metadata": {},
   "outputs": [
    {
     "name": "stdout",
     "output_type": "stream",
     "text": [
      "0.7297687861271677\n",
      "0.6315028901734104\n",
      "[[215 146]\n",
      " [109 222]]\n",
      "[[1056  270]\n",
      " [ 478  964]]\n",
      "              precision    recall  f1-score   support\n",
      "\n",
      "           0       0.69      0.80      0.74      1326\n",
      "           1       0.78      0.67      0.72      1442\n",
      "\n",
      "    accuracy                           0.73      2768\n",
      "   macro avg       0.73      0.73      0.73      2768\n",
      "weighted avg       0.74      0.73      0.73      2768\n",
      "\n",
      "              precision    recall  f1-score   support\n",
      "\n",
      "           1       0.66      0.60      0.63       361\n",
      "           0       0.60      0.67      0.64       331\n",
      "\n",
      "    accuracy                           0.63       692\n",
      "   macro avg       0.63      0.63      0.63       692\n",
      "weighted avg       0.63      0.63      0.63       692\n",
      "\n"
     ]
    }
   ],
   "source": [
    "\n",
    "\n",
    "svc = SVC(C=10, gamma=.005)\n",
    "\n",
    "svc.fit(X_train, y_train)\n",
    "\n",
    "print(svc.score(X_train, y_train))\n",
    "print(svc.score(X_test, y_test))\n",
    "\n",
    "print(confusion_matrix(y_test, svc.predict(X_test), labels=[1, 0]))\n",
    "print(confusion_matrix(y_train, svc.predict(X_train)))\n",
    "print(classification_report(y_train, svc.predict(X_train)))\n",
    "print(classification_report(y_test, svc.predict(X_test), labels=[1,0]))"
   ]
  },
  {
   "cell_type": "code",
   "execution_count": null,
   "metadata": {},
   "outputs": [
    {
     "name": "stdout",
     "output_type": "stream",
     "text": [
      "[[1194  132]\n",
      " [ 299 1143]]\n",
      "              precision    recall  f1-score   support\n",
      "\n",
      "           0       0.80      0.90      0.85      1326\n",
      "           1       0.90      0.79      0.84      1442\n",
      "\n",
      "    accuracy                           0.84      2768\n",
      "   macro avg       0.85      0.85      0.84      2768\n",
      "weighted avg       0.85      0.84      0.84      2768\n",
      "\n",
      "[[188 143]\n",
      " [113 248]]\n",
      "              precision    recall  f1-score   support\n",
      "\n",
      "           0       0.62      0.57      0.59       331\n",
      "           1       0.63      0.69      0.66       361\n",
      "\n",
      "    accuracy                           0.63       692\n",
      "   macro avg       0.63      0.63      0.63       692\n",
      "weighted avg       0.63      0.63      0.63       692\n",
      "\n",
      "{'C': 1, 'degree': 3, 'gamma': 0.9}\n"
     ]
    }
   ],
   "source": [
    "\n",
    "pg = {\n",
    "    'C':[1, 10, 15, 20],\n",
    "    'degree':[3],\n",
    "    'gamma':[0.05, 0.1, .9]\n",
    "    \n",
    "}\n",
    "\n",
    "sv = GridSearchCV(estimator=svc, param_grid=pg, cv=5, scoring=f1)\n",
    "sv.fit(X_train, y_train)\n",
    "\n",
    "assess(y_train, sv.best_estimator_.predict(X_train))\n",
    "assess(y_test, sv.best_estimator_.predict(X_test))\n",
    "print(sv.best_params_)"
   ]
  },
  {
   "cell_type": "code",
   "execution_count": null,
   "metadata": {},
   "outputs": [
    {
     "name": "stdout",
     "output_type": "stream",
     "text": [
      "0.6054913294797688\n",
      "0.6054913294797688\n",
      "[[210 121]\n",
      " [152 209]]\n",
      "[[861 465]\n",
      " [627 815]]\n",
      "              precision    recall  f1-score   support\n",
      "\n",
      "           0       0.58      0.65      0.61      1326\n",
      "           1       0.64      0.57      0.60      1442\n",
      "\n",
      "    accuracy                           0.61      2768\n",
      "   macro avg       0.61      0.61      0.61      2768\n",
      "weighted avg       0.61      0.61      0.61      2768\n",
      "\n",
      "              precision    recall  f1-score   support\n",
      "\n",
      "           0       0.58      0.63      0.61       331\n",
      "           1       0.63      0.58      0.60       361\n",
      "\n",
      "    accuracy                           0.61       692\n",
      "   macro avg       0.61      0.61      0.61       692\n",
      "weighted avg       0.61      0.61      0.61       692\n",
      "\n"
     ]
    },
    {
     "name": "stderr",
     "output_type": "stream",
     "text": [
      "c:\\Users\\Tosin OLUYEMII\\AppData\\Local\\Programs\\Python\\Python310\\lib\\site-packages\\sklearn\\svm\\_base.py:1225: ConvergenceWarning: Liblinear failed to converge, increase the number of iterations.\n",
      "  warnings.warn(\n"
     ]
    }
   ],
   "source": [
    "lsvc = LinearSVC(max_iter=5000)\n",
    "\n",
    "lsvc.fit(X_train, y_train)\n",
    "\n",
    "print(lsvc.score(X_train, y_train))\n",
    "print(lsvc.score(X_test, y_test))\n",
    "\n",
    "print(confusion_matrix(y_test, lsvc.predict(X_test), labels=[0, 1]))\n",
    "print(confusion_matrix(y_train, lsvc.predict(X_train)))\n",
    "print(classification_report(y_train, lsvc.predict(X_train)))\n",
    "print(classification_report(y_test, lsvc.predict(X_test)))"
   ]
  },
  {
   "cell_type": "code",
   "execution_count": null,
   "metadata": {},
   "outputs": [],
   "source": [
    "RandomForestClassifier()"
   ]
  }
 ],
 "metadata": {
  "kernelspec": {
   "display_name": "Python 3.11.0 64-bit",
   "language": "python",
   "name": "python3"
  },
  "language_info": {
   "codemirror_mode": {
    "name": "ipython",
    "version": 3
   },
   "file_extension": ".py",
   "mimetype": "text/x-python",
   "name": "python",
   "nbconvert_exporter": "python",
   "pygments_lexer": "ipython3",
   "version": "3.11.0"
  },
  "orig_nbformat": 4,
  "vscode": {
   "interpreter": {
    "hash": "b37f6842cfa5693682ca177646b86562e7e6680399d6aa97975ae5063d95e764"
   }
  }
 },
 "nbformat": 4,
 "nbformat_minor": 2
}
