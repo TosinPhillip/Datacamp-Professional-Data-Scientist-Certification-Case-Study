{
 "cells": [
  {
   "cell_type": "markdown",
   "id": "20db0700",
   "metadata": {
    "id": "bA5ajAmk7XH6"
   },
   "source": [
    "# Data Scientist Professional Case Study\n",
    "\n",
    "### Company Background\n",
    "\n",
    "National Accessibility currently installs wheelchair ramps for office buildings and schools. The marketing manager wants the company to start installing ramps for event venues as well. According to a new survey, approximately 40% of event venues are not wheelchair accessible. However, it is not easy to know whether a venue already has a ramp installed.\n",
    "\n",
    "It is a waste of time to contact venues that already have a ramp installed, and it also looks bad for the company. They would like the help of the data science team in predicting which venues already have a ramp installed. \n",
    "\n",
    "### Customer Question\n",
    "\n",
    "The marketing manager would like to know:\n",
    "- Can you develop a model to predict whether an event venue already has a wheelchair ramp installed?\n",
    "\n",
    "### Success Criteria\n",
    "\n",
    "To reduce the amount of time wasted by the company contacting venues that already have a ramp, at least two-thirds of venues predicted to be without a ramp should not have a ramp. \n",
    "\n",
    "\n",
    "### Dataset\n",
    "\n",
    "\n",
    "The data you will use for this analysis can be accessed here: `\"data/event_venues.csv\"`"
   ]
  },
  {
   "cell_type": "markdown",
   "id": "a2cd11bf",
   "metadata": {},
   "source": [
    "The first thing to do is to import the needed packages."
   ]
  },
  {
   "cell_type": "code",
   "execution_count": 1,
   "id": "c30b7910",
   "metadata": {
    "ExecuteTime": {
     "end_time": "2023-05-12T16:08:39.884599Z",
     "start_time": "2023-05-12T16:08:27.827190Z"
    }
   },
   "outputs": [],
   "source": [
    "import numpy as np\n",
    "import pandas as pd\n",
    "import matplotlib.pyplot as plt\n",
    "import seaborn as sns\n",
    "import sklearn.metrics as met\n",
    "from sklearn.preprocessing import LabelEncoder\n",
    "from sklearn.model_selection import train_test_split, RandomizedSearchCV,GridSearchCV\n",
    "from sklearn.metrics import classification_report, confusion_matrix, ConfusionMatrixDisplay, make_scorer, f1_score\n",
    "from sklearn.linear_model import LogisticRegression\n",
    "from sklearn.tree import DecisionTreeClassifier\n",
    "from sklearn.svm import SVC, LinearSVC\n",
    "from sklearn.neighbors import KNeighborsClassifier\n",
    "from sklearn.ensemble import StackingClassifier, RandomForestClassifier, VotingClassifier, AdaBoostClassifier"
   ]
  },
  {
   "cell_type": "markdown",
   "id": "fb07eb7a",
   "metadata": {},
   "source": [
    "**DATA VALIDATION AND CLEANING**\n",
    "\n",
    "The next thing is to import the needed dataset for validation and analysis."
   ]
  },
  {
   "cell_type": "code",
   "execution_count": 2,
   "id": "f7e5a941",
   "metadata": {
    "ExecuteTime": {
     "end_time": "2023-05-12T16:08:40.039833Z",
     "start_time": "2023-05-12T16:08:39.888734Z"
    }
   },
   "outputs": [
    {
     "data": {
      "text/html": [
       "<div>\n",
       "<style scoped>\n",
       "    .dataframe tbody tr th:only-of-type {\n",
       "        vertical-align: middle;\n",
       "    }\n",
       "\n",
       "    .dataframe tbody tr th {\n",
       "        vertical-align: top;\n",
       "    }\n",
       "\n",
       "    .dataframe thead th {\n",
       "        text-align: right;\n",
       "    }\n",
       "</style>\n",
       "<table border=\"1\" class=\"dataframe\">\n",
       "  <thead>\n",
       "    <tr style=\"text-align: right;\">\n",
       "      <th></th>\n",
       "      <th>venue_name</th>\n",
       "      <th>Loud music / events</th>\n",
       "      <th>Venue provides alcohol</th>\n",
       "      <th>Wi-Fi</th>\n",
       "      <th>supervenue</th>\n",
       "      <th>U-Shaped_max</th>\n",
       "      <th>max_standing</th>\n",
       "      <th>Theatre_max</th>\n",
       "      <th>Promoted / ticketed events</th>\n",
       "      <th>Wheelchair accessible</th>\n",
       "    </tr>\n",
       "  </thead>\n",
       "  <tbody>\n",
       "    <tr>\n",
       "      <th>0</th>\n",
       "      <td>techspace aldgate east</td>\n",
       "      <td>False</td>\n",
       "      <td>0</td>\n",
       "      <td>True</td>\n",
       "      <td>False</td>\n",
       "      <td>35.045455</td>\n",
       "      <td>0</td>\n",
       "      <td>112.715867</td>\n",
       "      <td>False</td>\n",
       "      <td>False</td>\n",
       "    </tr>\n",
       "    <tr>\n",
       "      <th>1</th>\n",
       "      <td>green rooms hotel</td>\n",
       "      <td>True</td>\n",
       "      <td>1</td>\n",
       "      <td>True</td>\n",
       "      <td>False</td>\n",
       "      <td>40.000000</td>\n",
       "      <td>120</td>\n",
       "      <td>80.000000</td>\n",
       "      <td>True</td>\n",
       "      <td>False</td>\n",
       "    </tr>\n",
       "    <tr>\n",
       "      <th>2</th>\n",
       "      <td>148 leadenhall street</td>\n",
       "      <td>False</td>\n",
       "      <td>0</td>\n",
       "      <td>True</td>\n",
       "      <td>False</td>\n",
       "      <td>35.045455</td>\n",
       "      <td>0</td>\n",
       "      <td>112.715867</td>\n",
       "      <td>False</td>\n",
       "      <td>False</td>\n",
       "    </tr>\n",
       "    <tr>\n",
       "      <th>3</th>\n",
       "      <td>conway hall</td>\n",
       "      <td>False</td>\n",
       "      <td>0</td>\n",
       "      <td>True</td>\n",
       "      <td>False</td>\n",
       "      <td>35.045455</td>\n",
       "      <td>60</td>\n",
       "      <td>60.000000</td>\n",
       "      <td>False</td>\n",
       "      <td>False</td>\n",
       "    </tr>\n",
       "    <tr>\n",
       "      <th>4</th>\n",
       "      <td>gridiron building</td>\n",
       "      <td>False</td>\n",
       "      <td>0</td>\n",
       "      <td>True</td>\n",
       "      <td>False</td>\n",
       "      <td>35.045455</td>\n",
       "      <td>0</td>\n",
       "      <td>112.715867</td>\n",
       "      <td>False</td>\n",
       "      <td>False</td>\n",
       "    </tr>\n",
       "  </tbody>\n",
       "</table>\n",
       "</div>"
      ],
      "text/plain": [
       "               venue_name  Loud music / events  Venue provides alcohol  Wi-Fi  \\\n",
       "0  techspace aldgate east                False                       0   True   \n",
       "1       green rooms hotel                 True                       1   True   \n",
       "2   148 leadenhall street                False                       0   True   \n",
       "3             conway hall                False                       0   True   \n",
       "4       gridiron building                False                       0   True   \n",
       "\n",
       "   supervenue  U-Shaped_max  max_standing  Theatre_max  \\\n",
       "0       False     35.045455             0   112.715867   \n",
       "1       False     40.000000           120    80.000000   \n",
       "2       False     35.045455             0   112.715867   \n",
       "3       False     35.045455            60    60.000000   \n",
       "4       False     35.045455             0   112.715867   \n",
       "\n",
       "   Promoted / ticketed events  Wheelchair accessible  \n",
       "0                       False                  False  \n",
       "1                        True                  False  \n",
       "2                       False                  False  \n",
       "3                       False                  False  \n",
       "4                       False                  False  "
      ]
     },
     "metadata": {},
     "output_type": "display_data"
    }
   ],
   "source": [
    "df = pd.read_csv('Datacamp-Professional-Data-Scientist-Certification-Case-Study/event_venues.csv')\n",
    "display(df.head())"
   ]
  },
  {
   "cell_type": "markdown",
   "id": "e810fcd8",
   "metadata": {},
   "source": [
    "Let's have an overview of the dataset"
   ]
  },
  {
   "cell_type": "code",
   "execution_count": 3,
   "id": "1fbb5a63",
   "metadata": {
    "ExecuteTime": {
     "end_time": "2023-05-12T16:08:40.208444Z",
     "start_time": "2023-05-12T16:08:40.039833Z"
    }
   },
   "outputs": [
    {
     "name": "stdout",
     "output_type": "stream",
     "text": [
      "<class 'pandas.core.frame.DataFrame'>\n",
      "RangeIndex: 3910 entries, 0 to 3909\n",
      "Data columns (total 10 columns):\n",
      " #   Column                      Non-Null Count  Dtype  \n",
      "---  ------                      --------------  -----  \n",
      " 0   venue_name                  3910 non-null   object \n",
      " 1   Loud music / events         3910 non-null   bool   \n",
      " 2   Venue provides alcohol      3910 non-null   int64  \n",
      " 3   Wi-Fi                       3910 non-null   bool   \n",
      " 4   supervenue                  3910 non-null   bool   \n",
      " 5   U-Shaped_max                3910 non-null   float64\n",
      " 6   max_standing                3910 non-null   int64  \n",
      " 7   Theatre_max                 3910 non-null   float64\n",
      " 8   Promoted / ticketed events  3910 non-null   bool   \n",
      " 9   Wheelchair accessible       3910 non-null   bool   \n",
      "dtypes: bool(5), float64(2), int64(2), object(1)\n",
      "memory usage: 172.0+ KB\n"
     ]
    },
    {
     "data": {
      "text/plain": [
       "None"
      ]
     },
     "metadata": {},
     "output_type": "display_data"
    }
   ],
   "source": [
    "display(df.info())\n"
   ]
  },
  {
   "cell_type": "markdown",
   "id": "393e25b0",
   "metadata": {},
   "source": [
    "The dataset contains 3910 entries of venues. Each entry has 10 columns to describe it. Generally, there is no missing data in any of the columns. That might be a good news but still calls for a closer look.\n",
    "1. venue_name: The name of the venue to be described. The column contains objects as expected.\n",
    "\n",
    "2. Loud music / events: Whether the venue hosts loud events. The column contains boolean values as expected.\n",
    "\n",
    "3. Venue provides alcohol: Whether the venue provides alcohol. The column is numeric.*\n",
    "\n",
    "4. Wi-Fi: Whether the venue provides wifi. It contains boolean values as expected.\n",
    "\n",
    "5. supervenue: Whether the venue qualifies as a supervenue. It contains boolean values as expected.\n",
    "\n",
    "6. U-Shaped_max: Total capacity of the U-shaped portion of the theatre. This column is expected to be integral, as we are talking about the number of people the U-shaped portion of the theatre can hold, but it is not! That calls for a closer look.*\n",
    "\n",
    "7. max_standing: Total standing capacity of the venue. This column is integral as expected.\n",
    "\n",
    "8. Theatre_max: Total capacity of the theatre. Again, this column contains float numbers while it is expected to contain integers. Another spot to look at again.*\n",
    "\n",
    "9. Promoted / ticketed events: Whether the venue hosts promoted events. It contains boolean values as expected.\n",
    "\n",
    "10. Wheelchair acessible: Whether the venue is accessible to wheelchairs. It contains boolean values as expected.\n",
    "\n",
    "It is wise to explore each column one afer the other to see what is really going down in each.\n",
    "\n",
    "* The asterisk on some numbers is to highlight which columns need special attention."
   ]
  },
  {
   "cell_type": "markdown",
   "id": "9f7bb477",
   "metadata": {},
   "source": [
    "1. **VENUE_NAME**"
   ]
  },
  {
   "cell_type": "code",
   "execution_count": 4,
   "id": "b69f59ee",
   "metadata": {
    "ExecuteTime": {
     "end_time": "2023-05-12T16:08:40.306681Z",
     "start_time": "2023-05-12T16:08:40.232041Z"
    }
   },
   "outputs": [
    {
     "name": "stdout",
     "output_type": "stream",
     "text": [
      "There are 1444 venues in the dataset.\n"
     ]
    },
    {
     "data": {
      "text/plain": [
       "'The top 10 repeated venues are:'"
      ]
     },
     "metadata": {},
     "output_type": "display_data"
    },
    {
     "data": {
      "text/plain": [
       "radisson blu edwardian heathrow    27\n",
       "bma house                          24\n",
       "friends house                      23\n",
       "henry wood house                   19\n",
       "30 euston square                   18\n",
       "twickenham stadium                 15\n",
       "one birdcage walk                  13\n",
       "hilton london paddington           13\n",
       "science museum                     13\n",
       "the wesley conference hotel        12\n",
       "Name: venue_name, dtype: int64"
      ]
     },
     "metadata": {},
     "output_type": "display_data"
    }
   ],
   "source": [
    "print('There are', len(df['venue_name'].unique()), 'venues in the dataset.')\n",
    "display('The top 10 repeated venues are:',df['venue_name'].value_counts(sort=True).head(10))\n"
   ]
  },
  {
   "cell_type": "markdown",
   "id": "5029ee0d",
   "metadata": {},
   "source": [
    "We can see that out of the 3910 entries that we have, only 1444 are unique. *Raddisson blu edwardian heathrow* appears 27 times. That insinuates that there are possibly duplicated rows. \n",
    "\n",
    "We will check if that is true and drop those duplicated rows."
   ]
  },
  {
   "cell_type": "code",
   "execution_count": 5,
   "id": "05469998",
   "metadata": {
    "ExecuteTime": {
     "end_time": "2023-05-12T16:08:40.566138Z",
     "start_time": "2023-05-12T16:08:40.310127Z"
    }
   },
   "outputs": [
    {
     "name": "stdout",
     "output_type": "stream",
     "text": [
      "There are 450 duplicated rows\n"
     ]
    }
   ],
   "source": [
    "print('There are', df.shape[0] - df.drop_duplicates().shape[0], 'duplicated rows')"
   ]
  },
  {
   "cell_type": "markdown",
   "id": "86fdbc66",
   "metadata": {},
   "source": [
    "450 rows have exactly the same entries in the 10 columns. That means there are still repeated venue names, but this time, with different entries in the features. That will make sense considering that some venues have the same name but are in different locations. \n",
    "\n",
    "\n",
    "The action taken after examining 'venue_name' is to drop all duplicated entries."
   ]
  },
  {
   "cell_type": "code",
   "execution_count": 6,
   "id": "af245c5d",
   "metadata": {
    "ExecuteTime": {
     "end_time": "2023-05-12T16:08:40.636888Z",
     "start_time": "2023-05-12T16:08:40.570801Z"
    }
   },
   "outputs": [
    {
     "name": "stdout",
     "output_type": "stream",
     "text": [
      "There are now 3460 entries.\n"
     ]
    }
   ],
   "source": [
    "df = df.drop_duplicates()\n",
    "\n",
    "print('There are now', df.shape[0], 'entries.')"
   ]
  },
  {
   "cell_type": "markdown",
   "id": "3d3edcec",
   "metadata": {},
   "source": [
    "2. **LOUD MUSIC / EVENTS**"
   ]
  },
  {
   "cell_type": "code",
   "execution_count": 7,
   "id": "2a5b7463",
   "metadata": {
    "ExecuteTime": {
     "end_time": "2023-05-12T16:08:40.788621Z",
     "start_time": "2023-05-12T16:08:40.657065Z"
    }
   },
   "outputs": [
    {
     "name": "stdout",
     "output_type": "stream",
     "text": [
      "The distribution of the true and false values are thus, \n",
      " False    2137\n",
      "True     1323\n",
      "Name: Loud music / events, dtype: int64\n"
     ]
    }
   ],
   "source": [
    "print('The distribution of the true and false values are thus,', '\\n', df['Loud music / events'].value_counts())"
   ]
  },
  {
   "cell_type": "markdown",
   "id": "17d83e12",
   "metadata": {},
   "source": [
    "The number of venues that support loud events are almost half the number of those who do not. This column is not in 1's and 0's. It needs further categorical encoding."
   ]
  },
  {
   "cell_type": "code",
   "execution_count": 8,
   "id": "b9398841",
   "metadata": {
    "ExecuteTime": {
     "end_time": "2023-05-12T16:08:40.904135Z",
     "start_time": "2023-05-12T16:08:40.819612Z"
    }
   },
   "outputs": [],
   "source": [
    "# Encode this column.\n",
    "df['Loud music / events'] = pd.get_dummies(df['Loud music / events'], drop_first=True)"
   ]
  },
  {
   "cell_type": "markdown",
   "id": "0824d094",
   "metadata": {},
   "source": [
    "Let's confirm that."
   ]
  },
  {
   "cell_type": "code",
   "execution_count": 9,
   "id": "e7046035",
   "metadata": {
    "ExecuteTime": {
     "end_time": "2023-05-12T16:08:41.056430Z",
     "start_time": "2023-05-12T16:08:40.904135Z"
    }
   },
   "outputs": [
    {
     "data": {
      "text/plain": [
       "0    0\n",
       "1    1\n",
       "2    0\n",
       "3    0\n",
       "4    0\n",
       "Name: Loud music / events, dtype: uint8"
      ]
     },
     "metadata": {},
     "output_type": "display_data"
    }
   ],
   "source": [
    "display(df['Loud music / events'].head())"
   ]
  },
  {
   "cell_type": "markdown",
   "id": "c3610c0f",
   "metadata": {},
   "source": [
    "3. **Venue provides alcohol**"
   ]
  },
  {
   "cell_type": "code",
   "execution_count": 10,
   "id": "6ef67a22",
   "metadata": {
    "ExecuteTime": {
     "end_time": "2023-05-12T16:08:41.228722Z",
     "start_time": "2023-05-12T16:08:41.088667Z"
    }
   },
   "outputs": [
    {
     "name": "stdout",
     "output_type": "stream",
     "text": [
      "The distribution of the venues that provide alcohol (True) and those who do not (False) is as shown: \n",
      " 1    2572\n",
      "0     888\n",
      "Name: Venue provides alcohol, dtype: int64\n"
     ]
    }
   ],
   "source": [
    "print('The distribution of the venues that provide alcohol (True) and those who do not (False) is as shown:', '\\n', df['Venue provides alcohol'].value_counts())"
   ]
  },
  {
   "cell_type": "markdown",
   "id": "c2bc4248",
   "metadata": {},
   "source": [
    "About 900 venues do not provide alcohol while over 2500 venues do. We may need to explore into this during the Exploratory analysis; but for now, let's focus on validation and cleaning. This column is in 1's and 0's already. There is no need for encoding."
   ]
  },
  {
   "cell_type": "markdown",
   "id": "43802115",
   "metadata": {},
   "source": [
    "4. **Wi-Fi**"
   ]
  },
  {
   "cell_type": "code",
   "execution_count": 11,
   "id": "20dfe36c",
   "metadata": {
    "ExecuteTime": {
     "end_time": "2023-05-12T16:08:41.447265Z",
     "start_time": "2023-05-12T16:08:41.232085Z"
    }
   },
   "outputs": [
    {
     "name": "stdout",
     "output_type": "stream",
     "text": [
      "This is how many venues provide Wi-Fi connection and do not: \n",
      " True     3211\n",
      "False     249\n",
      "Name: Wi-Fi, dtype: int64\n"
     ]
    }
   ],
   "source": [
    "print('This is how many venues provide Wi-Fi connection and do not:', '\\n',df['Wi-Fi'].value_counts())"
   ]
  },
  {
   "cell_type": "markdown",
   "id": "42c733f7",
   "metadata": {},
   "source": [
    "Very few venues do not provide Wi-Fi as expected. This may tell a good story about those venues later. But we mustn't forget to encode this column."
   ]
  },
  {
   "cell_type": "code",
   "execution_count": 12,
   "id": "d7c14c1e",
   "metadata": {
    "ExecuteTime": {
     "end_time": "2023-05-12T16:08:41.598096Z",
     "start_time": "2023-05-12T16:08:41.456654Z"
    }
   },
   "outputs": [],
   "source": [
    "df['Wi-Fi'] = pd.get_dummies(df['Wi-Fi'], drop_first=True)"
   ]
  },
  {
   "cell_type": "markdown",
   "id": "528d7b0c",
   "metadata": {},
   "source": [
    "Let's see if that is done."
   ]
  },
  {
   "cell_type": "code",
   "execution_count": 13,
   "id": "8680987e",
   "metadata": {
    "ExecuteTime": {
     "end_time": "2023-05-12T16:08:41.801498Z",
     "start_time": "2023-05-12T16:08:41.610075Z"
    }
   },
   "outputs": [
    {
     "data": {
      "text/plain": [
       "0    1\n",
       "1    1\n",
       "2    1\n",
       "3    1\n",
       "4    1\n",
       "Name: Wi-Fi, dtype: uint8"
      ]
     },
     "metadata": {},
     "output_type": "display_data"
    }
   ],
   "source": [
    "display(df['Wi-Fi'].head())"
   ]
  },
  {
   "cell_type": "markdown",
   "id": "997012ed",
   "metadata": {},
   "source": [
    "5. **supervenue**"
   ]
  },
  {
   "cell_type": "code",
   "execution_count": 14,
   "id": "eb46418a",
   "metadata": {
    "ExecuteTime": {
     "end_time": "2023-05-12T16:08:41.991190Z",
     "start_time": "2023-05-12T16:08:41.815657Z"
    }
   },
   "outputs": [
    {
     "name": "stdout",
     "output_type": "stream",
     "text": [
      "There are 208 supervenues in this dataset.\n",
      "More details here: \n",
      " False    3252\n",
      "True      208\n",
      "Name: supervenue, dtype: int64\n"
     ]
    }
   ],
   "source": [
    "print('There are', (df['supervenue'] == 1).sum(), 'supervenues in this dataset.')\n",
    "print('More details here:', '\\n', df['supervenue'].value_counts())\n"
   ]
  },
  {
   "cell_type": "markdown",
   "id": "9fc6033b",
   "metadata": {},
   "source": [
    "This column needs to be encoded too.\n",
    "\n",
    "Just about 200 venues are supervenues. The condition for being a supervenue might be strict."
   ]
  },
  {
   "cell_type": "code",
   "execution_count": 15,
   "id": "f9953c1c",
   "metadata": {
    "ExecuteTime": {
     "end_time": "2023-05-12T16:08:42.160954Z",
     "start_time": "2023-05-12T16:08:42.008932Z"
    }
   },
   "outputs": [],
   "source": [
    "df['supervenue'] = pd.get_dummies(df['supervenue'], drop_first=True)"
   ]
  },
  {
   "cell_type": "markdown",
   "id": "6f34a61d",
   "metadata": {},
   "source": [
    "Is it really done? Let's check."
   ]
  },
  {
   "cell_type": "code",
   "execution_count": 16,
   "id": "3fd17768",
   "metadata": {
    "ExecuteTime": {
     "end_time": "2023-05-12T16:08:42.369229Z",
     "start_time": "2023-05-12T16:08:42.176914Z"
    }
   },
   "outputs": [
    {
     "data": {
      "text/plain": [
       "0    0\n",
       "1    0\n",
       "2    0\n",
       "3    0\n",
       "4    0\n",
       "Name: supervenue, dtype: uint8"
      ]
     },
     "metadata": {},
     "output_type": "display_data"
    }
   ],
   "source": [
    "display(df['supervenue'].head())"
   ]
  },
  {
   "cell_type": "markdown",
   "id": "3bd9ece7",
   "metadata": {},
   "source": [
    "6. **U-Shaped_max**"
   ]
  },
  {
   "cell_type": "code",
   "execution_count": 17,
   "id": "263a4b36",
   "metadata": {
    "ExecuteTime": {
     "end_time": "2023-05-12T16:08:42.570668Z",
     "start_time": "2023-05-12T16:08:42.377215Z"
    }
   },
   "outputs": [
    {
     "name": "stdout",
     "output_type": "stream",
     "text": [
      "count    3460.000000\n",
      "mean       35.093431\n",
      "std        46.643692\n",
      "min         1.000000\n",
      "10%        20.000000\n",
      "20%        35.045455\n",
      "50%        35.045455\n",
      "95%        43.050000\n",
      "99%        80.000000\n",
      "99.5%     100.000000\n",
      "99.9%     227.050000\n",
      "max      2520.000000\n",
      "Name: U-Shaped_max, dtype: float64\n"
     ]
    }
   ],
   "source": [
    "print(df['U-Shaped_max'].describe(percentiles=[.1, .2, .95, .99, .995, .999]))"
   ]
  },
  {
   "cell_type": "markdown",
   "id": "45c5d6dc",
   "metadata": {},
   "source": [
    "Maybe a  density plot can help."
   ]
  },
  {
   "cell_type": "code",
   "execution_count": 18,
   "id": "52a0766f",
   "metadata": {
    "ExecuteTime": {
     "end_time": "2023-05-12T16:08:45.253003Z",
     "start_time": "2023-05-12T16:08:42.578672Z"
    }
   },
   "outputs": [
    {
     "data": {
      "image/png": "[encoded data removed]",
      "text/plain": [
       "<Figure size 640x480 with 1 Axes>"
      ]
     },
     "metadata": {},
     "output_type": "display_data"
    }
   ],
   "source": [
    "sns.kdeplot(df['U-Shaped_max'])\n",
    "plt.title('Density plot of U-Shaped_max before removing outliers')\n",
    "plt.show()"
   ]
  },
  {
   "cell_type": "markdown",
   "id": "83fddceb",
   "metadata": {},
   "source": [
    "It is evident that there are a few outliers. Most of the data (95%) lies below and 43. It is either an error in the entry or the said venues are extremely large. Since very few portion of the data (.5%) is above 100, and a further smaller(.1%) goes above 204, it is sensible to drop those unreasonably large ones.\n",
    "\n",
    "\n",
    "On the other hand, a whooping 50% of the data lie below 35, some even have a value of 1! It is unlikely that the U-portion of a theatre will hold just one person or 35. 100 or 3500 is more likely. So I will multiply that row by 100.\n",
    "\n",
    "Let's do a tricky check of the values."
   ]
  },
  {
   "cell_type": "code",
   "execution_count": 19,
   "id": "44fad842",
   "metadata": {
    "ExecuteTime": {
     "end_time": "2023-05-12T16:08:45.312897Z",
     "start_time": "2023-05-12T16:08:45.268965Z"
    }
   },
   "outputs": [
    {
     "name": "stdout",
     "output_type": "stream",
     "text": [
      "35.045455     2514\n",
      "30.000000      107\n",
      "20.000000       91\n",
      "40.000000       75\n",
      "15.000000       49\n",
      "              ... \n",
      "54.000000        1\n",
      "200.000000       1\n",
      "29.000000        1\n",
      "160.000000       1\n",
      "58.000000        1\n",
      "Name: U-Shaped_max, Length: 81, dtype: int64\n"
     ]
    }
   ],
   "source": [
    "print(df['U-Shaped_max'].value_counts())"
   ]
  },
  {
   "cell_type": "markdown",
   "id": "fdfb01a7",
   "metadata": {},
   "source": [
    "Over 2500 rows in this column have 35.045455 as the value for U-Shaped_max. That explains why the column is labelled a float. There is no clear explanation for that in the data description, so I will assume it is an input error. To solve that, I will round the column to the nearest whole number.\n",
    "\n",
    "Now, let's implement our action points.\n",
    "\n",
    "* round the values to the nearest whole numbers\n",
    "\n",
    "* check the rows that are above 204 and remove the extra large ones\n",
    "\n",
    "* multiply the column by 100"
   ]
  },
  {
   "cell_type": "code",
   "execution_count": 20,
   "id": "2f8dd781",
   "metadata": {
    "ExecuteTime": {
     "end_time": "2023-05-12T16:08:45.539693Z",
     "start_time": "2023-05-12T16:08:45.328896Z"
    }
   },
   "outputs": [
    {
     "name": "stdout",
     "output_type": "stream",
     "text": [
      "0    35.0\n",
      "1    40.0\n",
      "2    35.0\n",
      "3    35.0\n",
      "4    35.0\n",
      "Name: U-Shaped_max, dtype: float64\n"
     ]
    }
   ],
   "source": [
    "# 1. Round the values to the nearest whole numbers\n",
    "df['U-Shaped_max'] = df['U-Shaped_max'].round()\n",
    "print(df['U-Shaped_max'].head())"
   ]
  },
  {
   "cell_type": "code",
   "execution_count": 21,
   "id": "b7939538",
   "metadata": {
    "ExecuteTime": {
     "end_time": "2023-05-12T16:08:45.819267Z",
     "start_time": "2023-05-12T16:08:45.547660Z"
    }
   },
   "outputs": [
    {
     "data": {
      "text/plain": [
       "'The following rows are over 204:'"
      ]
     },
     "metadata": {},
     "output_type": "display_data"
    },
    {
     "data": {
      "text/html": [
       "<div>\n",
       "<style scoped>\n",
       "    .dataframe tbody tr th:only-of-type {\n",
       "        vertical-align: middle;\n",
       "    }\n",
       "\n",
       "    .dataframe tbody tr th {\n",
       "        vertical-align: top;\n",
       "    }\n",
       "\n",
       "    .dataframe thead th {\n",
       "        text-align: right;\n",
       "    }\n",
       "</style>\n",
       "<table border=\"1\" class=\"dataframe\">\n",
       "  <thead>\n",
       "    <tr style=\"text-align: right;\">\n",
       "      <th></th>\n",
       "      <th>venue_name</th>\n",
       "      <th>Loud music / events</th>\n",
       "      <th>Venue provides alcohol</th>\n",
       "      <th>Wi-Fi</th>\n",
       "      <th>supervenue</th>\n",
       "      <th>U-Shaped_max</th>\n",
       "      <th>max_standing</th>\n",
       "      <th>Theatre_max</th>\n",
       "      <th>Promoted / ticketed events</th>\n",
       "      <th>Wheelchair accessible</th>\n",
       "    </tr>\n",
       "  </thead>\n",
       "  <tbody>\n",
       "    <tr>\n",
       "      <th>2014</th>\n",
       "      <td>stockley park golf club</td>\n",
       "      <td>1</td>\n",
       "      <td>1</td>\n",
       "      <td>1</td>\n",
       "      <td>0</td>\n",
       "      <td>250.0</td>\n",
       "      <td>1000</td>\n",
       "      <td>700.000000</td>\n",
       "      <td>True</td>\n",
       "      <td>True</td>\n",
       "    </tr>\n",
       "    <tr>\n",
       "      <th>3007</th>\n",
       "      <td>white hart events park</td>\n",
       "      <td>1</td>\n",
       "      <td>0</td>\n",
       "      <td>1</td>\n",
       "      <td>0</td>\n",
       "      <td>900.0</td>\n",
       "      <td>1800</td>\n",
       "      <td>1200.000000</td>\n",
       "      <td>True</td>\n",
       "      <td>True</td>\n",
       "    </tr>\n",
       "    <tr>\n",
       "      <th>3122</th>\n",
       "      <td>cabana @ stratford</td>\n",
       "      <td>1</td>\n",
       "      <td>0</td>\n",
       "      <td>1</td>\n",
       "      <td>0</td>\n",
       "      <td>2520.0</td>\n",
       "      <td>25</td>\n",
       "      <td>112.715867</td>\n",
       "      <td>True</td>\n",
       "      <td>True</td>\n",
       "    </tr>\n",
       "    <tr>\n",
       "      <th>3150</th>\n",
       "      <td>east ham</td>\n",
       "      <td>1</td>\n",
       "      <td>0</td>\n",
       "      <td>1</td>\n",
       "      <td>0</td>\n",
       "      <td>290.0</td>\n",
       "      <td>600</td>\n",
       "      <td>300.000000</td>\n",
       "      <td>True</td>\n",
       "      <td>True</td>\n",
       "    </tr>\n",
       "  </tbody>\n",
       "</table>\n",
       "</div>"
      ],
      "text/plain": [
       "                   venue_name  Loud music / events  Venue provides alcohol  \\\n",
       "2014  stockley park golf club                    1                       1   \n",
       "3007   white hart events park                    1                       0   \n",
       "3122       cabana @ stratford                    1                       0   \n",
       "3150                 east ham                    1                       0   \n",
       "\n",
       "      Wi-Fi  supervenue  U-Shaped_max  max_standing  Theatre_max  \\\n",
       "2014      1           0         250.0          1000   700.000000   \n",
       "3007      1           0         900.0          1800  1200.000000   \n",
       "3122      1           0        2520.0            25   112.715867   \n",
       "3150      1           0         290.0           600   300.000000   \n",
       "\n",
       "      Promoted / ticketed events  Wheelchair accessible  \n",
       "2014                        True                   True  \n",
       "3007                        True                   True  \n",
       "3122                        True                   True  \n",
       "3150                        True                   True  "
      ]
     },
     "metadata": {},
     "output_type": "display_data"
    }
   ],
   "source": [
    "# 2. Check the rows that are greater than 204\n",
    "\n",
    "display('The following rows are over 204:', df[df['U-Shaped_max'] > 204])"
   ]
  },
  {
   "cell_type": "markdown",
   "id": "48e15b85",
   "metadata": {},
   "source": [
    "We can notice that 2 of the highest .1% are still less than 300. Those values are small when compared to 2520 and 900. So, let's drop the 2520 row and leave the rest."
   ]
  },
  {
   "cell_type": "code",
   "execution_count": 22,
   "id": "fb800939",
   "metadata": {
    "ExecuteTime": {
     "end_time": "2023-05-12T16:08:45.944187Z",
     "start_time": "2023-05-12T16:08:45.819267Z"
    }
   },
   "outputs": [],
   "source": [
    "# 3. Drop the highest value\n",
    "df.drop([3007, 3122], axis=0, inplace=True)"
   ]
  },
  {
   "cell_type": "code",
   "execution_count": 23,
   "id": "6a5d789a",
   "metadata": {
    "ExecuteTime": {
     "end_time": "2023-05-12T16:08:46.130271Z",
     "start_time": "2023-05-12T16:08:45.944187Z"
    }
   },
   "outputs": [],
   "source": [
    "# 4. Finally, we multiply the column by 100.\n",
    "df['U-Shaped_max'] = df['U-Shaped_max'] * 100"
   ]
  },
  {
   "cell_type": "markdown",
   "id": "36511920",
   "metadata": {},
   "source": [
    "Let's see what we have done. We will:\n",
    "* plot the kdeplot again and see how the outliers are doing\n",
    "* check the column description again to see if floats have been taken care of\n",
    "* print a few rows to see if the multiplication by 100 was well-done."
   ]
  },
  {
   "cell_type": "code",
   "execution_count": 24,
   "id": "0dab9399",
   "metadata": {
    "ExecuteTime": {
     "end_time": "2023-05-12T16:08:47.722407Z",
     "start_time": "2023-05-12T16:08:46.138184Z"
    }
   },
   "outputs": [
    {
     "data": {
      "image/png": "[encoded data removed]",
      "text/plain": [
       "<Figure size 640x480 with 1 Axes>"
      ]
     },
     "metadata": {},
     "output_type": "display_data"
    },
    {
     "data": {
      "text/plain": [
       "count     3458.000000\n",
       "mean      3409.167149\n",
       "std       1316.590406\n",
       "min        100.000000\n",
       "25%       3500.000000\n",
       "50%       3500.000000\n",
       "75%       3500.000000\n",
       "max      29000.000000\n",
       "Name: U-Shaped_max, dtype: float64"
      ]
     },
     "metadata": {},
     "output_type": "display_data"
    },
    {
     "data": {
      "text/plain": [
       "0    3500.0\n",
       "1    4000.0\n",
       "2    3500.0\n",
       "3    3500.0\n",
       "4    3500.0\n",
       "Name: U-Shaped_max, dtype: float64"
      ]
     },
     "metadata": {},
     "output_type": "display_data"
    }
   ],
   "source": [
    "# plot the kdeplot again\n",
    "sns.kdeplot(df['U-Shaped_max'])\n",
    "plt.title('KDE Plot of U-Shaped_max after removing the outliers')\n",
    "plt.show()\n",
    "\n",
    "# check the column description\n",
    "display(df['U-Shaped_max'].describe())\n",
    "\n",
    "# print a few rows\n",
    "display(df['U-Shaped_max'].head())"
   ]
  },
  {
   "cell_type": "markdown",
   "id": "c0765082",
   "metadata": {},
   "source": [
    "7. **max_standing**"
   ]
  },
  {
   "cell_type": "code",
   "execution_count": 25,
   "id": "55836912",
   "metadata": {
    "ExecuteTime": {
     "end_time": "2023-05-12T16:08:47.786428Z",
     "start_time": "2023-05-12T16:08:47.738419Z"
    }
   },
   "outputs": [
    {
     "name": "stdout",
     "output_type": "stream",
     "text": [
      "The summary of max_standing is \n",
      " 0       668\n",
      "100     224\n",
      "50      194\n",
      "60      165\n",
      "200     162\n",
      "       ... \n",
      "5000      1\n",
      "880       1\n",
      "440       1\n",
      "490       1\n",
      "169       1\n",
      "Name: max_standing, Length: 138, dtype: int64\n"
     ]
    }
   ],
   "source": [
    "print('The summary of max_standing is', '\\n', df['max_standing'].value_counts())"
   ]
  },
  {
   "cell_type": "markdown",
   "id": "30573999",
   "metadata": {},
   "source": [
    "It makes sense that 668 venues have no standing space at all and a few others have space for 1000s people. The column is integral as expected."
   ]
  },
  {
   "cell_type": "markdown",
   "id": "5ca180eb",
   "metadata": {},
   "source": [
    "8. **Theatre_max**"
   ]
  },
  {
   "cell_type": "code",
   "execution_count": 26,
   "id": "02506b92",
   "metadata": {
    "ExecuteTime": {
     "end_time": "2023-05-12T16:08:47.978422Z",
     "start_time": "2023-05-12T16:08:47.794410Z"
    }
   },
   "outputs": [
    {
     "name": "stdout",
     "output_type": "stream",
     "text": [
      "This is the reason why this column is float: \n",
      " 112.715867     1893\n",
      "40.000000       131\n",
      "60.000000       107\n",
      "30.000000        99\n",
      "80.000000        96\n",
      "               ... \n",
      "7.000000          1\n",
      "1700.000000       1\n",
      "106.000000        1\n",
      "43.000000         1\n",
      "11.000000         1\n",
      "Name: Theatre_max, Length: 166, dtype: int64\n"
     ]
    }
   ],
   "source": [
    "print('This is the reason why this column is float:', '\\n', df['Theatre_max'].value_counts())"
   ]
  },
  {
   "cell_type": "markdown",
   "id": "ce47e3c4",
   "metadata": {},
   "source": [
    "Just like the U-Shaped_max column, we have 112.715867 appearing about 2000 times. That is unexplainable, but that number of row is to high to be dropped. I just round it up to the nearest whole number as before.\n",
    "\n",
    "Then, I will proceed to view a description of the column."
   ]
  },
  {
   "cell_type": "code",
   "execution_count": 27,
   "id": "5e98ed03",
   "metadata": {
    "ExecuteTime": {
     "end_time": "2023-05-12T16:08:48.198739Z",
     "start_time": "2023-05-12T16:08:47.986413Z"
    }
   },
   "outputs": [
    {
     "name": "stdout",
     "output_type": "stream",
     "text": [
      "count    3458.000000\n",
      "mean      113.129265\n",
      "std       137.432809\n",
      "min         1.000000\n",
      "20%        50.800000\n",
      "50%       113.000000\n",
      "90%       120.000000\n",
      "95%       200.000000\n",
      "99%       544.300000\n",
      "99.5%     814.300000\n",
      "99.9%    1932.489000\n",
      "max      4000.000000\n",
      "Name: Theatre_max, dtype: float64\n"
     ]
    }
   ],
   "source": [
    "# Round the column to the nearest whole number\n",
    "df['Theatre_max'] = df['Theatre_max'].round(0)\n",
    "\n",
    "# Check the description\n",
    "print(df['Theatre_max'].describe(percentiles=[.5, .20, .90, .95, .99, .995, .999]))"
   ]
  },
  {
   "cell_type": "markdown",
   "id": "2d793315",
   "metadata": {},
   "source": [
    "Even without a box plot, we can see that there are outliers here. 99.9% of the data falls below 1933, yet there is a 4000 value (almost twice!). We will check for the values beyond 1933 and drop them accordingly."
   ]
  },
  {
   "cell_type": "code",
   "execution_count": 28,
   "id": "576b4951",
   "metadata": {
    "ExecuteTime": {
     "end_time": "2023-05-12T16:08:48.364789Z",
     "start_time": "2023-05-12T16:08:48.254739Z"
    }
   },
   "outputs": [
    {
     "name": "stdout",
     "output_type": "stream",
     "text": [
      "The rows above 1933 are: \n",
      "             venue_name  Loud music / events  Venue provides alcohol  Wi-Fi  \\\n",
      "943              troxy                    1                       1      1   \n",
      "2377          barbican                    0                       1      1   \n",
      "2708  evolution london                    1                       0      0   \n",
      "3606  alexandra palace                    1                       1      1   \n",
      "\n",
      "      supervenue  U-Shaped_max  max_standing  Theatre_max  \\\n",
      "943            0        3500.0          1500       2000.0   \n",
      "2377           0        3500.0             0       1943.0   \n",
      "2708           0        3500.0          4000       4000.0   \n",
      "3606           0        3500.0          2500       2500.0   \n",
      "\n",
      "      Promoted / ticketed events  Wheelchair accessible  \n",
      "943                         True                  False  \n",
      "2377                        True                   True  \n",
      "2708                        True                   True  \n",
      "3606                        True                   True  \n"
     ]
    }
   ],
   "source": [
    "print('The rows above 1933 are:', '\\n', df[df['Theatre_max'] > 1933])"
   ]
  },
  {
   "cell_type": "markdown",
   "id": "99d67d3b",
   "metadata": {},
   "source": [
    "Here, there are 4 rows above that mark one of which is close enough for pardon (1943). Apart from this, we drop every one of those rows."
   ]
  },
  {
   "cell_type": "code",
   "execution_count": 29,
   "id": "d022d572",
   "metadata": {
    "ExecuteTime": {
     "end_time": "2023-05-12T16:08:48.505415Z",
     "start_time": "2023-05-12T16:08:48.364789Z"
    }
   },
   "outputs": [],
   "source": [
    "df.drop([943, 2708, 3606], axis=0, inplace=True)"
   ]
  },
  {
   "cell_type": "markdown",
   "id": "6802ad9c",
   "metadata": {},
   "source": [
    "Let's check with a kdeplot and the column description."
   ]
  },
  {
   "cell_type": "code",
   "execution_count": 30,
   "id": "a958c24e",
   "metadata": {
    "ExecuteTime": {
     "end_time": "2023-05-12T16:08:49.857098Z",
     "start_time": "2023-05-12T16:08:48.505415Z"
    }
   },
   "outputs": [
    {
     "data": {
      "image/png": "[encoded data removed]",
      "text/plain": [
       "<Figure size 640x480 with 1 Axes>"
      ]
     },
     "metadata": {},
     "output_type": "display_data"
    },
    {
     "name": "stdout",
     "output_type": "stream",
     "text": [
      "count    3455.000000\n",
      "mean      110.767294\n",
      "std       108.832001\n",
      "min         1.000000\n",
      "25%        70.000000\n",
      "50%       113.000000\n",
      "75%       113.000000\n",
      "max      1943.000000\n",
      "Name: Theatre_max, dtype: float64\n"
     ]
    }
   ],
   "source": [
    "# Plot a kde plot\n",
    "sns.kdeplot(df['Theatre_max'])\n",
    "plt.title('KDE plot of Theatre_max after removing outliers')\n",
    "plt.show()\n",
    "\n",
    "\n",
    "# Column description\n",
    "print(df['Theatre_max'].describe())"
   ]
  },
  {
   "cell_type": "markdown",
   "id": "9a6c04f7",
   "metadata": {},
   "source": [
    "Now, we notice that some venues have Theatre_max values of 1. That does not make sense. It is more reasonable to say a venue can hold 100 people than just 1 person. The assumption being made here is that this column was recorded in 100s."
   ]
  },
  {
   "cell_type": "code",
   "execution_count": 31,
   "id": "980da393",
   "metadata": {
    "ExecuteTime": {
     "end_time": "2023-05-12T16:08:49.905160Z",
     "start_time": "2023-05-12T16:08:49.873057Z"
    }
   },
   "outputs": [],
   "source": [
    "df['Theatre_max'] = df['Theatre_max'] * 100"
   ]
  },
  {
   "cell_type": "markdown",
   "id": "a277c90c",
   "metadata": {},
   "source": [
    "9. **Promoted / ticketed events**"
   ]
  },
  {
   "cell_type": "code",
   "execution_count": 32,
   "id": "316b20e9",
   "metadata": {
    "ExecuteTime": {
     "end_time": "2023-05-12T16:08:50.049652Z",
     "start_time": "2023-05-12T16:08:49.913058Z"
    }
   },
   "outputs": [
    {
     "name": "stdout",
     "output_type": "stream",
     "text": [
      "This is the summary of this column: \n",
      " False    2083\n",
      "True     1372\n",
      "Name: Promoted / ticketed events, dtype: int64\n"
     ]
    }
   ],
   "source": [
    "print('This is the summary of this column:', '\\n', df['Promoted / ticketed events'].value_counts())"
   ]
  },
  {
   "cell_type": "markdown",
   "id": "4ee0c98a",
   "metadata": {},
   "source": [
    "Most of the venues here do not promote ticketed events. Well, let's encode this column and move on."
   ]
  },
  {
   "cell_type": "code",
   "execution_count": 33,
   "id": "5b83618b",
   "metadata": {
    "ExecuteTime": {
     "end_time": "2023-05-12T16:08:50.159066Z",
     "start_time": "2023-05-12T16:08:50.065273Z"
    }
   },
   "outputs": [],
   "source": [
    "df['Promoted / ticketed events'] = pd.get_dummies(df['Promoted / ticketed events'], drop_first=True)"
   ]
  },
  {
   "cell_type": "markdown",
   "id": "71c6276b",
   "metadata": {},
   "source": [
    "Is that done?"
   ]
  },
  {
   "cell_type": "code",
   "execution_count": 34,
   "id": "ce1a6753",
   "metadata": {
    "ExecuteTime": {
     "end_time": "2023-05-12T16:08:50.299716Z",
     "start_time": "2023-05-12T16:08:50.159066Z"
    }
   },
   "outputs": [
    {
     "name": "stdout",
     "output_type": "stream",
     "text": [
      "<class 'pandas.core.series.Series'>\n",
      "Int64Index: 3455 entries, 0 to 3909\n",
      "Series name: Promoted / ticketed events\n",
      "Non-Null Count  Dtype\n",
      "--------------  -----\n",
      "3455 non-null   uint8\n",
      "dtypes: uint8(1)\n",
      "memory usage: 30.4 KB\n",
      "None\n"
     ]
    }
   ],
   "source": [
    "print(df['Promoted / ticketed events'].info())"
   ]
  },
  {
   "cell_type": "markdown",
   "id": "2adbfeb0",
   "metadata": {},
   "source": [
    "10. **Wheelchair accessible**"
   ]
  },
  {
   "cell_type": "code",
   "execution_count": 35,
   "id": "838dcdd9",
   "metadata": {
    "ExecuteTime": {
     "end_time": "2023-05-12T16:08:50.412543Z",
     "start_time": "2023-05-12T16:08:50.309830Z"
    }
   },
   "outputs": [
    {
     "name": "stdout",
     "output_type": "stream",
     "text": [
      "Finally, let/'s view the target column: \n",
      " True     1799\n",
      "False    1656\n",
      "Name: Wheelchair accessible, dtype: int64\n"
     ]
    }
   ],
   "source": [
    "print(\"Finally, let/'s view the target column:\", '\\n', df['Wheelchair accessible'].value_counts())"
   ]
  },
  {
   "cell_type": "markdown",
   "id": "72a85674",
   "metadata": {},
   "source": [
    "This feature is well-distributed when compared to other features we have seen. The 2 cateogories are almost equally represented. But, we must encode and check."
   ]
  },
  {
   "cell_type": "code",
   "execution_count": 36,
   "id": "1a16d586",
   "metadata": {
    "ExecuteTime": {
     "end_time": "2023-05-12T16:08:50.576774Z",
     "start_time": "2023-05-12T16:08:50.428609Z"
    }
   },
   "outputs": [
    {
     "name": "stdout",
     "output_type": "stream",
     "text": [
      "<class 'pandas.core.series.Series'>\n",
      "Int64Index: 3455 entries, 0 to 3909\n",
      "Series name: Wheelchair accessible\n",
      "Non-Null Count  Dtype\n",
      "--------------  -----\n",
      "3455 non-null   uint8\n",
      "dtypes: uint8(1)\n",
      "memory usage: 30.4 KB\n",
      "None\n"
     ]
    }
   ],
   "source": [
    "df['Wheelchair accessible'] = pd.get_dummies(df['Wheelchair accessible'], drop_first=True)\n",
    "\n",
    "print(df['Wheelchair accessible'].info())"
   ]
  },
  {
   "cell_type": "markdown",
   "id": "14c18d46",
   "metadata": {},
   "source": [
    "Now that we have dealt with every column we can just take a quickview at the cleaner dataset."
   ]
  },
  {
   "cell_type": "code",
   "execution_count": 37,
   "id": "e9292153",
   "metadata": {
    "ExecuteTime": {
     "end_time": "2023-05-12T16:08:51.021621Z",
     "start_time": "2023-05-12T16:08:50.597998Z"
    }
   },
   "outputs": [
    {
     "data": {
      "text/html": [
       "<div>\n",
       "<style scoped>\n",
       "    .dataframe tbody tr th:only-of-type {\n",
       "        vertical-align: middle;\n",
       "    }\n",
       "\n",
       "    .dataframe tbody tr th {\n",
       "        vertical-align: top;\n",
       "    }\n",
       "\n",
       "    .dataframe thead th {\n",
       "        text-align: right;\n",
       "    }\n",
       "</style>\n",
       "<table border=\"1\" class=\"dataframe\">\n",
       "  <thead>\n",
       "    <tr style=\"text-align: right;\">\n",
       "      <th></th>\n",
       "      <th>venue_name</th>\n",
       "      <th>Loud music / events</th>\n",
       "      <th>Venue provides alcohol</th>\n",
       "      <th>Wi-Fi</th>\n",
       "      <th>supervenue</th>\n",
       "      <th>U-Shaped_max</th>\n",
       "      <th>max_standing</th>\n",
       "      <th>Theatre_max</th>\n",
       "      <th>Promoted / ticketed events</th>\n",
       "      <th>Wheelchair accessible</th>\n",
       "    </tr>\n",
       "  </thead>\n",
       "  <tbody>\n",
       "    <tr>\n",
       "      <th>0</th>\n",
       "      <td>techspace aldgate east</td>\n",
       "      <td>0</td>\n",
       "      <td>0</td>\n",
       "      <td>1</td>\n",
       "      <td>0</td>\n",
       "      <td>3500.0</td>\n",
       "      <td>0</td>\n",
       "      <td>11300.0</td>\n",
       "      <td>0</td>\n",
       "      <td>0</td>\n",
       "    </tr>\n",
       "    <tr>\n",
       "      <th>1</th>\n",
       "      <td>green rooms hotel</td>\n",
       "      <td>1</td>\n",
       "      <td>1</td>\n",
       "      <td>1</td>\n",
       "      <td>0</td>\n",
       "      <td>4000.0</td>\n",
       "      <td>120</td>\n",
       "      <td>8000.0</td>\n",
       "      <td>1</td>\n",
       "      <td>0</td>\n",
       "    </tr>\n",
       "    <tr>\n",
       "      <th>2</th>\n",
       "      <td>148 leadenhall street</td>\n",
       "      <td>0</td>\n",
       "      <td>0</td>\n",
       "      <td>1</td>\n",
       "      <td>0</td>\n",
       "      <td>3500.0</td>\n",
       "      <td>0</td>\n",
       "      <td>11300.0</td>\n",
       "      <td>0</td>\n",
       "      <td>0</td>\n",
       "    </tr>\n",
       "    <tr>\n",
       "      <th>3</th>\n",
       "      <td>conway hall</td>\n",
       "      <td>0</td>\n",
       "      <td>0</td>\n",
       "      <td>1</td>\n",
       "      <td>0</td>\n",
       "      <td>3500.0</td>\n",
       "      <td>60</td>\n",
       "      <td>6000.0</td>\n",
       "      <td>0</td>\n",
       "      <td>0</td>\n",
       "    </tr>\n",
       "    <tr>\n",
       "      <th>4</th>\n",
       "      <td>gridiron building</td>\n",
       "      <td>0</td>\n",
       "      <td>0</td>\n",
       "      <td>1</td>\n",
       "      <td>0</td>\n",
       "      <td>3500.0</td>\n",
       "      <td>0</td>\n",
       "      <td>11300.0</td>\n",
       "      <td>0</td>\n",
       "      <td>0</td>\n",
       "    </tr>\n",
       "  </tbody>\n",
       "</table>\n",
       "</div>"
      ],
      "text/plain": [
       "               venue_name  Loud music / events  Venue provides alcohol  Wi-Fi  \\\n",
       "0  techspace aldgate east                    0                       0      1   \n",
       "1       green rooms hotel                    1                       1      1   \n",
       "2   148 leadenhall street                    0                       0      1   \n",
       "3             conway hall                    0                       0      1   \n",
       "4       gridiron building                    0                       0      1   \n",
       "\n",
       "   supervenue  U-Shaped_max  max_standing  Theatre_max  \\\n",
       "0           0        3500.0             0      11300.0   \n",
       "1           0        4000.0           120       8000.0   \n",
       "2           0        3500.0             0      11300.0   \n",
       "3           0        3500.0            60       6000.0   \n",
       "4           0        3500.0             0      11300.0   \n",
       "\n",
       "   Promoted / ticketed events  Wheelchair accessible  \n",
       "0                           0                      0  \n",
       "1                           1                      0  \n",
       "2                           0                      0  \n",
       "3                           0                      0  \n",
       "4                           0                      0  "
      ]
     },
     "metadata": {},
     "output_type": "display_data"
    },
    {
     "name": "stdout",
     "output_type": "stream",
     "text": [
      "\n",
      "\n"
     ]
    },
    {
     "data": {
      "text/html": [
       "<div>\n",
       "<style scoped>\n",
       "    .dataframe tbody tr th:only-of-type {\n",
       "        vertical-align: middle;\n",
       "    }\n",
       "\n",
       "    .dataframe tbody tr th {\n",
       "        vertical-align: top;\n",
       "    }\n",
       "\n",
       "    .dataframe thead th {\n",
       "        text-align: right;\n",
       "    }\n",
       "</style>\n",
       "<table border=\"1\" class=\"dataframe\">\n",
       "  <thead>\n",
       "    <tr style=\"text-align: right;\">\n",
       "      <th></th>\n",
       "      <th>Loud music / events</th>\n",
       "      <th>Venue provides alcohol</th>\n",
       "      <th>Wi-Fi</th>\n",
       "      <th>supervenue</th>\n",
       "      <th>U-Shaped_max</th>\n",
       "      <th>max_standing</th>\n",
       "      <th>Theatre_max</th>\n",
       "      <th>Promoted / ticketed events</th>\n",
       "      <th>Wheelchair accessible</th>\n",
       "    </tr>\n",
       "  </thead>\n",
       "  <tbody>\n",
       "    <tr>\n",
       "      <th>count</th>\n",
       "      <td>3455.000000</td>\n",
       "      <td>3455.000000</td>\n",
       "      <td>3455.000000</td>\n",
       "      <td>3455.000000</td>\n",
       "      <td>3455.000000</td>\n",
       "      <td>3455.000000</td>\n",
       "      <td>3455.000000</td>\n",
       "      <td>3455.000000</td>\n",
       "      <td>3455.000000</td>\n",
       "    </tr>\n",
       "    <tr>\n",
       "      <th>mean</th>\n",
       "      <td>0.381476</td>\n",
       "      <td>0.743849</td>\n",
       "      <td>0.928220</td>\n",
       "      <td>0.060203</td>\n",
       "      <td>3409.088278</td>\n",
       "      <td>123.729667</td>\n",
       "      <td>11076.729378</td>\n",
       "      <td>0.397106</td>\n",
       "      <td>0.520695</td>\n",
       "    </tr>\n",
       "    <tr>\n",
       "      <th>std</th>\n",
       "      <td>0.485819</td>\n",
       "      <td>0.436569</td>\n",
       "      <td>0.258161</td>\n",
       "      <td>0.237896</td>\n",
       "      <td>1317.159327</td>\n",
       "      <td>272.971503</td>\n",
       "      <td>10883.200095</td>\n",
       "      <td>0.489369</td>\n",
       "      <td>0.499644</td>\n",
       "    </tr>\n",
       "    <tr>\n",
       "      <th>min</th>\n",
       "      <td>0.000000</td>\n",
       "      <td>0.000000</td>\n",
       "      <td>0.000000</td>\n",
       "      <td>0.000000</td>\n",
       "      <td>100.000000</td>\n",
       "      <td>0.000000</td>\n",
       "      <td>100.000000</td>\n",
       "      <td>0.000000</td>\n",
       "      <td>0.000000</td>\n",
       "    </tr>\n",
       "    <tr>\n",
       "      <th>25%</th>\n",
       "      <td>0.000000</td>\n",
       "      <td>0.000000</td>\n",
       "      <td>1.000000</td>\n",
       "      <td>0.000000</td>\n",
       "      <td>3500.000000</td>\n",
       "      <td>20.000000</td>\n",
       "      <td>7000.000000</td>\n",
       "      <td>0.000000</td>\n",
       "      <td>0.000000</td>\n",
       "    </tr>\n",
       "    <tr>\n",
       "      <th>50%</th>\n",
       "      <td>0.000000</td>\n",
       "      <td>1.000000</td>\n",
       "      <td>1.000000</td>\n",
       "      <td>0.000000</td>\n",
       "      <td>3500.000000</td>\n",
       "      <td>60.000000</td>\n",
       "      <td>11300.000000</td>\n",
       "      <td>0.000000</td>\n",
       "      <td>1.000000</td>\n",
       "    </tr>\n",
       "    <tr>\n",
       "      <th>75%</th>\n",
       "      <td>1.000000</td>\n",
       "      <td>1.000000</td>\n",
       "      <td>1.000000</td>\n",
       "      <td>0.000000</td>\n",
       "      <td>3500.000000</td>\n",
       "      <td>150.000000</td>\n",
       "      <td>11300.000000</td>\n",
       "      <td>1.000000</td>\n",
       "      <td>1.000000</td>\n",
       "    </tr>\n",
       "    <tr>\n",
       "      <th>max</th>\n",
       "      <td>1.000000</td>\n",
       "      <td>1.000000</td>\n",
       "      <td>1.000000</td>\n",
       "      <td>1.000000</td>\n",
       "      <td>29000.000000</td>\n",
       "      <td>7500.000000</td>\n",
       "      <td>194300.000000</td>\n",
       "      <td>1.000000</td>\n",
       "      <td>1.000000</td>\n",
       "    </tr>\n",
       "  </tbody>\n",
       "</table>\n",
       "</div>"
      ],
      "text/plain": [
       "       Loud music / events  Venue provides alcohol        Wi-Fi   supervenue  \\\n",
       "count          3455.000000             3455.000000  3455.000000  3455.000000   \n",
       "mean              0.381476                0.743849     0.928220     0.060203   \n",
       "std               0.485819                0.436569     0.258161     0.237896   \n",
       "min               0.000000                0.000000     0.000000     0.000000   \n",
       "25%               0.000000                0.000000     1.000000     0.000000   \n",
       "50%               0.000000                1.000000     1.000000     0.000000   \n",
       "75%               1.000000                1.000000     1.000000     0.000000   \n",
       "max               1.000000                1.000000     1.000000     1.000000   \n",
       "\n",
       "       U-Shaped_max  max_standing    Theatre_max  Promoted / ticketed events  \\\n",
       "count   3455.000000   3455.000000    3455.000000                 3455.000000   \n",
       "mean    3409.088278    123.729667   11076.729378                    0.397106   \n",
       "std     1317.159327    272.971503   10883.200095                    0.489369   \n",
       "min      100.000000      0.000000     100.000000                    0.000000   \n",
       "25%     3500.000000     20.000000    7000.000000                    0.000000   \n",
       "50%     3500.000000     60.000000   11300.000000                    0.000000   \n",
       "75%     3500.000000    150.000000   11300.000000                    1.000000   \n",
       "max    29000.000000   7500.000000  194300.000000                    1.000000   \n",
       "\n",
       "       Wheelchair accessible  \n",
       "count            3455.000000  \n",
       "mean                0.520695  \n",
       "std                 0.499644  \n",
       "min                 0.000000  \n",
       "25%                 0.000000  \n",
       "50%                 1.000000  \n",
       "75%                 1.000000  \n",
       "max                 1.000000  "
      ]
     },
     "metadata": {},
     "output_type": "display_data"
    },
    {
     "name": "stdout",
     "output_type": "stream",
     "text": [
      "\n",
      "\n",
      "<class 'pandas.core.frame.DataFrame'>\n",
      "Int64Index: 3455 entries, 0 to 3909\n",
      "Data columns (total 10 columns):\n",
      " #   Column                      Non-Null Count  Dtype  \n",
      "---  ------                      --------------  -----  \n",
      " 0   venue_name                  3455 non-null   object \n",
      " 1   Loud music / events         3455 non-null   uint8  \n",
      " 2   Venue provides alcohol      3455 non-null   int64  \n",
      " 3   Wi-Fi                       3455 non-null   uint8  \n",
      " 4   supervenue                  3455 non-null   uint8  \n",
      " 5   U-Shaped_max                3455 non-null   float64\n",
      " 6   max_standing                3455 non-null   int64  \n",
      " 7   Theatre_max                 3455 non-null   float64\n",
      " 8   Promoted / ticketed events  3455 non-null   uint8  \n",
      " 9   Wheelchair accessible       3455 non-null   uint8  \n",
      "dtypes: float64(2), int64(2), object(1), uint8(5)\n",
      "memory usage: 178.8+ KB\n"
     ]
    },
    {
     "data": {
      "text/plain": [
       "None"
      ]
     },
     "metadata": {},
     "output_type": "display_data"
    }
   ],
   "source": [
    "display(df.head())\n",
    "print('\\n')\n",
    "display(df.describe())\n",
    "print('\\n')\n",
    "display(df.info())"
   ]
  },
  {
   "cell_type": "markdown",
   "id": "52891feb",
   "metadata": {},
   "source": [
    "After the long and elaborate cleaning we arrive at a dataset of 3455 rows and 10 columns\n",
    "* I encoded the categorical columns that were not categorized (Note that 0 means False everywhere)\n",
    "* I removed extremely large values from 2 columns\n",
    "* I rounded two decimal columns to whole numbers\n",
    "* I assumed that two columns were recorded in 100s, and I multiplied the values by 100 accordingly"
   ]
  },
  {
   "cell_type": "markdown",
   "id": "f82eb0b6",
   "metadata": {},
   "source": [
    "**DATA VISUALIZATION AND EXPLORATORY DATA ANALYSIS**\n",
    "\n",
    "There are a lot of information hidden in this dataset and I just need right questions to bring them out.\n",
    "* There are very few supervenues. Maybe the criteria are really high. Are supervenues more likey to be Wheelchair accessible?\n",
    "* How does Theatre_max relate to max_standing?\n",
    "* Are venues that have large capacities more likely to be accessible to wheelchairs?"
   ]
  },
  {
   "cell_type": "markdown",
   "id": "5b273446",
   "metadata": {},
   "source": [
    "*Are supervenues more likely to be accessible to wheelchairs?*\n",
    "\n",
    "A countplot can show that."
   ]
  },
  {
   "cell_type": "code",
   "execution_count": 38,
   "id": "fa60685c",
   "metadata": {
    "ExecuteTime": {
     "end_time": "2023-05-12T16:08:52.226316Z",
     "start_time": "2023-05-12T16:08:51.037648Z"
    }
   },
   "outputs": [
    {
     "data": {
      "image/png": "[encoded data removed]",
      "text/plain": [
       "<Figure size 640x480 with 1 Axes>"
      ]
     },
     "metadata": {},
     "output_type": "display_data"
    }
   ],
   "source": [
    "sns.countplot(x='supervenue', data=df, hue='Wheelchair accessible')\n",
    "plt.title('Countplot of supervenues categorised by wheelchair accessibility')\n",
    "plt.show()"
   ]
  },
  {
   "cell_type": "markdown",
   "id": "cd4ac53a",
   "metadata": {},
   "source": [
    "It seems like most supervenues do not have ramps."
   ]
  },
  {
   "cell_type": "code",
   "execution_count": 39,
   "id": "4c4da145",
   "metadata": {
    "ExecuteTime": {
     "end_time": "2023-05-12T16:08:52.328538Z",
     "start_time": "2023-05-12T16:08:52.250184Z"
    }
   },
   "outputs": [
    {
     "name": "stdout",
     "output_type": "stream",
     "text": [
      "30.28846153846154 % of supervenues are wheelchair accessible\n",
      "53.46473668001232 % of non_supervenues are wheelchair accessible\n"
     ]
    }
   ],
   "source": [
    "supervenue = df[df['supervenue'] == True].shape[0]\n",
    "non_supervenue = df[df['supervenue'] == False].shape[0]\n",
    "\n",
    "supervenue_and_wheelchair_accessible = df[(df['supervenue'] == True) & (df['Wheelchair accessible'] == True)].shape[0]\n",
    "supervenue_and_not_wheelchair_accessible = df[(df['supervenue'] == True) & (df['Wheelchair accessible'] == False)].shape[0]\n",
    "\n",
    "non_supervenue_and_wheelchair_accessible = df[(df['supervenue'] == False) & (df['Wheelchair accessible'] == True)].shape[0]\n",
    "non_supervenue_and_not_wheelchair_accessible = df[(df['supervenue'] == False) & (df['Wheelchair accessible'] == False)]\n",
    "\n",
    "\n",
    "print(supervenue_and_wheelchair_accessible * 100 / supervenue, '% of supervenues are wheelchair accessible' )\n",
    "print(non_supervenue_and_wheelchair_accessible * 100 / non_supervenue, '% of non_supervenues are wheelchair accessible')"
   ]
  },
  {
   "cell_type": "markdown",
   "id": "1b0842ae",
   "metadata": {},
   "source": [
    "It is now evident that most supervenues do not have ramps. That might be because ramps are not one of the criteria of being a supervenue. We can consider making it one of the criteria."
   ]
  },
  {
   "cell_type": "markdown",
   "id": "5d81d070",
   "metadata": {},
   "source": [
    "*How does Theatre_max relate to max_standing?*\n",
    "\n",
    "Scatter plot will be the best way to reveal the relationship."
   ]
  },
  {
   "cell_type": "code",
   "execution_count": 40,
   "id": "1353c927",
   "metadata": {
    "ExecuteTime": {
     "end_time": "2023-05-12T16:09:08.007424Z",
     "start_time": "2023-05-12T16:08:52.348645Z"
    }
   },
   "outputs": [
    {
     "data": {
      "image/png": "[encoded data removed]",
      "text/plain": [
       "<Figure size 500x500 with 1 Axes>"
      ]
     },
     "metadata": {},
     "output_type": "display_data"
    }
   ],
   "source": [
    "sns.catplot(x='Theatre_max', y='max_standing', data=df)\n",
    "plt.title('Scatterplot of Theatre_max against max_standing')\n",
    "plt.xticks([], rotation=90)\n",
    "plt.show()"
   ]
  },
  {
   "cell_type": "markdown",
   "id": "134b670b",
   "metadata": {},
   "source": [
    "What about the correlation?\n"
   ]
  },
  {
   "cell_type": "code",
   "execution_count": 41,
   "id": "419fa32e",
   "metadata": {
    "ExecuteTime": {
     "end_time": "2023-05-12T16:09:08.170605Z",
     "start_time": "2023-05-12T16:09:08.032920Z"
    }
   },
   "outputs": [
    {
     "name": "stdout",
     "output_type": "stream",
     "text": [
      "The correlation between max_standing and Theatre_max is 0.35274817244730555\n"
     ]
    }
   ],
   "source": [
    "print('The correlation between max_standing and Theatre_max is', df['max_standing'].corr(df['Theatre_max']))"
   ]
  },
  {
   "cell_type": "markdown",
   "id": "2f9de3fa",
   "metadata": {},
   "source": [
    "There is no strong linear correlation between the two features. Yet, there might be a higher degree correlation"
   ]
  },
  {
   "cell_type": "markdown",
   "id": "f51718a5",
   "metadata": {},
   "source": [
    "*Are venues that have large capacity more likely to be wheelchair accessible?*\n",
    "\n",
    "Let's see a categorical plot"
   ]
  },
  {
   "cell_type": "code",
   "execution_count": 42,
   "id": "48e1b165",
   "metadata": {
    "ExecuteTime": {
     "end_time": "2023-05-12T16:09:09.622339Z",
     "start_time": "2023-05-12T16:09:08.191477Z"
    }
   },
   "outputs": [
    {
     "data": {
      "image/png": "[encoded data removed]",
      "text/plain": [
       "<Figure size 500x500 with 1 Axes>"
      ]
     },
     "metadata": {},
     "output_type": "display_data"
    }
   ],
   "source": [
    "sns.catplot(x='Wheelchair accessible', y='max_standing', data=df, kind='box', sym='')\n",
    "plt.title('Boxplot of max_standing categorised by wheel chair accessibility')\n",
    "plt.show()"
   ]
  },
  {
   "cell_type": "markdown",
   "id": "8a63cda2",
   "metadata": {},
   "source": [
    "From the above diagram, we can see that the average max_standing of venues with ramps is higher than that of venues without ramps. We can say that 'it is possible that larger venues have ramps.'"
   ]
  },
  {
   "cell_type": "markdown",
   "id": "66902090",
   "metadata": {},
   "source": [
    "**MODEL DEVELOPMENT**\n",
    "\n",
    "This is a classification problem (we are classifying venues into 2 categories based on whether they are accessible to wheelchairs or not). A lot of models are available in scikit-learn to achieve this but K-Nearest Neighbour, Decision Tree Classifier and Support Vector Classification stand out for their ability to capture data without overfitting. They are also easy to tune and fast to fit. These 3 models will be fitted and if need be, they will be combined together to achieve more trustworthy results.\n",
    "\n",
    "Before fitting any model, they target variable will be separated from the features. Also, the venue_name will be dropped before fitting any model. This is because there are 1444 venues as we have seen before; encoding them will not be an effective feature engineering especially considering that we have only over 3000 entries.\n",
    "\n",
    "\n",
    "Also we need to determine how to evalaute the model before setting out.\n",
    "\n",
    "We need to save time and resources while reaching out to event centres. At least 2 out of every 3 (67%) venues we contact must truly not have a ramp. That means if we predict that 3 venues do not have a ramp, at least 2 of them should really not have. Thus, we are looking at getting our precision for the False value(venues that do not have ramps) above 67%. The classification report gives that to us under the **precision** column and the **0** row. While we are keeping an eye on that figure, we will seek to maximize the f1-score of each model, since a good f1-score guarantees that false negatives and false positives are minimized."
   ]
  },
  {
   "cell_type": "code",
   "execution_count": 43,
   "id": "0ab02d69",
   "metadata": {
    "ExecuteTime": {
     "end_time": "2023-05-12T16:09:09.679187Z",
     "start_time": "2023-05-12T16:09:09.638934Z"
    }
   },
   "outputs": [],
   "source": [
    "X = df.drop(['venue_name', 'Wheelchair accessible'], axis=1)\n",
    "y = df['Wheelchair accessible']"
   ]
  },
  {
   "cell_type": "markdown",
   "id": "fcf21cc4",
   "metadata": {},
   "source": [
    "Next, we create training set (X_train, y_train), a test set(X_test, y_test) and a validation set(X_val, y_val). The training set will be 80% of the total dataset while the test and validation sets will be 10% each."
   ]
  },
  {
   "cell_type": "code",
   "execution_count": 44,
   "id": "3a82bd0c",
   "metadata": {
    "ExecuteTime": {
     "end_time": "2023-05-12T16:09:09.822588Z",
     "start_time": "2023-05-12T16:09:09.700529Z"
    }
   },
   "outputs": [],
   "source": [
    "X_train, X_hold, y_train, y_hold = train_test_split(X, y, stratify=y, random_state=1122, test_size=.2)\n",
    "X_test, X_val, y_test, y_val = train_test_split(X_hold, y_hold, random_state=1122, train_size=.5)"
   ]
  },
  {
   "cell_type": "markdown",
   "id": "6f5fb653",
   "metadata": {},
   "source": [
    "*Fitting KNN*"
   ]
  },
  {
   "cell_type": "markdown",
   "id": "3e5387b2",
   "metadata": {},
   "source": [
    "Since many models are going to be fit, it is easier to create an evaluation function than to type lines of code over and over again."
   ]
  },
  {
   "cell_type": "code",
   "execution_count": 45,
   "id": "e13d6125",
   "metadata": {
    "ExecuteTime": {
     "end_time": "2023-05-12T16:09:09.948449Z",
     "start_time": "2023-05-12T16:09:09.830484Z"
    }
   },
   "outputs": [],
   "source": [
    "def assess(true_value, predicted_value):\n",
    "    cm = confusion_matrix(true_value, predicted_value)\n",
    "    # disp = ConfusionMatrixDisplay(confusion_matrix=cm)\n",
    "    cr = classification_report(true_value, predicted_value)\n",
    "    print(cm)\n",
    "    # disp.plot()\n",
    "    print(cr)\n",
    "    \n",
    "def assess_classifier(model):\n",
    "    '''\n",
    "    My classification model assessment function\n",
    "    '''\n",
    "    \n",
    "    train_acc = met.accuracy_score(y_train, model.predict(X_train))\n",
    "    train_bal_acc = met.balanced_accuracy_score(y_train, model.predict(X_train))\n",
    "    train_f1 = met.f1_score(y_train, model.predict(X_train))\n",
    "    train_recall = met.recall_score(y_train, model.predict(X_train))\n",
    "    train_precision = met.precision_score(y_train, model.predict(X_train))\n",
    "    \n",
    "    test_acc = met.accuracy_score(y_test, model.predict(X_test))\n",
    "    test_bal_acc = met.balanced_accuracy_score(y_test, model.predict(X_test))\n",
    "    test_f1 = met.f1_score(y_test, model.predict(X_test))\n",
    "    test_recall = met.recall_score(y_test, model.predict(X_test))\n",
    "    test_precision = met.precision_score(y_test, model.predict(X_test))\n",
    "    \n",
    "    val_acc = met.accuracy_score(y_val, model.predict(X_val))\n",
    "    val_bal_acc = met.balanced_accuracy_score(y_val, model.predict(X_val))\n",
    "    val_f1 = met.f1_score(y_val, model.predict(X_val))\n",
    "    val_recall = met.recall_score(y_val, model.predict(X_val))\n",
    "    val_precision = met.precision_score(y_val, model.predict(X_val))\n",
    "    \n",
    "    dafa = pd.DataFrame({\n",
    "        'Accuracy':[train_acc, test_acc, val_acc],\n",
    "        'Balanced Accuracy':[train_bal_acc, test_bal_acc, val_bal_acc],\n",
    "        'F1 score':[train_f1, test_f1, val_f1],\n",
    "        'Recall':[train_recall, test_recall, val_recall],\n",
    "        'Precision':[train_precision, test_precision, val_precision]}, \n",
    "        \n",
    "        index=['Train', 'Test', 'Validation']\n",
    "    )\n",
    "    display(dafa)"
   ]
  },
  {
   "cell_type": "markdown",
   "id": "d331ef57",
   "metadata": {},
   "source": [
    "We will instantiate the 3 models and the scoring function, tune them using Cross-validation and then pick the best."
   ]
  },
  {
   "cell_type": "code",
   "execution_count": 46,
   "id": "217702d7",
   "metadata": {
    "ExecuteTime": {
     "end_time": "2023-05-12T16:09:10.074380Z",
     "start_time": "2023-05-12T16:09:09.956449Z"
    }
   },
   "outputs": [],
   "source": [
    "knn = KNeighborsClassifier()\n",
    "\n",
    "dtc = DecisionTreeClassifier()\n",
    "\n",
    "svc = SVC()\n",
    "\n",
    "# The scoring function\n",
    "f1 = make_scorer(f1_score)"
   ]
  },
  {
   "cell_type": "markdown",
   "id": "f067c8bd",
   "metadata": {},
   "source": [
    "Tuning knn"
   ]
  },
  {
   "cell_type": "code",
   "execution_count": 47,
   "id": "a13985a3",
   "metadata": {
    "ExecuteTime": {
     "end_time": "2023-05-12T16:09:26.591288Z",
     "start_time": "2023-05-12T16:09:10.082273Z"
    }
   },
   "outputs": [
    {
     "data": {
      "text/html": [
       "<div>\n",
       "<style scoped>\n",
       "    .dataframe tbody tr th:only-of-type {\n",
       "        vertical-align: middle;\n",
       "    }\n",
       "\n",
       "    .dataframe tbody tr th {\n",
       "        vertical-align: top;\n",
       "    }\n",
       "\n",
       "    .dataframe thead th {\n",
       "        text-align: right;\n",
       "    }\n",
       "</style>\n",
       "<table border=\"1\" class=\"dataframe\">\n",
       "  <thead>\n",
       "    <tr style=\"text-align: right;\">\n",
       "      <th></th>\n",
       "      <th>Accuracy</th>\n",
       "      <th>Balanced Accuracy</th>\n",
       "      <th>F1 score</th>\n",
       "      <th>Recall</th>\n",
       "      <th>Precision</th>\n",
       "    </tr>\n",
       "  </thead>\n",
       "  <tbody>\n",
       "    <tr>\n",
       "      <th>Train</th>\n",
       "      <td>0.656657</td>\n",
       "      <td>0.656147</td>\n",
       "      <td>0.669683</td>\n",
       "      <td>0.668520</td>\n",
       "      <td>0.670851</td>\n",
       "    </tr>\n",
       "    <tr>\n",
       "      <th>Test</th>\n",
       "      <td>0.643478</td>\n",
       "      <td>0.643450</td>\n",
       "      <td>0.639296</td>\n",
       "      <td>0.633721</td>\n",
       "      <td>0.644970</td>\n",
       "    </tr>\n",
       "    <tr>\n",
       "      <th>Validation</th>\n",
       "      <td>0.690751</td>\n",
       "      <td>0.689671</td>\n",
       "      <td>0.711590</td>\n",
       "      <td>0.702128</td>\n",
       "      <td>0.721311</td>\n",
       "    </tr>\n",
       "  </tbody>\n",
       "</table>\n",
       "</div>"
      ],
      "text/plain": [
       "            Accuracy  Balanced Accuracy  F1 score    Recall  Precision\n",
       "Train       0.656657           0.656147  0.669683  0.668520   0.670851\n",
       "Test        0.643478           0.643450  0.639296  0.633721   0.644970\n",
       "Validation  0.690751           0.689671  0.711590  0.702128   0.721311"
      ]
     },
     "metadata": {},
     "output_type": "display_data"
    },
    {
     "name": "stdout",
     "output_type": "stream",
     "text": [
      "The best parameter set for knn is {'leaf_size': 5, 'n_neighbors': 50}\n"
     ]
    }
   ],
   "source": [
    "knn_param = {'n_neighbors':[10, 30, 50, 80],\n",
    "        'leaf_size':[5, 9, 15]}\n",
    "\n",
    "knn_cv = GridSearchCV(estimator=knn, param_grid=knn_param, cv=5, scoring=f1)\n",
    "knn_cv.fit(X_train, y_train)\n",
    "\n",
    "assess_classifier(knn_cv.best_estimator_)\n",
    "print('The best parameter set for knn is', knn_cv.best_params_)"
   ]
  },
  {
   "cell_type": "markdown",
   "id": "0e05c2f5",
   "metadata": {},
   "source": [
    "Tuning Decision Tree Classifier"
   ]
  },
  {
   "cell_type": "code",
   "execution_count": 48,
   "id": "015220ea",
   "metadata": {
    "ExecuteTime": {
     "end_time": "2023-05-12T16:10:10.271481Z",
     "start_time": "2023-05-12T16:09:26.599285Z"
    }
   },
   "outputs": [
    {
     "name": "stdout",
     "output_type": "stream",
     "text": [
      "[[ 753  572]\n",
      " [ 410 1029]]\n",
      "              precision    recall  f1-score   support\n",
      "\n",
      "           0       0.65      0.57      0.61      1325\n",
      "           1       0.64      0.72      0.68      1439\n",
      "\n",
      "    accuracy                           0.64      2764\n",
      "   macro avg       0.65      0.64      0.64      2764\n",
      "weighted avg       0.64      0.64      0.64      2764\n",
      "\n",
      "The best parameter set for Decision Tree Classifier is {'max_depth': 3, 'max_features': 5, 'max_leaf_nodes': 5, 'min_samples_leaf': 5, 'min_samples_split': 2}\n"
     ]
    }
   ],
   "source": [
    "dtc_param ={\n",
    "    'max_depth': [3, 5, 9, 20, 50],\n",
    "    'min_samples_split':[2, 4],\n",
    "    'min_samples_leaf':[1, 5, 10],\n",
    "    'max_features': [2, 5, 10],\n",
    "    'max_leaf_nodes':[2, 5, 10]\n",
    "}\n",
    "\n",
    "dtc_cv = GridSearchCV(estimator=dtc, param_grid=dtc_param, scoring=f1, cv=5)\n",
    "dtc_cv.fit(X_train, y_train)\n",
    "\n",
    "\n",
    "assess(y_train, dtc_cv.best_estimator_.predict(X_train))\n",
    "print('The best parameter set for Decision Tree Classifier is', dtc_cv.best_params_)"
   ]
  },
  {
   "cell_type": "markdown",
   "id": "1e80249c",
   "metadata": {},
   "source": [
    "Tuning SVC"
   ]
  },
  {
   "cell_type": "code",
   "execution_count": 49,
   "id": "d0d335e2",
   "metadata": {
    "ExecuteTime": {
     "end_time": "2023-05-12T16:10:10.348927Z",
     "start_time": "2023-05-12T16:10:10.279478Z"
    }
   },
   "outputs": [
    {
     "data": {
      "text/plain": [
       "\"\\nsvc_param = {\\n    'C':[1, 10, 15, 20],\\n    'degree':[1, 2, 3],\\n    'gamma':[0.05, 0.1, .9]\\n    \\n}\\n\\nsvc_cv = GridSearchCV(estimator=svc, param_grid=svc_param, scoring=f1, cv=10)\\nsvc_cv.fit(X_train, y_train)\\n\\nassess(y_train, svc_cv.best_estimator_.predict(X_train))     \\nprint('The best parameters for svc are', svc_cv.best_params_)\\n\""
      ]
     },
     "execution_count": 49,
     "metadata": {},
     "output_type": "execute_result"
    }
   ],
   "source": [
    "'''\n",
    "svc_param = {\n",
    "    'C':[1, 10, 15, 20],\n",
    "    'degree':[1, 2, 3],\n",
    "    'gamma':[0.05, 0.1, .9]\n",
    "    \n",
    "}\n",
    "\n",
    "svc_cv = GridSearchCV(estimator=svc, param_grid=svc_param, scoring=f1, cv=10)\n",
    "svc_cv.fit(X_train, y_train)\n",
    "\n",
    "assess(y_train, svc_cv.best_estimator_.predict(X_train))     \n",
    "print('The best parameters for svc are', svc_cv.best_params_)\n",
    "'''"
   ]
  },
  {
   "cell_type": "markdown",
   "id": "1375ed19",
   "metadata": {},
   "source": [
    "Taking a look at the assessment of the 3 models, svc did best with 81% precision on the 0 target. Let's see how they all do on the test set.\n",
    "\n",
    "knn on test set"
   ]
  },
  {
   "cell_type": "code",
   "execution_count": 50,
   "id": "af5ce1b6",
   "metadata": {
    "ExecuteTime": {
     "end_time": "2023-05-12T16:10:10.686955Z",
     "start_time": "2023-05-12T16:10:10.369761Z"
    }
   },
   "outputs": [
    {
     "name": "stdout",
     "output_type": "stream",
     "text": [
      "[[113  60]\n",
      " [ 63 109]]\n",
      "              precision    recall  f1-score   support\n",
      "\n",
      "           0       0.64      0.65      0.65       173\n",
      "           1       0.64      0.63      0.64       172\n",
      "\n",
      "    accuracy                           0.64       345\n",
      "   macro avg       0.64      0.64      0.64       345\n",
      "weighted avg       0.64      0.64      0.64       345\n",
      "\n"
     ]
    }
   ],
   "source": [
    "assess(y_test, knn_cv.best_estimator_.predict(X_test))"
   ]
  },
  {
   "cell_type": "markdown",
   "id": "88c64da4",
   "metadata": {},
   "source": [
    "knn is seen to have 64% precision on train set and 65% on test.\n",
    "\n",
    "On to DTC"
   ]
  },
  {
   "cell_type": "code",
   "execution_count": 51,
   "id": "f4dcd2d2",
   "metadata": {
    "ExecuteTime": {
     "end_time": "2023-05-12T16:10:10.857163Z",
     "start_time": "2023-05-12T16:10:10.690766Z"
    }
   },
   "outputs": [
    {
     "name": "stdout",
     "output_type": "stream",
     "text": [
      "[[ 99  74]\n",
      " [ 53 119]]\n",
      "              precision    recall  f1-score   support\n",
      "\n",
      "           0       0.65      0.57      0.61       173\n",
      "           1       0.62      0.69      0.65       172\n",
      "\n",
      "    accuracy                           0.63       345\n",
      "   macro avg       0.63      0.63      0.63       345\n",
      "weighted avg       0.63      0.63      0.63       345\n",
      "\n"
     ]
    }
   ],
   "source": [
    "assess(y_test, dtc_cv.best_estimator_.predict(X_test))"
   ]
  },
  {
   "cell_type": "markdown",
   "id": "f842c86d",
   "metadata": {},
   "source": [
    "dtc is seen to have 65% precision on train set and 64% on test.\n",
    "\n",
    "On to svc"
   ]
  },
  {
   "cell_type": "code",
   "execution_count": 52,
   "id": "61edb936",
   "metadata": {
    "ExecuteTime": {
     "end_time": "2023-05-12T16:10:10.924860Z",
     "start_time": "2023-05-12T16:10:10.873140Z"
    }
   },
   "outputs": [],
   "source": [
    "# assess(y_test, svc_cv.best_estimator_.predict(X_test))"
   ]
  },
  {
   "cell_type": "markdown",
   "id": "2ace34f7",
   "metadata": {},
   "source": [
    "svc is seen to have 81% precision on the train set and 67% on the test set. That implies overfitting. knn and dtc are definitely not overfitted and they have precisions close to 2/3 of the dataset. We will judge the best between the two by testing them on the validation set.\n",
    "\n",
    "dtc first"
   ]
  },
  {
   "cell_type": "code",
   "execution_count": 53,
   "id": "9b1f6ea2",
   "metadata": {
    "ExecuteTime": {
     "end_time": "2023-05-12T16:10:11.084920Z",
     "start_time": "2023-05-12T16:10:10.933248Z"
    }
   },
   "outputs": [
    {
     "name": "stdout",
     "output_type": "stream",
     "text": [
      "[[ 93  65]\n",
      " [ 46 142]]\n",
      "              precision    recall  f1-score   support\n",
      "\n",
      "           0       0.67      0.59      0.63       158\n",
      "           1       0.69      0.76      0.72       188\n",
      "\n",
      "    accuracy                           0.68       346\n",
      "   macro avg       0.68      0.67      0.67       346\n",
      "weighted avg       0.68      0.68      0.68       346\n",
      "\n"
     ]
    }
   ],
   "source": [
    "assess(y_val, dtc_cv.best_estimator_.predict(X_val))"
   ]
  },
  {
   "cell_type": "markdown",
   "id": "95541de3",
   "metadata": {},
   "source": [
    "DTC still hase 64% precision. What about knn?"
   ]
  },
  {
   "cell_type": "code",
   "execution_count": 54,
   "id": "8a49e0ba",
   "metadata": {
    "ExecuteTime": {
     "end_time": "2023-05-12T16:10:11.353133Z",
     "start_time": "2023-05-12T16:10:11.100899Z"
    }
   },
   "outputs": [
    {
     "name": "stdout",
     "output_type": "stream",
     "text": [
      "[[107  51]\n",
      " [ 56 132]]\n",
      "              precision    recall  f1-score   support\n",
      "\n",
      "           0       0.66      0.68      0.67       158\n",
      "           1       0.72      0.70      0.71       188\n",
      "\n",
      "    accuracy                           0.69       346\n",
      "   macro avg       0.69      0.69      0.69       346\n",
      "weighted avg       0.69      0.69      0.69       346\n",
      "\n"
     ]
    }
   ],
   "source": [
    "assess(y_val, knn_cv.best_estimator_.predict(X_val))"
   ]
  },
  {
   "cell_type": "markdown",
   "id": "26736b79",
   "metadata": {},
   "source": [
    "knn has 63%. Although the difference is not much, there is a good assurance that dtc will repeat its performance on more unseen datasets, unlike svc. Moreover, dtc allows to easily explore how important each feature is to the results.\n",
    "\n",
    "Therefore, the king model is **DecisionTreeClassifier**"
   ]
  },
  {
   "cell_type": "code",
   "execution_count": 55,
   "id": "16bfc3b8",
   "metadata": {
    "ExecuteTime": {
     "end_time": "2023-05-12T16:10:17.511699Z",
     "start_time": "2023-05-12T16:10:11.374254Z"
    }
   },
   "outputs": [
    {
     "data": {
      "text/html": [
       "<div>\n",
       "<style scoped>\n",
       "    .dataframe tbody tr th:only-of-type {\n",
       "        vertical-align: middle;\n",
       "    }\n",
       "\n",
       "    .dataframe tbody tr th {\n",
       "        vertical-align: top;\n",
       "    }\n",
       "\n",
       "    .dataframe thead th {\n",
       "        text-align: right;\n",
       "    }\n",
       "</style>\n",
       "<table border=\"1\" class=\"dataframe\">\n",
       "  <thead>\n",
       "    <tr style=\"text-align: right;\">\n",
       "      <th></th>\n",
       "      <th>Accuracy</th>\n",
       "      <th>Balanced Accuracy</th>\n",
       "      <th>F1 score</th>\n",
       "      <th>Recall</th>\n",
       "      <th>Precision</th>\n",
       "    </tr>\n",
       "  </thead>\n",
       "  <tbody>\n",
       "    <tr>\n",
       "      <th>Train</th>\n",
       "      <td>0.644718</td>\n",
       "      <td>0.641691</td>\n",
       "      <td>0.676974</td>\n",
       "      <td>0.715080</td>\n",
       "      <td>0.642723</td>\n",
       "    </tr>\n",
       "    <tr>\n",
       "      <th>Test</th>\n",
       "      <td>0.631884</td>\n",
       "      <td>0.632057</td>\n",
       "      <td>0.652055</td>\n",
       "      <td>0.691860</td>\n",
       "      <td>0.616580</td>\n",
       "    </tr>\n",
       "    <tr>\n",
       "      <th>Validation</th>\n",
       "      <td>0.679191</td>\n",
       "      <td>0.671963</td>\n",
       "      <td>0.718987</td>\n",
       "      <td>0.755319</td>\n",
       "      <td>0.685990</td>\n",
       "    </tr>\n",
       "  </tbody>\n",
       "</table>\n",
       "</div>"
      ],
      "text/plain": [
       "            Accuracy  Balanced Accuracy  F1 score    Recall  Precision\n",
       "Train       0.644718           0.641691  0.676974  0.715080   0.642723\n",
       "Test        0.631884           0.632057  0.652055  0.691860   0.616580\n",
       "Validation  0.679191           0.671963  0.718987  0.755319   0.685990"
      ]
     },
     "metadata": {},
     "output_type": "display_data"
    },
    {
     "data": {
      "text/html": [
       "<div>\n",
       "<style scoped>\n",
       "    .dataframe tbody tr th:only-of-type {\n",
       "        vertical-align: middle;\n",
       "    }\n",
       "\n",
       "    .dataframe tbody tr th {\n",
       "        vertical-align: top;\n",
       "    }\n",
       "\n",
       "    .dataframe thead th {\n",
       "        text-align: right;\n",
       "    }\n",
       "</style>\n",
       "<table border=\"1\" class=\"dataframe\">\n",
       "  <thead>\n",
       "    <tr style=\"text-align: right;\">\n",
       "      <th></th>\n",
       "      <th>Accuracy</th>\n",
       "      <th>Balanced Accuracy</th>\n",
       "      <th>F1 score</th>\n",
       "      <th>Recall</th>\n",
       "      <th>Precision</th>\n",
       "    </tr>\n",
       "  </thead>\n",
       "  <tbody>\n",
       "    <tr>\n",
       "      <th>Train</th>\n",
       "      <td>0.656657</td>\n",
       "      <td>0.656147</td>\n",
       "      <td>0.669683</td>\n",
       "      <td>0.668520</td>\n",
       "      <td>0.670851</td>\n",
       "    </tr>\n",
       "    <tr>\n",
       "      <th>Test</th>\n",
       "      <td>0.643478</td>\n",
       "      <td>0.643450</td>\n",
       "      <td>0.639296</td>\n",
       "      <td>0.633721</td>\n",
       "      <td>0.644970</td>\n",
       "    </tr>\n",
       "    <tr>\n",
       "      <th>Validation</th>\n",
       "      <td>0.690751</td>\n",
       "      <td>0.689671</td>\n",
       "      <td>0.711590</td>\n",
       "      <td>0.702128</td>\n",
       "      <td>0.721311</td>\n",
       "    </tr>\n",
       "  </tbody>\n",
       "</table>\n",
       "</div>"
      ],
      "text/plain": [
       "            Accuracy  Balanced Accuracy  F1 score    Recall  Precision\n",
       "Train       0.656657           0.656147  0.669683  0.668520   0.670851\n",
       "Test        0.643478           0.643450  0.639296  0.633721   0.644970\n",
       "Validation  0.690751           0.689671  0.711590  0.702128   0.721311"
      ]
     },
     "metadata": {},
     "output_type": "display_data"
    }
   ],
   "source": [
    "assess_classifier(dtc_cv.best_estimator_)\n",
    "assess_classifier(knn_cv.best_estimator_)\n"
   ]
  },
  {
   "cell_type": "code",
   "execution_count": 56,
   "id": "742f0224",
   "metadata": {
    "ExecuteTime": {
     "end_time": "2023-05-12T16:10:17.560776Z",
     "start_time": "2023-05-12T16:10:17.519690Z"
    }
   },
   "outputs": [],
   "source": [
    "model = dtc_cv.best_estimator_"
   ]
  },
  {
   "cell_type": "markdown",
   "id": "ca1cab3a",
   "metadata": {},
   "source": [
    "How important is each feature to the results we have?\n",
    "\n",
    "Let's visualize it."
   ]
  },
  {
   "cell_type": "code",
   "execution_count": 57,
   "id": "4ac69572",
   "metadata": {
    "ExecuteTime": {
     "end_time": "2023-05-12T16:10:19.194486Z",
     "start_time": "2023-05-12T16:10:17.576865Z"
    }
   },
   "outputs": [
    {
     "data": {
      "image/png": "[encoded data removed]",
      "text/plain": [
       "<Figure size 640x480 with 1 Axes>"
      ]
     },
     "metadata": {},
     "output_type": "display_data"
    }
   ],
   "source": [
    "feature_importance = pd.DataFrame(model.feature_importances_, index=X_train.columns)\n",
    "feature_importance.plot(kind='bar')\n",
    "plt.title('Plot of feature importance as captured by Decision Tree Classifier')\n",
    "plt.show()"
   ]
  },
  {
   "cell_type": "markdown",
   "id": "3d4d3016",
   "metadata": {},
   "source": [
    "Expectedly, the capacity of the venue is the strongest predictor that it will be wheelchair accessible or not. That implies that National accessibilty should pay more attention to venue size more. As established before, larger venues are more likely to have ramps."
   ]
  },
  {
   "cell_type": "markdown",
   "id": "1851f8f6",
   "metadata": {},
   "source": [
    "**BUSINESS FOCUS**\n",
    "\n",
    "The major problem NA is facing is the huge amount of money and time spent in reaching out to venues concerning their accessibility to wheelchairs. The purpose of this analysis is to reduce the amount of resources spent in the process by ensuring that almost every venue contacted does not have a ramp. The models developed have been able to approach that with assurance. It saves resources to first predict if the venue has a ramp (using these models) than to try reaching all of them.\n",
    "\n",
    "The two models confidently assure that 2/3 of the venues they label not to have Wheelchair accessibility are correct.\n",
    "\n",
    "In addition to the prediction,I recommend that future analysis should pay more attention venue description, building shape and size as those are very strong indicators of Wheelchair accessiblity."
   ]
  },
  {
   "cell_type": "markdown",
   "id": "09132a7b",
   "metadata": {},
   "source": [
    "--------------------------------------------------------------------------------------------------------------------"
   ]
  },
  {
   "cell_type": "markdown",
   "id": "4f959fa9",
   "metadata": {},
   "source": [
    "Let's stack these models and see the outcome"
   ]
  },
  {
   "cell_type": "code",
   "execution_count": 58,
   "id": "fbaaf1a5",
   "metadata": {
    "ExecuteTime": {
     "end_time": "2023-05-12T16:10:20.098100Z",
     "start_time": "2023-05-12T16:10:19.202486Z"
    }
   },
   "outputs": [
    {
     "name": "stderr",
     "output_type": "stream",
     "text": [
      "C:\\Users\\Tosin OLUYEMII\\.conda\\envs\\deeplearning\\lib\\site-packages\\sklearn\\svm\\_base.py:1244: ConvergenceWarning: Liblinear failed to converge, increase the number of iterations.\n",
      "  warnings.warn(\n"
     ]
    },
    {
     "data": {
      "text/html": [
       "<div>\n",
       "<style scoped>\n",
       "    .dataframe tbody tr th:only-of-type {\n",
       "        vertical-align: middle;\n",
       "    }\n",
       "\n",
       "    .dataframe tbody tr th {\n",
       "        vertical-align: top;\n",
       "    }\n",
       "\n",
       "    .dataframe thead th {\n",
       "        text-align: right;\n",
       "    }\n",
       "</style>\n",
       "<table border=\"1\" class=\"dataframe\">\n",
       "  <thead>\n",
       "    <tr style=\"text-align: right;\">\n",
       "      <th></th>\n",
       "      <th>Accuracy</th>\n",
       "      <th>Balanced Accuracy</th>\n",
       "      <th>F1 score</th>\n",
       "      <th>Recall</th>\n",
       "      <th>Precision</th>\n",
       "    </tr>\n",
       "  </thead>\n",
       "  <tbody>\n",
       "    <tr>\n",
       "      <th>Train</th>\n",
       "      <td>0.504703</td>\n",
       "      <td>0.517686</td>\n",
       "      <td>0.299027</td>\n",
       "      <td>0.202919</td>\n",
       "      <td>0.568093</td>\n",
       "    </tr>\n",
       "    <tr>\n",
       "      <th>Test</th>\n",
       "      <td>0.501449</td>\n",
       "      <td>0.500504</td>\n",
       "      <td>0.258621</td>\n",
       "      <td>0.174419</td>\n",
       "      <td>0.500000</td>\n",
       "    </tr>\n",
       "    <tr>\n",
       "      <th>Validation</th>\n",
       "      <td>0.473988</td>\n",
       "      <td>0.504343</td>\n",
       "      <td>0.241667</td>\n",
       "      <td>0.154255</td>\n",
       "      <td>0.557692</td>\n",
       "    </tr>\n",
       "  </tbody>\n",
       "</table>\n",
       "</div>"
      ],
      "text/plain": [
       "            Accuracy  Balanced Accuracy  F1 score    Recall  Precision\n",
       "Train       0.504703           0.517686  0.299027  0.202919   0.568093\n",
       "Test        0.501449           0.500504  0.258621  0.174419   0.500000\n",
       "Validation  0.473988           0.504343  0.241667  0.154255   0.557692"
      ]
     },
     "metadata": {},
     "output_type": "display_data"
    }
   ],
   "source": [
    "lsvc = LinearSVC(max_iter=1000)\n",
    "\n",
    "lsvc.fit(X_train, y_train)\n",
    "\n",
    "\n",
    "assess_classifier(lsvc)"
   ]
  },
  {
   "cell_type": "code",
   "execution_count": 59,
   "id": "ce292b33",
   "metadata": {
    "ExecuteTime": {
     "end_time": "2023-05-12T16:10:22.842743Z",
     "start_time": "2023-05-12T16:10:20.116906Z"
    }
   },
   "outputs": [
    {
     "data": {
      "text/html": [
       "<div>\n",
       "<style scoped>\n",
       "    .dataframe tbody tr th:only-of-type {\n",
       "        vertical-align: middle;\n",
       "    }\n",
       "\n",
       "    .dataframe tbody tr th {\n",
       "        vertical-align: top;\n",
       "    }\n",
       "\n",
       "    .dataframe thead th {\n",
       "        text-align: right;\n",
       "    }\n",
       "</style>\n",
       "<table border=\"1\" class=\"dataframe\">\n",
       "  <thead>\n",
       "    <tr style=\"text-align: right;\">\n",
       "      <th></th>\n",
       "      <th>Accuracy</th>\n",
       "      <th>Balanced Accuracy</th>\n",
       "      <th>F1 score</th>\n",
       "      <th>Recall</th>\n",
       "      <th>Precision</th>\n",
       "    </tr>\n",
       "  </thead>\n",
       "  <tbody>\n",
       "    <tr>\n",
       "      <th>Train</th>\n",
       "      <td>0.710203</td>\n",
       "      <td>0.710800</td>\n",
       "      <td>0.714439</td>\n",
       "      <td>0.696317</td>\n",
       "      <td>0.733529</td>\n",
       "    </tr>\n",
       "    <tr>\n",
       "      <th>Test</th>\n",
       "      <td>0.637681</td>\n",
       "      <td>0.637619</td>\n",
       "      <td>0.629080</td>\n",
       "      <td>0.616279</td>\n",
       "      <td>0.642424</td>\n",
       "    </tr>\n",
       "    <tr>\n",
       "      <th>Validation</th>\n",
       "      <td>0.716763</td>\n",
       "      <td>0.716637</td>\n",
       "      <td>0.733696</td>\n",
       "      <td>0.718085</td>\n",
       "      <td>0.750000</td>\n",
       "    </tr>\n",
       "  </tbody>\n",
       "</table>\n",
       "</div>"
      ],
      "text/plain": [
       "            Accuracy  Balanced Accuracy  F1 score    Recall  Precision\n",
       "Train       0.710203           0.710800  0.714439  0.696317   0.733529\n",
       "Test        0.637681           0.637619  0.629080  0.616279   0.642424\n",
       "Validation  0.716763           0.716637  0.733696  0.718085   0.750000"
      ]
     },
     "metadata": {},
     "output_type": "display_data"
    }
   ],
   "source": [
    "rfc = RandomForestClassifier(max_depth=8)\n",
    "\n",
    "rfc.fit(X_train, y_train)\n",
    "\n",
    "assess_classifier(rfc)"
   ]
  },
  {
   "cell_type": "code",
   "execution_count": 60,
   "id": "b9c29ea1",
   "metadata": {
    "ExecuteTime": {
     "end_time": "2023-05-12T16:11:01.753665Z",
     "start_time": "2023-05-12T16:10:22.858731Z"
    }
   },
   "outputs": [
    {
     "data": {
      "text/html": [
       "<div>\n",
       "<style scoped>\n",
       "    .dataframe tbody tr th:only-of-type {\n",
       "        vertical-align: middle;\n",
       "    }\n",
       "\n",
       "    .dataframe tbody tr th {\n",
       "        vertical-align: top;\n",
       "    }\n",
       "\n",
       "    .dataframe thead th {\n",
       "        text-align: right;\n",
       "    }\n",
       "</style>\n",
       "<table border=\"1\" class=\"dataframe\">\n",
       "  <thead>\n",
       "    <tr style=\"text-align: right;\">\n",
       "      <th></th>\n",
       "      <th>Accuracy</th>\n",
       "      <th>Balanced Accuracy</th>\n",
       "      <th>F1 score</th>\n",
       "      <th>Recall</th>\n",
       "      <th>Precision</th>\n",
       "    </tr>\n",
       "  </thead>\n",
       "  <tbody>\n",
       "    <tr>\n",
       "      <th>Train</th>\n",
       "      <td>0.660999</td>\n",
       "      <td>0.662618</td>\n",
       "      <td>0.656902</td>\n",
       "      <td>0.623350</td>\n",
       "      <td>0.694272</td>\n",
       "    </tr>\n",
       "    <tr>\n",
       "      <th>Test</th>\n",
       "      <td>0.634783</td>\n",
       "      <td>0.634645</td>\n",
       "      <td>0.615854</td>\n",
       "      <td>0.587209</td>\n",
       "      <td>0.647436</td>\n",
       "    </tr>\n",
       "    <tr>\n",
       "      <th>Validation</th>\n",
       "      <td>0.670520</td>\n",
       "      <td>0.673579</td>\n",
       "      <td>0.677966</td>\n",
       "      <td>0.638298</td>\n",
       "      <td>0.722892</td>\n",
       "    </tr>\n",
       "  </tbody>\n",
       "</table>\n",
       "</div>"
      ],
      "text/plain": [
       "            Accuracy  Balanced Accuracy  F1 score    Recall  Precision\n",
       "Train       0.660999           0.662618  0.656902  0.623350   0.694272\n",
       "Test        0.634783           0.634645  0.615854  0.587209   0.647436\n",
       "Validation  0.670520           0.673579  0.677966  0.638298   0.722892"
      ]
     },
     "metadata": {},
     "output_type": "display_data"
    }
   ],
   "source": [
    "vc = VotingClassifier(\n",
    "    estimators=[('dtc', dtc_cv.best_estimator_),\n",
    "\n",
    "                ('rfc', rfc),\n",
    "                ('knn', knn_cv.best_estimator_),\n",
    "                ('svc', svc)\n",
    "        \n",
    "    ],\n",
    "    \n",
    "    n_jobs=-1\n",
    ")\n",
    "\n",
    "\n",
    "vc.fit(X_train, y_train)\n",
    "\n",
    "assess_classifier(vc)"
   ]
  },
  {
   "cell_type": "code",
   "execution_count": 61,
   "id": "52265006",
   "metadata": {
    "ExecuteTime": {
     "end_time": "2023-05-12T16:11:36.937108Z",
     "start_time": "2023-05-12T16:11:01.761670Z"
    }
   },
   "outputs": [
    {
     "data": {
      "text/html": [
       "<div>\n",
       "<style scoped>\n",
       "    .dataframe tbody tr th:only-of-type {\n",
       "        vertical-align: middle;\n",
       "    }\n",
       "\n",
       "    .dataframe tbody tr th {\n",
       "        vertical-align: top;\n",
       "    }\n",
       "\n",
       "    .dataframe thead th {\n",
       "        text-align: right;\n",
       "    }\n",
       "</style>\n",
       "<table border=\"1\" class=\"dataframe\">\n",
       "  <thead>\n",
       "    <tr style=\"text-align: right;\">\n",
       "      <th></th>\n",
       "      <th>Accuracy</th>\n",
       "      <th>Balanced Accuracy</th>\n",
       "      <th>F1 score</th>\n",
       "      <th>Recall</th>\n",
       "      <th>Precision</th>\n",
       "    </tr>\n",
       "  </thead>\n",
       "  <tbody>\n",
       "    <tr>\n",
       "      <th>Train</th>\n",
       "      <td>0.655210</td>\n",
       "      <td>0.656132</td>\n",
       "      <td>0.656824</td>\n",
       "      <td>0.633773</td>\n",
       "      <td>0.681614</td>\n",
       "    </tr>\n",
       "    <tr>\n",
       "      <th>Test</th>\n",
       "      <td>0.643478</td>\n",
       "      <td>0.643366</td>\n",
       "      <td>0.628399</td>\n",
       "      <td>0.604651</td>\n",
       "      <td>0.654088</td>\n",
       "    </tr>\n",
       "    <tr>\n",
       "      <th>Validation</th>\n",
       "      <td>0.676301</td>\n",
       "      <td>0.676879</td>\n",
       "      <td>0.692308</td>\n",
       "      <td>0.670213</td>\n",
       "      <td>0.715909</td>\n",
       "    </tr>\n",
       "  </tbody>\n",
       "</table>\n",
       "</div>"
      ],
      "text/plain": [
       "            Accuracy  Balanced Accuracy  F1 score    Recall  Precision\n",
       "Train       0.655210           0.656132  0.656824  0.633773   0.681614\n",
       "Test        0.643478           0.643366  0.628399  0.604651   0.654088\n",
       "Validation  0.676301           0.676879  0.692308  0.670213   0.715909"
      ]
     },
     "metadata": {},
     "output_type": "display_data"
    }
   ],
   "source": [
    "param_grid = {\n",
    "    'weights':[[1, 2, 1, 2],\n",
    "               [2, 1, 2, 1]\n",
    "               ]\n",
    "}\n",
    "\n",
    "prec = make_scorer(met.precision_score)\n",
    "\n",
    "vc_cv = GridSearchCV(vc, param_grid=param_grid, scoring=prec, n_jobs=-1)\n",
    "\n",
    "vc_cv.fit(X_train, y_train)\n",
    "\n",
    "assess_classifier(vc_cv)"
   ]
  }
 ],
 "metadata": {
  "colab": {
   "name": "Welcome to DataCamp Workspaces.ipynb",
   "provenance": []
  },
  "editor": "DataCamp Workspace",
  "kernelspec": {
   "display_name": "Python 3 (ipykernel)",
   "language": "python",
   "name": "python3"
  },
  "language_info": {
   "codemirror_mode": {
    "name": "ipython",
    "version": 3
   },
   "file_extension": ".py",
   "mimetype": "text/x-python",
   "name": "python",
   "nbconvert_exporter": "python",
   "pygments_lexer": "ipython3",
   "version": "3.10.9"
  },
  "varInspector": {
   "cols": {
    "lenName": 16,
    "lenType": 16,
    "lenVar": 40
   },
   "kernels_config": {
    "python": {
     "delete_cmd_postfix": "",
     "delete_cmd_prefix": "del ",
     "library": "var_list.py",
     "varRefreshCmd": "print(var_dic_list())"
    },
    "r": {
     "delete_cmd_postfix": ") ",
     "delete_cmd_prefix": "rm(",
     "library": "var_list.r",
     "varRefreshCmd": "cat(var_dic_list()) "
    }
   },
   "types_to_exclude": [
    "module",
    "function",
    "builtin_function_or_method",
    "instance",
    "_Feature"
   ],
   "window_display": false
  },
  "vscode": {
   "interpreter": {
    "hash": "dd62058247632cd14a93c2697a8943b281677b56293068d4740acb417a0785ae"
   }
  }
 },
 "nbformat": 4,
 "nbformat_minor": 5
}
